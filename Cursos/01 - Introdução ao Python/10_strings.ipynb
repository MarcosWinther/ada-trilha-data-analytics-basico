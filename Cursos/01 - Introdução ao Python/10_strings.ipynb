{
  "nbformat": 4,
  "nbformat_minor": 0,
  "metadata": {
    "colab": {
      "provenance": []
    },
    "kernelspec": {
      "name": "python3",
      "display_name": "Python 3"
    },
    "language_info": {
      "name": "python"
    }
  },
  "cells": [
    {
      "cell_type": "markdown",
      "source": [
        "# 📜 Strings\n",
        "\n",
        "- `Strings` representam **dados textuais**.\n",
        "- Resumindo: uma `string` é uma coleção de caracteres!\n",
        "- Assim, podemos acessar caracteres específicos ou um intervalo de caracteres de uma string, como se fosse uma lista.\n",
        "\n",
        "<br>\n",
        "\n",
        "**Observação:** O índice começa em 0 para `strings` também, e podemos usar índices negativos."
      ],
      "metadata": {
        "id": "zSYfd8nTwVDO"
      }
    },
    {
      "cell_type": "code",
      "source": [
        "linguagem = \"Python\""
      ],
      "metadata": {
        "id": "czj4yfaR0U9D"
      },
      "execution_count": null,
      "outputs": []
    },
    {
      "cell_type": "code",
      "source": [
        "linguagem[0]"
      ],
      "metadata": {
        "colab": {
          "base_uri": "https://localhost:8080/",
          "height": 35
        },
        "id": "hniSiR3c0ewn",
        "outputId": "a7269350-fa52-45d5-bb41-e562efa78b7d"
      },
      "execution_count": null,
      "outputs": [
        {
          "output_type": "execute_result",
          "data": {
            "text/plain": [
              "'P'"
            ],
            "application/vnd.google.colaboratory.intrinsic+json": {
              "type": "string"
            }
          },
          "metadata": {},
          "execution_count": 2
        }
      ]
    },
    {
      "cell_type": "markdown",
      "source": [
        "- Através da  função ``len()``, podemos saber o comprimento da string, ou seja, a quantidade de caracteres.\n",
        "- São incluídos na contagem de caracteres: espaços e pontuações."
      ],
      "metadata": {
        "id": "-IcJO3mf0uCJ"
      }
    },
    {
      "cell_type": "code",
      "source": [
        "len(linguagem)"
      ],
      "metadata": {
        "colab": {
          "base_uri": "https://localhost:8080/"
        },
        "id": "FjlnMq2x07Xn",
        "outputId": "9a4ac251-0b9f-49c0-db10-ae32d9045542"
      },
      "execution_count": null,
      "outputs": [
        {
          "output_type": "execute_result",
          "data": {
            "text/plain": [
              "6"
            ]
          },
          "metadata": {},
          "execution_count": 3
        }
      ]
    },
    {
      "cell_type": "markdown",
      "source": [
        "- `Strings` são **objetos interávies**.\n",
        "- Com isso, podemos percorrer a `string` usando a estrutura de repetição `for`."
      ],
      "metadata": {
        "id": "LpyAi0Q01haO"
      }
    },
    {
      "cell_type": "code",
      "source": [
        "for caractere in linguagem:\n",
        "    print(caractere)"
      ],
      "metadata": {
        "colab": {
          "base_uri": "https://localhost:8080/"
        },
        "id": "oJk3F9JN2V3f",
        "outputId": "1841f3a6-722e-4ffd-f738-c5ac6be5e689"
      },
      "execution_count": null,
      "outputs": [
        {
          "output_type": "stream",
          "name": "stdout",
          "text": [
            "P\n",
            "y\n",
            "t\n",
            "h\n",
            "o\n",
            "n\n"
          ]
        }
      ]
    },
    {
      "cell_type": "markdown",
      "source": [
        "- Podemos ainda utilizar as funções: ``range()`` e ``len()``."
      ],
      "metadata": {
        "id": "3TrbxjJ32x3g"
      }
    },
    {
      "cell_type": "code",
      "source": [
        "for i in range(len(linguagem)):\n",
        "    print(linguagem[i])"
      ],
      "metadata": {
        "colab": {
          "base_uri": "https://localhost:8080/"
        },
        "id": "vU-NBbP926g6",
        "outputId": "b885ffbd-0461-4246-ae0d-ee36578443d9"
      },
      "execution_count": null,
      "outputs": [
        {
          "output_type": "stream",
          "name": "stdout",
          "text": [
            "P\n",
            "y\n",
            "t\n",
            "h\n",
            "o\n",
            "n\n"
          ]
        }
      ]
    },
    {
      "cell_type": "markdown",
      "source": [
        "- Apesar de se parecer com uma lista, a `string` não tem exatamente as propriedades de uma lista.\n",
        "- Por exemplo, não podemos alterar caracteres individualmente em uma `string`."
      ],
      "metadata": {
        "id": "QFD-pR6H3XGk"
      }
    },
    {
      "cell_type": "code",
      "source": [
        "lista = [1, 2, 4, 4]"
      ],
      "metadata": {
        "id": "hlerRqlW35OJ"
      },
      "execution_count": null,
      "outputs": []
    },
    {
      "cell_type": "code",
      "source": [
        "lista[2] = 3\n",
        "\n",
        "lista"
      ],
      "metadata": {
        "colab": {
          "base_uri": "https://localhost:8080/"
        },
        "id": "zbsvqqAe3-yV",
        "outputId": "4de64375-5117-4d98-ffc9-98e1021a2678"
      },
      "execution_count": null,
      "outputs": [
        {
          "output_type": "execute_result",
          "data": {
            "text/plain": [
              "[1, 2, 3, 4]"
            ]
          },
          "metadata": {},
          "execution_count": 9
        }
      ]
    },
    {
      "cell_type": "code",
      "source": [
        "# Esse código dará erro, pois não podemos alterar caracteres individualmente em uma string.\n",
        "linguagem[2] = \"e\""
      ],
      "metadata": {
        "colab": {
          "base_uri": "https://localhost:8080/",
          "height": 159
        },
        "id": "Znjp7zmr4Dfv",
        "outputId": "54695acf-1eae-4574-be78-fe9c2ead16b0"
      },
      "execution_count": null,
      "outputs": [
        {
          "output_type": "error",
          "ename": "TypeError",
          "evalue": "'str' object does not support item assignment",
          "traceback": [
            "\u001b[0;31m---------------------------------------------------------------------------\u001b[0m",
            "\u001b[0;31mTypeError\u001b[0m                                 Traceback (most recent call last)",
            "\u001b[0;32m<ipython-input-10-88f214b5d2d6>\u001b[0m in \u001b[0;36m<cell line: 0>\u001b[0;34m()\u001b[0m\n\u001b[1;32m      1\u001b[0m \u001b[0;31m# Esse código dará erro, pois não podemos alterar caracteres individualmente em uma string.\u001b[0m\u001b[0;34m\u001b[0m\u001b[0;34m\u001b[0m\u001b[0m\n\u001b[0;32m----> 2\u001b[0;31m \u001b[0mlinguagem\u001b[0m\u001b[0;34m[\u001b[0m\u001b[0;36m2\u001b[0m\u001b[0;34m]\u001b[0m \u001b[0;34m=\u001b[0m \u001b[0;34m\"e\"\u001b[0m\u001b[0;34m\u001b[0m\u001b[0;34m\u001b[0m\u001b[0m\n\u001b[0m",
            "\u001b[0;31mTypeError\u001b[0m: 'str' object does not support item assignment"
          ]
        }
      ]
    },
    {
      "cell_type": "markdown",
      "source": [
        "- Mas nós conseguimos alterar caracteres (ou palavras) com o método ``replace()``.\n",
        "- Porém, a **variável não é alterada!**\n",
        "- Para alterar a variável com a mudança feita utilizando a função ``replace()``, precisamos reatribuir essa variável utilizando essa função."
      ],
      "metadata": {
        "id": "GuAwibkD4T2J"
      }
    },
    {
      "cell_type": "code",
      "source": [
        "linguagem.replace(\"t\", \"T\")"
      ],
      "metadata": {
        "colab": {
          "base_uri": "https://localhost:8080/",
          "height": 35
        },
        "id": "XJFrRtY34rdE",
        "outputId": "840295c6-7aab-4323-c04f-b64883fabda6"
      },
      "execution_count": null,
      "outputs": [
        {
          "output_type": "execute_result",
          "data": {
            "text/plain": [
              "'PyThon'"
            ],
            "application/vnd.google.colaboratory.intrinsic+json": {
              "type": "string"
            }
          },
          "metadata": {},
          "execution_count": 11
        }
      ]
    },
    {
      "cell_type": "code",
      "source": [
        "linguagem"
      ],
      "metadata": {
        "colab": {
          "base_uri": "https://localhost:8080/",
          "height": 35
        },
        "id": "gK3siA505EY-",
        "outputId": "07d15fb0-75e6-485b-b18a-d9004b203297"
      },
      "execution_count": null,
      "outputs": [
        {
          "output_type": "execute_result",
          "data": {
            "text/plain": [
              "'Python'"
            ],
            "application/vnd.google.colaboratory.intrinsic+json": {
              "type": "string"
            }
          },
          "metadata": {},
          "execution_count": 12
        }
      ]
    },
    {
      "cell_type": "code",
      "source": [
        "# Reatribuindo a variável com a função replace\n",
        "linguagem = linguagem.replace(\"t\", \"T\")"
      ],
      "metadata": {
        "id": "zTJ0t9yn53mg"
      },
      "execution_count": null,
      "outputs": []
    },
    {
      "cell_type": "code",
      "source": [
        "linguagem"
      ],
      "metadata": {
        "colab": {
          "base_uri": "https://localhost:8080/",
          "height": 35
        },
        "id": "vnuhAYO_5_V0",
        "outputId": "cdc502ac-987f-4b13-a141-d849e5a58272"
      },
      "execution_count": null,
      "outputs": [
        {
          "output_type": "execute_result",
          "data": {
            "text/plain": [
              "'PyThon'"
            ],
            "application/vnd.google.colaboratory.intrinsic+json": {
              "type": "string"
            }
          },
          "metadata": {},
          "execution_count": 14
        }
      ]
    },
    {
      "cell_type": "markdown",
      "source": [
        "- Podemos **transformar uma string em uma lista de caracteres**, explicitamente, usando a fução ``list()``."
      ],
      "metadata": {
        "id": "MkWH4VzP5LZI"
      }
    },
    {
      "cell_type": "code",
      "source": [
        "linguagem = \"Python\"\n",
        "\n",
        "linguagem_lista = list(linguagem)"
      ],
      "metadata": {
        "id": "v8Wth47-6ar1"
      },
      "execution_count": null,
      "outputs": []
    },
    {
      "cell_type": "markdown",
      "source": [
        "- Com a **transformação da `string` em uma lista**, podemos alterar os caracteres individualmente."
      ],
      "metadata": {
        "id": "23EWiGm665sg"
      }
    },
    {
      "cell_type": "code",
      "source": [
        "linguagem_lista[2] = \"T\"\n",
        "\n",
        "linguagem_lista"
      ],
      "metadata": {
        "colab": {
          "base_uri": "https://localhost:8080/"
        },
        "id": "JlnpWcFA7Hmy",
        "outputId": "cf7e956f-a0e4-4ad5-eb6d-0698194a4a14"
      },
      "execution_count": null,
      "outputs": [
        {
          "output_type": "execute_result",
          "data": {
            "text/plain": [
              "['P', 'y', 'T', 'h', 'o', 'n']"
            ]
          },
          "metadata": {},
          "execution_count": 17
        }
      ]
    },
    {
      "cell_type": "markdown",
      "source": [
        "- E se quisermos **transformar uma lista em uma `string`, utilizando a função ``join()``."
      ],
      "metadata": {
        "id": "0KvbU9kh7gUQ"
      }
    },
    {
      "cell_type": "code",
      "source": [
        "\"\".join(linguagem_lista)"
      ],
      "metadata": {
        "colab": {
          "base_uri": "https://localhost:8080/",
          "height": 35
        },
        "id": "ADWNclxO7v6o",
        "outputId": "a8918a80-daa2-41a9-c7fa-d56d1ccf34c1"
      },
      "execution_count": null,
      "outputs": [
        {
          "output_type": "execute_result",
          "data": {
            "text/plain": [
              "'PyThon'"
            ],
            "application/vnd.google.colaboratory.intrinsic+json": {
              "type": "string"
            }
          },
          "metadata": {},
          "execution_count": 19
        }
      ]
    },
    {
      "cell_type": "code",
      "source": [
        "\"_\".join(linguagem_lista)"
      ],
      "metadata": {
        "colab": {
          "base_uri": "https://localhost:8080/",
          "height": 35
        },
        "id": "A048GCgj8UH-",
        "outputId": "3b34647b-04a8-4223-b842-ed5a6280174f"
      },
      "execution_count": null,
      "outputs": [
        {
          "output_type": "execute_result",
          "data": {
            "text/plain": [
              "'P_y_T_h_o_n'"
            ],
            "application/vnd.google.colaboratory.intrinsic+json": {
              "type": "string"
            }
          },
          "metadata": {},
          "execution_count": 20
        }
      ]
    },
    {
      "cell_type": "markdown",
      "source": [
        "<br>\n",
        "\n",
        "## 🔠 Operações com Strings"
      ],
      "metadata": {
        "id": "WzBppcnw8kCY"
      }
    },
    {
      "cell_type": "markdown",
      "source": [
        "- **Soma de strings:**  os caracteres serão concatenados."
      ],
      "metadata": {
        "id": "XUAuDKbF9Mzj"
      }
    },
    {
      "cell_type": "code",
      "source": [
        "\"ab\" + \"cd\""
      ],
      "metadata": {
        "colab": {
          "base_uri": "https://localhost:8080/",
          "height": 35
        },
        "id": "HssUB80X9XWA",
        "outputId": "185184b9-8b16-4821-f11c-f75845af4e37"
      },
      "execution_count": null,
      "outputs": [
        {
          "output_type": "execute_result",
          "data": {
            "text/plain": [
              "'abcd'"
            ],
            "application/vnd.google.colaboratory.intrinsic+json": {
              "type": "string"
            }
          },
          "metadata": {},
          "execution_count": 21
        }
      ]
    },
    {
      "cell_type": "markdown",
      "source": [
        "- **Multiplicação de string por inteiro:** ao multiplicar uma string por um número inteiro, a `string` é repetida."
      ],
      "metadata": {
        "id": "dB0Jy8X89tpd"
      }
    },
    {
      "cell_type": "code",
      "source": [
        "\"c\"*5"
      ],
      "metadata": {
        "colab": {
          "base_uri": "https://localhost:8080/",
          "height": 35
        },
        "id": "CdNQyiGo96Cw",
        "outputId": "cc791ed6-a009-4afd-dd06-e20e100861bc"
      },
      "execution_count": null,
      "outputs": [
        {
          "output_type": "execute_result",
          "data": {
            "text/plain": [
              "'ccccc'"
            ],
            "application/vnd.google.colaboratory.intrinsic+json": {
              "type": "string"
            }
          },
          "metadata": {},
          "execution_count": 22
        }
      ]
    },
    {
      "cell_type": "markdown",
      "source": [
        "- Vamos a exemplo legal utilizando essas operações em `strings`."
      ],
      "metadata": {
        "id": "NhYeeoX3-Xvg"
      }
    },
    {
      "cell_type": "code",
      "source": [
        "print(\"=\" * 50)\n",
        "print(\"Olá, seja bem-vindo!\".center(50))\n",
        "print(\"=\" * 50)"
      ],
      "metadata": {
        "colab": {
          "base_uri": "https://localhost:8080/"
        },
        "id": "EzhUNr0R-iyv",
        "outputId": "195f618a-c2a6-4328-e41a-f8ad173f9719"
      },
      "execution_count": null,
      "outputs": [
        {
          "output_type": "stream",
          "name": "stdout",
          "text": [
            "==================================================\n",
            "               Olá, seja bem-vindo!               \n",
            "==================================================\n"
          ]
        }
      ]
    },
    {
      "cell_type": "markdown",
      "source": [
        "<br>\n",
        "\n",
        "## ✂️🔤 Métodos Strings\n",
        "\n",
        "- As `strings` também possuem funções específicas.\n",
        "- Os métodos são as funções específicas, exemplos de métodos:"
      ],
      "metadata": {
        "id": "rV54NHl6_neB"
      }
    },
    {
      "cell_type": "code",
      "source": [
        "# Função print\n",
        "print(\"Olá, mundo!\")"
      ],
      "metadata": {
        "colab": {
          "base_uri": "https://localhost:8080/"
        },
        "id": "LUm9nmjN_5JC",
        "outputId": "36b31f82-8913-419f-bba7-ef485afef127"
      },
      "execution_count": null,
      "outputs": [
        {
          "output_type": "stream",
          "name": "stdout",
          "text": [
            "Olá, mundo!\n"
          ]
        }
      ]
    },
    {
      "cell_type": "code",
      "source": [
        "# Função Center\n",
        "\"Olá, mundo!\".center(50)"
      ],
      "metadata": {
        "colab": {
          "base_uri": "https://localhost:8080/",
          "height": 35
        },
        "id": "aqInw1P-_-9d",
        "outputId": "327d766e-b211-4f6a-e321-d703094adabf"
      },
      "execution_count": null,
      "outputs": [
        {
          "output_type": "execute_result",
          "data": {
            "text/plain": [
              "'                   Olá, mundo!                    '"
            ],
            "application/vnd.google.colaboratory.intrinsic+json": {
              "type": "string"
            }
          },
          "metadata": {},
          "execution_count": 27
        }
      ]
    },
    {
      "cell_type": "markdown",
      "source": [
        "<br>\n",
        "\n",
        "Vejamos mais algumas funções:\n",
        "\n",
        "<br>"
      ],
      "metadata": {
        "id": "hpgPw7fJA1mU"
      }
    },
    {
      "cell_type": "markdown",
      "source": [
        "- `.upper()`: transforma todos os caracteres em maiúsculo."
      ],
      "metadata": {
        "id": "d7S_w0Zm5JtL"
      }
    },
    {
      "cell_type": "code",
      "source": [
        "boas_vindas = \"Olá, seja bem-vindo!\""
      ],
      "metadata": {
        "id": "1GwgC5hc5U01"
      },
      "execution_count": null,
      "outputs": []
    },
    {
      "cell_type": "code",
      "source": [
        "boas_vindas.upper()"
      ],
      "metadata": {
        "colab": {
          "base_uri": "https://localhost:8080/",
          "height": 35
        },
        "id": "dMI6KXw55tz5",
        "outputId": "0eb4cdf1-7df7-444b-e090-2248bdf8a711"
      },
      "execution_count": null,
      "outputs": [
        {
          "output_type": "execute_result",
          "data": {
            "text/plain": [
              "'OLÁ, SEJA BEM-VINDO!'"
            ],
            "application/vnd.google.colaboratory.intrinsic+json": {
              "type": "string"
            }
          },
          "metadata": {},
          "execution_count": 2
        }
      ]
    },
    {
      "cell_type": "markdown",
      "source": [
        "- `.lower()`: transforma todos os caracteres em minúsculo."
      ],
      "metadata": {
        "id": "BpkbIUMx6DmM"
      }
    },
    {
      "cell_type": "code",
      "source": [
        "boas_vindas.lower()"
      ],
      "metadata": {
        "colab": {
          "base_uri": "https://localhost:8080/",
          "height": 35
        },
        "id": "JIIR6A3T6H9z",
        "outputId": "c337ba51-1bcc-4848-9ab7-5fd26b45b164"
      },
      "execution_count": null,
      "outputs": [
        {
          "output_type": "execute_result",
          "data": {
            "text/plain": [
              "'olá, seja bem-vindo!'"
            ],
            "application/vnd.google.colaboratory.intrinsic+json": {
              "type": "string"
            }
          },
          "metadata": {},
          "execution_count": 3
        }
      ]
    },
    {
      "cell_type": "markdown",
      "source": [
        "- `title()`: deixa a primeira letra de cada palavra em maiúscula."
      ],
      "metadata": {
        "id": "zBxbmYoK6WX7"
      }
    },
    {
      "cell_type": "code",
      "source": [
        "boas_vindas.title()"
      ],
      "metadata": {
        "colab": {
          "base_uri": "https://localhost:8080/",
          "height": 35
        },
        "id": "Ok9GJXOt6bo5",
        "outputId": "54d5dbe0-5ba4-404e-efcb-468cb92980c7"
      },
      "execution_count": null,
      "outputs": [
        {
          "output_type": "execute_result",
          "data": {
            "text/plain": [
              "'Olá, Seja Bem-Vindo!'"
            ],
            "application/vnd.google.colaboratory.intrinsic+json": {
              "type": "string"
            }
          },
          "metadata": {},
          "execution_count": 4
        }
      ]
    },
    {
      "cell_type": "markdown",
      "source": [
        "- `.capitalize()`: deixa a primeira letra da primeira palavra em maiúscula."
      ],
      "metadata": {
        "id": "1LcrTpUo6qdQ"
      }
    },
    {
      "cell_type": "code",
      "source": [
        "boas_vindas.capitalize()"
      ],
      "metadata": {
        "colab": {
          "base_uri": "https://localhost:8080/",
          "height": 35
        },
        "id": "nThDVO8V60-H",
        "outputId": "50624755-2489-4c20-ae2e-307ed51d49f6"
      },
      "execution_count": null,
      "outputs": [
        {
          "output_type": "execute_result",
          "data": {
            "text/plain": [
              "'Olá, seja bem-vindo!'"
            ],
            "application/vnd.google.colaboratory.intrinsic+json": {
              "type": "string"
            }
          },
          "metadata": {},
          "execution_count": 5
        }
      ]
    },
    {
      "cell_type": "markdown",
      "source": [
        "- É possível quebrar uma `string` em determinado caractere, tendo como resultado uma lista com os caracteres além da quebra.\n",
        "- Para quebrar nos espaços, use a função \"`.split()`\", sem argumento."
      ],
      "metadata": {
        "id": "lNObXQAM7T4n"
      }
    },
    {
      "cell_type": "code",
      "source": [
        "boas_vindas.split()"
      ],
      "metadata": {
        "colab": {
          "base_uri": "https://localhost:8080/"
        },
        "id": "pp-LVqn67dRH",
        "outputId": "d117bd63-4563-4ec0-e027-44775b526ba2"
      },
      "execution_count": null,
      "outputs": [
        {
          "output_type": "execute_result",
          "data": {
            "text/plain": [
              "['Olá,', 'seja', 'bem-vindo!']"
            ]
          },
          "metadata": {},
          "execution_count": 6
        }
      ]
    },
    {
      "cell_type": "code",
      "source": [
        "frase = \"Esta é uma frase com dez palavras para teste.\"\n",
        "\n",
        "# Usando a função split com argumentos\n",
        "frase.split(\"e\")"
      ],
      "metadata": {
        "colab": {
          "base_uri": "https://localhost:8080/"
        },
        "id": "vpdO7Tf8f5CN",
        "outputId": "9cf8ecd4-ec01-4d4f-9b62-0cec586ad99b"
      },
      "execution_count": 1,
      "outputs": [
        {
          "output_type": "execute_result",
          "data": {
            "text/plain": [
              "['Esta é uma fras', ' com d', 'z palavras para t', 'st', '.']"
            ]
          },
          "metadata": {},
          "execution_count": 1
        }
      ]
    },
    {
      "cell_type": "markdown",
      "source": [
        "- `.strip()`: tira espaços que estão sobrando no fim e no início da **string**.\n",
        "\n",
        "**Observação:** essa função não elimina espaços extras no \"meio\" da string, apenas no início e no fim!"
      ],
      "metadata": {
        "id": "w5nxKIH8gv1T"
      }
    },
    {
      "cell_type": "code",
      "source": [
        "frase_com_espacos = \"   Esta é uma frase com espaços.   \"\n",
        "\n",
        "frase_com_espacos"
      ],
      "metadata": {
        "colab": {
          "base_uri": "https://localhost:8080/",
          "height": 35
        },
        "id": "1ia4cKA6hEem",
        "outputId": "7c51d960-542c-4ae7-8ece-e7646122dc9b"
      },
      "execution_count": 3,
      "outputs": [
        {
          "output_type": "execute_result",
          "data": {
            "text/plain": [
              "'   Esta é uma frase com espaços.   '"
            ],
            "application/vnd.google.colaboratory.intrinsic+json": {
              "type": "string"
            }
          },
          "metadata": {},
          "execution_count": 3
        }
      ]
    },
    {
      "cell_type": "code",
      "source": [
        "frase_com_espacos.strip()"
      ],
      "metadata": {
        "colab": {
          "base_uri": "https://localhost:8080/",
          "height": 35
        },
        "id": "tcy79dTbhdZH",
        "outputId": "a25fd58f-87c4-4e95-c766-2d4eafedc694"
      },
      "execution_count": 4,
      "outputs": [
        {
          "output_type": "execute_result",
          "data": {
            "text/plain": [
              "'Esta é uma frase com espaços.'"
            ],
            "application/vnd.google.colaboratory.intrinsic+json": {
              "type": "string"
            }
          },
          "metadata": {},
          "execution_count": 4
        }
      ]
    },
    {
      "cell_type": "markdown",
      "source": [
        "__Se quisermos tirar os espaços do meio, podemos fazer:__"
      ],
      "metadata": {
        "id": "LfAYWA2piXat"
      }
    },
    {
      "cell_type": "code",
      "source": [
        "minha_variavel = \"   This is   a string  with   many spaces.  \"\n",
        "\n",
        "minha_variavel"
      ],
      "metadata": {
        "colab": {
          "base_uri": "https://localhost:8080/",
          "height": 35
        },
        "id": "MPYhqBL4ifv0",
        "outputId": "4400dac8-bb18-4a07-b6d9-fbaaff5ed7db"
      },
      "execution_count": 6,
      "outputs": [
        {
          "output_type": "execute_result",
          "data": {
            "text/plain": [
              "'   This is   a string  with   many spaces.  '"
            ],
            "application/vnd.google.colaboratory.intrinsic+json": {
              "type": "string"
            }
          },
          "metadata": {},
          "execution_count": 6
        }
      ]
    },
    {
      "cell_type": "code",
      "source": [
        "\" \".join(minha_variavel.split())"
      ],
      "metadata": {
        "colab": {
          "base_uri": "https://localhost:8080/",
          "height": 35
        },
        "id": "d5HfANXhi7aF",
        "outputId": "b14ac2b9-355c-414d-b5de-faf04066ff9e"
      },
      "execution_count": 7,
      "outputs": [
        {
          "output_type": "execute_result",
          "data": {
            "text/plain": [
              "'This is a string with many spaces.'"
            ],
            "application/vnd.google.colaboratory.intrinsic+json": {
              "type": "string"
            }
          },
          "metadata": {},
          "execution_count": 7
        }
      ]
    },
    {
      "cell_type": "markdown",
      "source": [
        "- Outras funções interessantes:"
      ],
      "metadata": {
        "id": "87YVenxUj8PP"
      }
    },
    {
      "cell_type": "code",
      "source": [
        "letra = \"m\""
      ],
      "metadata": {
        "id": "O38hQHuoj_4-"
      },
      "execution_count": 14,
      "outputs": []
    },
    {
      "cell_type": "code",
      "source": [
        "# Função isdigit\n",
        "letra.isdigit()"
      ],
      "metadata": {
        "colab": {
          "base_uri": "https://localhost:8080/"
        },
        "id": "12A9JMMykcaj",
        "outputId": "b771c017-3eef-4fdc-c90e-d3cfbe837a2a"
      },
      "execution_count": 15,
      "outputs": [
        {
          "output_type": "execute_result",
          "data": {
            "text/plain": [
              "False"
            ]
          },
          "metadata": {},
          "execution_count": 15
        }
      ]
    },
    {
      "cell_type": "code",
      "source": [
        "# Função isalpha\n",
        "letra.isalpha()"
      ],
      "metadata": {
        "colab": {
          "base_uri": "https://localhost:8080/"
        },
        "id": "tKepVwfyke9Z",
        "outputId": "685b25e0-7d39-4e12-dc91-93213dc5fb92"
      },
      "execution_count": 16,
      "outputs": [
        {
          "output_type": "execute_result",
          "data": {
            "text/plain": [
              "True"
            ]
          },
          "metadata": {},
          "execution_count": 16
        }
      ]
    },
    {
      "cell_type": "code",
      "source": [
        "# Função isalnum\n",
        "letra.isalnum()"
      ],
      "metadata": {
        "colab": {
          "base_uri": "https://localhost:8080/"
        },
        "id": "71bxrPBvkvT9",
        "outputId": "513386f0-bcc8-4063-a1fa-21b5d2f571a3"
      },
      "execution_count": 17,
      "outputs": [
        {
          "output_type": "execute_result",
          "data": {
            "text/plain": [
              "True"
            ]
          },
          "metadata": {},
          "execution_count": 17
        }
      ]
    },
    {
      "cell_type": "code",
      "source": [
        "# Função isspace\n",
        "letra.isspace()"
      ],
      "metadata": {
        "colab": {
          "base_uri": "https://localhost:8080/"
        },
        "id": "h4zSZ745k32-",
        "outputId": "a04553a5-0a63-47ae-b87c-cb36c37ebbb8"
      },
      "execution_count": 18,
      "outputs": [
        {
          "output_type": "execute_result",
          "data": {
            "text/plain": [
              "False"
            ]
          },
          "metadata": {},
          "execution_count": 18
        }
      ]
    },
    {
      "cell_type": "code",
      "source": [
        "variavel = \"Minha frase!@#$%¨&*()_+=-`´1234567890\"\n",
        "\n",
        "lista_letras = []\n",
        "lista_numeros = []\n",
        "lista_simbolos = []\n",
        "\n",
        "for caractere in variavel:\n",
        "    if caractere.isalpha():\n",
        "        lista_letras.append(caractere)\n",
        "    elif caractere.isdigit():\n",
        "        lista_numeros.append(caractere)\n",
        "    else:\n",
        "        lista_simbolos.append(caractere)"
      ],
      "metadata": {
        "id": "Hwv-nUSzlVgf"
      },
      "execution_count": 19,
      "outputs": []
    },
    {
      "cell_type": "code",
      "source": [
        "lista_letras"
      ],
      "metadata": {
        "colab": {
          "base_uri": "https://localhost:8080/"
        },
        "id": "7mhkZAI1mR81",
        "outputId": "09ec2b6e-d059-4d3b-8329-1b2ae1857801"
      },
      "execution_count": 20,
      "outputs": [
        {
          "output_type": "execute_result",
          "data": {
            "text/plain": [
              "['M', 'i', 'n', 'h', 'a', 'f', 'r', 'a', 's', 'e']"
            ]
          },
          "metadata": {},
          "execution_count": 20
        }
      ]
    },
    {
      "cell_type": "code",
      "source": [
        "lista_numeros"
      ],
      "metadata": {
        "colab": {
          "base_uri": "https://localhost:8080/"
        },
        "id": "D0ucdr3QmVtG",
        "outputId": "8c13ef70-9ea1-4771-e094-4d0f27c6c857"
      },
      "execution_count": 21,
      "outputs": [
        {
          "output_type": "execute_result",
          "data": {
            "text/plain": [
              "['1', '2', '3', '4', '5', '6', '7', '8', '9', '0']"
            ]
          },
          "metadata": {},
          "execution_count": 21
        }
      ]
    },
    {
      "cell_type": "code",
      "source": [
        "lista_simbolos"
      ],
      "metadata": {
        "colab": {
          "base_uri": "https://localhost:8080/"
        },
        "id": "JisAylDKmYK9",
        "outputId": "23806d65-f74a-4b3b-c187-6f53f9b87593"
      },
      "execution_count": 22,
      "outputs": [
        {
          "output_type": "execute_result",
          "data": {
            "text/plain": [
              "[' ',\n",
              " '!',\n",
              " '@',\n",
              " '#',\n",
              " '$',\n",
              " '%',\n",
              " '¨',\n",
              " '&',\n",
              " '*',\n",
              " '(',\n",
              " ')',\n",
              " '_',\n",
              " '+',\n",
              " '=',\n",
              " '-',\n",
              " '`',\n",
              " '´']"
            ]
          },
          "metadata": {},
          "execution_count": 22
        }
      ]
    },
    {
      "cell_type": "markdown",
      "source": [
        "<br>\n",
        "\n",
        "## 📝 Formatação de Strings\n",
        "\n",
        "Aprenderemos agora algumas formatações de `strings`."
      ],
      "metadata": {
        "id": "9Fo820fSnEJF"
      }
    },
    {
      "cell_type": "markdown",
      "source": [
        "- **Data**"
      ],
      "metadata": {
        "id": "S0b0o2fB7B4B"
      }
    },
    {
      "cell_type": "code",
      "source": [
        "dia = 18\n",
        "mes = 2\n",
        "ano = 2025"
      ],
      "metadata": {
        "id": "1ib2XBYVoAfP"
      },
      "execution_count": 1,
      "outputs": []
    },
    {
      "cell_type": "code",
      "source": [
        "# Usando o print\n",
        "print(f\"{dia}/{mes}/{ano}\")"
      ],
      "metadata": {
        "colab": {
          "base_uri": "https://localhost:8080/"
        },
        "id": "i5gLqWyroIiO",
        "outputId": "22106f6d-d570-46dd-d3f8-0af6f2614081"
      },
      "execution_count": 2,
      "outputs": [
        {
          "output_type": "stream",
          "name": "stdout",
          "text": [
            "18/2/2025\n"
          ]
        }
      ]
    },
    {
      "cell_type": "code",
      "source": [
        "# Usando o método format\n",
        "\"{}/{}/{}\".format(dia, mes, ano)"
      ],
      "metadata": {
        "colab": {
          "base_uri": "https://localhost:8080/",
          "height": 35
        },
        "id": "RWZfe0wGopHD",
        "outputId": "8b365ee5-aa2a-46ce-f946-0b51ae722e26"
      },
      "execution_count": 3,
      "outputs": [
        {
          "output_type": "execute_result",
          "data": {
            "text/plain": [
              "'18/2/2025'"
            ],
            "application/vnd.google.colaboratory.intrinsic+json": {
              "type": "string"
            }
          },
          "metadata": {},
          "execution_count": 3
        }
      ]
    },
    {
      "cell_type": "code",
      "source": [
        "string_data = \"{:02d}/{:02d}/{:04d}\".format(dia, mes, ano)\n",
        "\n",
        "print(string_data)"
      ],
      "metadata": {
        "colab": {
          "base_uri": "https://localhost:8080/"
        },
        "id": "zY4vhPNN6n7A",
        "outputId": "264a75a4-2d68-420f-aaaf-514e4523d194"
      },
      "execution_count": 5,
      "outputs": [
        {
          "output_type": "stream",
          "name": "stdout",
          "text": [
            "18/02/2025\n"
          ]
        }
      ]
    },
    {
      "cell_type": "markdown",
      "source": [
        "- **Preços**"
      ],
      "metadata": {
        "id": "sVBM7hYx719b"
      }
    },
    {
      "cell_type": "code",
      "source": [
        "preco_celular = 1450.90\n",
        "\n",
        "# Nota: será exibido \"Preço do celular é: R$ 1450.9\"\n",
        "print(\"Preço do celular é: R$\", preco_celular)"
      ],
      "metadata": {
        "colab": {
          "base_uri": "https://localhost:8080/"
        },
        "id": "3uEkZO9q7-c7",
        "outputId": "7c0d9bbf-ac3c-4f33-a8dc-0d3f88ae4785"
      },
      "execution_count": 6,
      "outputs": [
        {
          "output_type": "stream",
          "name": "stdout",
          "text": [
            "Preço do celular é: R$ 1450.9\n"
          ]
        }
      ]
    },
    {
      "cell_type": "code",
      "source": [
        "# Usando a função format\n",
        "\"{:.2f}\".format(preco_celular)"
      ],
      "metadata": {
        "colab": {
          "base_uri": "https://localhost:8080/",
          "height": 35
        },
        "id": "BaMBTL6O8oP8",
        "outputId": "1dcdb130-3957-45af-cd86-998abedf7f6d"
      },
      "execution_count": 7,
      "outputs": [
        {
          "output_type": "execute_result",
          "data": {
            "text/plain": [
              "'1450.90'"
            ],
            "application/vnd.google.colaboratory.intrinsic+json": {
              "type": "string"
            }
          },
          "metadata": {},
          "execution_count": 7
        }
      ]
    },
    {
      "cell_type": "markdown",
      "source": [
        "- Uma outra forma interessante de formatar `strings` é com a utilização das chamadas **f strings**.\n",
        "- Essa formatação permite que coloquemos facilmente variáveis em strings, de maneira fluida!\n",
        "- Essa construção é super útil sobretudo na construção de exibições mais complexas."
      ],
      "metadata": {
        "id": "8K9gSrto9dxn"
      }
    },
    {
      "cell_type": "code",
      "source": [
        "f\"Preço do celular é: R$ {preco_celular:.2f}\""
      ],
      "metadata": {
        "colab": {
          "base_uri": "https://localhost:8080/",
          "height": 35
        },
        "id": "UG6vM1PC9pkk",
        "outputId": "d1a97cae-cd7a-4928-9afd-d58dbaa60c25"
      },
      "execution_count": 8,
      "outputs": [
        {
          "output_type": "execute_result",
          "data": {
            "text/plain": [
              "'Preço do celular é: R$ 1450.90'"
            ],
            "application/vnd.google.colaboratory.intrinsic+json": {
              "type": "string"
            }
          },
          "metadata": {},
          "execution_count": 8
        }
      ]
    },
    {
      "cell_type": "markdown",
      "source": [
        "<br>\n",
        "\n",
        "---"
      ],
      "metadata": {
        "id": "FZ44PWRw_Dsn"
      }
    },
    {
      "cell_type": "markdown",
      "source": [
        "## 👨‍💻 Exemplo com uso de Listas e Strings"
      ],
      "metadata": {
        "id": "MQ91vw95_G7A"
      }
    },
    {
      "cell_type": "code",
      "source": [
        "estado_civil = input(\"Digite seu estado civil: S, C, V ou D: \").upper()\n",
        "\n",
        "while estado_civil not in [\"S\", \"C\", \"V\", \"D\"]:\n",
        "    print(\"Estado civil inválido!\")\n",
        "    estado_civil = input(\"Digite seu estado civil: S, C, V ou D: \").upper()\n",
        "\n",
        "print(f\"Seu estado civil é: {estado_civil}\")"
      ],
      "metadata": {
        "colab": {
          "base_uri": "https://localhost:8080/"
        },
        "id": "P0V4sFeA_T8A",
        "outputId": "42945eab-6507-4475-9b3d-a79063cc24be"
      },
      "execution_count": 13,
      "outputs": [
        {
          "output_type": "stream",
          "name": "stdout",
          "text": [
            "Digite seu estado civil: S, C, V ou D: solteiro\n",
            "Estado civil inválido!\n",
            "Digite seu estado civil: S, C, V ou D: s\n",
            "Seu estado civil é: S\n"
          ]
        }
      ]
    }
  ]
}