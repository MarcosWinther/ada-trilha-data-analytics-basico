{
  "nbformat": 4,
  "nbformat_minor": 0,
  "metadata": {
    "colab": {
      "provenance": []
    },
    "kernelspec": {
      "name": "python3",
      "display_name": "Python 3"
    },
    "language_info": {
      "name": "python"
    }
  },
  "cells": [
    {
      "cell_type": "markdown",
      "source": [
        "# 🔗 Operadores Lógicos\n",
        "\n",
        "## ⚖️ Operadores Lógicos de Comparação\n",
        "  - Os operadores utilizados para comparação são:\n",
        "    - Maior que: ``>``\n",
        "    - Maior ou igual: ``>=``\n",
        "    - Menor que: ``<``\n",
        "    - Menor ou igual: ``<=``\n",
        "    - Igual: ``==``\n",
        "    - Diferente: ``!=``\n",
        "  \n",
        "  - O resultado de uma comparação sempre vai ser um booleano, isto é, **``True``** ou **``False``**!\n",
        "\n",
        "  - **Exemplos de códigos:**"
      ],
      "metadata": {
        "id": "Ddyu-WWDv6jI"
      }
    },
    {
      "cell_type": "code",
      "source": [
        "numero = 10"
      ],
      "metadata": {
        "id": "GB2TTSU49AEQ"
      },
      "execution_count": null,
      "outputs": []
    },
    {
      "cell_type": "code",
      "source": [
        "# 10 < 100\n",
        "numero < 100"
      ],
      "metadata": {
        "colab": {
          "base_uri": "https://localhost:8080/"
        },
        "id": "RwbTHy7PME7M",
        "outputId": "1b3d6396-90e5-482e-da7a-3bd23f87590e"
      },
      "execution_count": null,
      "outputs": [
        {
          "output_type": "execute_result",
          "data": {
            "text/plain": [
              "True"
            ]
          },
          "metadata": {},
          "execution_count": 2
        }
      ]
    },
    {
      "cell_type": "code",
      "source": [
        "# 10 > 100\n",
        "numero > 100"
      ],
      "metadata": {
        "colab": {
          "base_uri": "https://localhost:8080/"
        },
        "id": "DSGkOSRVMdvS",
        "outputId": "bc5ad749-bd62-4396-db34-20b493e1b5a0"
      },
      "execution_count": null,
      "outputs": [
        {
          "output_type": "execute_result",
          "data": {
            "text/plain": [
              "False"
            ]
          },
          "metadata": {},
          "execution_count": 3
        }
      ]
    },
    {
      "cell_type": "code",
      "source": [
        "# 10 == 100\n",
        "numero == 100"
      ],
      "metadata": {
        "colab": {
          "base_uri": "https://localhost:8080/"
        },
        "id": "WmWuA2pXMmhJ",
        "outputId": "9133f983-a90f-4d67-c484-c87db8640866"
      },
      "execution_count": null,
      "outputs": [
        {
          "output_type": "execute_result",
          "data": {
            "text/plain": [
              "False"
            ]
          },
          "metadata": {},
          "execution_count": 4
        }
      ]
    },
    {
      "cell_type": "code",
      "source": [
        "# 10 != 100\n",
        "numero != 100"
      ],
      "metadata": {
        "colab": {
          "base_uri": "https://localhost:8080/"
        },
        "id": "EXXHS-uxMu_s",
        "outputId": "88d39b1a-1436-42b2-ffd0-a20244136366"
      },
      "execution_count": null,
      "outputs": [
        {
          "output_type": "execute_result",
          "data": {
            "text/plain": [
              "True"
            ]
          },
          "metadata": {},
          "execution_count": 5
        }
      ]
    },
    {
      "cell_type": "markdown",
      "source": [
        "  - Podemos fazer comparações com duas ou mais variáveis."
      ],
      "metadata": {
        "id": "x1hoicQORG2O"
      }
    },
    {
      "cell_type": "code",
      "source": [
        "numero2 = 50"
      ],
      "metadata": {
        "id": "EWxwM3VIRaHw"
      },
      "execution_count": null,
      "outputs": []
    },
    {
      "cell_type": "code",
      "source": [
        "# 10 > 50\n",
        "numero > numero2"
      ],
      "metadata": {
        "colab": {
          "base_uri": "https://localhost:8080/"
        },
        "id": "334T6rZVRe81",
        "outputId": "125aa3ec-1e72-42a4-db5c-f4075aa8f8fa"
      },
      "execution_count": null,
      "outputs": [
        {
          "output_type": "execute_result",
          "data": {
            "text/plain": [
              "False"
            ]
          },
          "metadata": {},
          "execution_count": 7
        }
      ]
    },
    {
      "cell_type": "code",
      "source": [
        "# 10 < 50\n",
        "numero < numero2"
      ],
      "metadata": {
        "colab": {
          "base_uri": "https://localhost:8080/"
        },
        "id": "xhY1T59SRl0i",
        "outputId": "c3e40294-2609-4b34-98dd-c0f495e4d463"
      },
      "execution_count": null,
      "outputs": [
        {
          "output_type": "execute_result",
          "data": {
            "text/plain": [
              "True"
            ]
          },
          "metadata": {},
          "execution_count": 8
        }
      ]
    },
    {
      "cell_type": "code",
      "source": [
        "numero3 = 4.84"
      ],
      "metadata": {
        "id": "VSnw6ITsR-ga"
      },
      "execution_count": null,
      "outputs": []
    },
    {
      "cell_type": "code",
      "source": [
        "# 4.84 < 10\n",
        "numero3 < numero"
      ],
      "metadata": {
        "colab": {
          "base_uri": "https://localhost:8080/"
        },
        "id": "JAwxkGQ9SEiW",
        "outputId": "ec05c2ed-a213-43cc-f64d-22c5b749968d"
      },
      "execution_count": null,
      "outputs": [
        {
          "output_type": "execute_result",
          "data": {
            "text/plain": [
              "True"
            ]
          },
          "metadata": {},
          "execution_count": 11
        }
      ]
    },
    {
      "cell_type": "code",
      "source": [
        "# 50 != 4.84\n",
        "numero2 != numero3"
      ],
      "metadata": {
        "colab": {
          "base_uri": "https://localhost:8080/"
        },
        "id": "jE0qPq7hSzhc",
        "outputId": "d5482428-12b7-42b1-a131-f100ed9735f9"
      },
      "execution_count": null,
      "outputs": [
        {
          "output_type": "execute_result",
          "data": {
            "text/plain": [
              "True"
            ]
          },
          "metadata": {},
          "execution_count": 12
        }
      ]
    },
    {
      "cell_type": "markdown",
      "source": [
        "  - Vamos verificar se 20 (inteiro) é igual a 20.0 (float)?"
      ],
      "metadata": {
        "id": "v9751_zBTGIN"
      }
    },
    {
      "cell_type": "code",
      "source": [
        "20 == 20.0"
      ],
      "metadata": {
        "colab": {
          "base_uri": "https://localhost:8080/"
        },
        "id": "0sOid3BuTPEp",
        "outputId": "9171cadc-9b73-4453-8bfa-ae314b180618"
      },
      "execution_count": null,
      "outputs": [
        {
          "output_type": "execute_result",
          "data": {
            "text/plain": [
              "True"
            ]
          },
          "metadata": {},
          "execution_count": 13
        }
      ]
    },
    {
      "cell_type": "markdown",
      "source": [
        "  - Podemos fazer comparação com **strings**."
      ],
      "metadata": {
        "id": "adldU2lFL5N-"
      }
    },
    {
      "cell_type": "code",
      "source": [
        "animacao1 = \"Scooby-Doo\"\n",
        "animacao2 = \"Batman\""
      ],
      "metadata": {
        "id": "Q7zqapVlMAjb"
      },
      "execution_count": null,
      "outputs": []
    },
    {
      "cell_type": "code",
      "source": [
        "animacao1 == animacao2"
      ],
      "metadata": {
        "colab": {
          "base_uri": "https://localhost:8080/"
        },
        "id": "qIvPsbEfMSZF",
        "outputId": "867ed1df-6538-47d7-b720-74fd4837b826"
      },
      "execution_count": null,
      "outputs": [
        {
          "output_type": "execute_result",
          "data": {
            "text/plain": [
              "False"
            ]
          },
          "metadata": {},
          "execution_count": 6
        }
      ]
    },
    {
      "cell_type": "code",
      "source": [
        "animacao1 != animacao2"
      ],
      "metadata": {
        "colab": {
          "base_uri": "https://localhost:8080/"
        },
        "id": "kNdRXEpdMWdm",
        "outputId": "8a4388b3-af8e-4e5a-8a18-540718967086"
      },
      "execution_count": null,
      "outputs": [
        {
          "output_type": "execute_result",
          "data": {
            "text/plain": [
              "True"
            ]
          },
          "metadata": {},
          "execution_count": 7
        }
      ]
    },
    {
      "cell_type": "code",
      "source": [
        "animacao1 > animacao2"
      ],
      "metadata": {
        "colab": {
          "base_uri": "https://localhost:8080/"
        },
        "id": "gCBX1t4Qhkl6",
        "outputId": "9527b00b-49e9-4c53-d6f4-97c903765adb"
      },
      "execution_count": null,
      "outputs": [
        {
          "output_type": "execute_result",
          "data": {
            "text/plain": [
              "True"
            ]
          },
          "metadata": {},
          "execution_count": 8
        }
      ]
    },
    {
      "cell_type": "code",
      "source": [
        "animacao1 < animacao2"
      ],
      "metadata": {
        "colab": {
          "base_uri": "https://localhost:8080/"
        },
        "id": "0m_K1WaGhwPy",
        "outputId": "74d14419-0cea-4151-d77b-d14a1fee2c8f"
      },
      "execution_count": null,
      "outputs": [
        {
          "output_type": "execute_result",
          "data": {
            "text/plain": [
              "False"
            ]
          },
          "metadata": {},
          "execution_count": 9
        }
      ]
    },
    {
      "cell_type": "markdown",
      "source": [
        "  - Os operadores ``>``, ``>=``, ``<``, ``<=`` atuam comparando **ordem lexicográfica** quando aplicados a strings.\n",
        "\n",
        "  - A ordem lexicográfica é definida a partir da [tabela ASCII](https://pt.wikipedia.org/wiki/ASCII):\n",
        "\n",
        "<br>\n",
        "\n",
        "<figure>\n",
        "    <img src=https://s3-sa-east-1.amazonaws.com/lcpi/38601fbd-1d55-4eb0-8c7b-8f2fe6a9328e.png width=700>\n",
        "    <figcaption>Wikimedia</figcaption>\n",
        "</figure>"
      ],
      "metadata": {
        "id": "l5fmzVnUjW2a"
      }
    },
    {
      "cell_type": "markdown",
      "source": [
        "  - **Exemplos com códigos:**"
      ],
      "metadata": {
        "id": "5utfvH66jYey"
      }
    },
    {
      "cell_type": "code",
      "source": [
        "fruta1 = \"abacate\"\n",
        "fruta2 = \"abacaxi\""
      ],
      "metadata": {
        "id": "EL-JPOGkihYV"
      },
      "execution_count": null,
      "outputs": []
    },
    {
      "cell_type": "code",
      "source": [
        "# Mesmo que tenham as mesmas quantidades de letras, o Python seguirá a ordem lexicográfica\n",
        "# pois a letra 't' vem antes da letra 'x'\n",
        "fruta2 > fruta1"
      ],
      "metadata": {
        "colab": {
          "base_uri": "https://localhost:8080/"
        },
        "id": "mMdww-qJioIK",
        "outputId": "45dc2c43-e92d-491b-d4ed-13300edc4f0d"
      },
      "execution_count": null,
      "outputs": [
        {
          "output_type": "execute_result",
          "data": {
            "text/plain": [
              "True"
            ]
          },
          "metadata": {},
          "execution_count": 14
        }
      ]
    },
    {
      "cell_type": "markdown",
      "source": [
        "  - Podemos saber o valor decimal correspondente de um caractere na tabela **ASCII** utilizando a função ``ord()``."
      ],
      "metadata": {
        "id": "CXUfsfbUrSFF"
      }
    },
    {
      "cell_type": "code",
      "source": [
        "ord('m')"
      ],
      "metadata": {
        "colab": {
          "base_uri": "https://localhost:8080/"
        },
        "id": "RjtF2L7Irzpi",
        "outputId": "18c71586-bdd0-4bce-e5ce-9a217cc5c7f7"
      },
      "execution_count": null,
      "outputs": [
        {
          "output_type": "execute_result",
          "data": {
            "text/plain": [
              "109"
            ]
          },
          "metadata": {},
          "execution_count": 15
        }
      ]
    },
    {
      "cell_type": "code",
      "source": [
        "ord('M')"
      ],
      "metadata": {
        "colab": {
          "base_uri": "https://localhost:8080/"
        },
        "id": "Y2ipOt4Dr6n_",
        "outputId": "62e26e59-bc1c-4e58-a208-131f10d313a7"
      },
      "execution_count": null,
      "outputs": [
        {
          "output_type": "execute_result",
          "data": {
            "text/plain": [
              "77"
            ]
          },
          "metadata": {},
          "execution_count": 16
        }
      ]
    },
    {
      "cell_type": "markdown",
      "source": [
        "  - As comparações entre ***string*** e ***tipos numéricos*** são possíveis **apenas para == e !=**:"
      ],
      "metadata": {
        "id": "FRpivCpAsep3"
      }
    },
    {
      "cell_type": "code",
      "source": [
        "20 == '20'"
      ],
      "metadata": {
        "colab": {
          "base_uri": "https://localhost:8080/"
        },
        "id": "HFhCUoxfsjML",
        "outputId": "093a718d-f7c1-412c-8725-1554dd6aee0b"
      },
      "execution_count": null,
      "outputs": [
        {
          "output_type": "execute_result",
          "data": {
            "text/plain": [
              "False"
            ]
          },
          "metadata": {},
          "execution_count": 18
        }
      ]
    },
    {
      "cell_type": "markdown",
      "source": [
        "<br>\n",
        "\n",
        "## ⚡ Operadores Lógicos de Conjunção\n",
        "  - Esses operadores são utilizados pra fazer uma combinação entre comparações.\n",
        "  - Os operadores de conjunção são: **and** e **or**, e eles seguem a seguinte regra:\n",
        "    - **and** só é **True** se **ambas** as comparações forem **True**:\n",
        "      - **False** and **True** resulta em **``False``**.\n",
        "      - **False** and **False** resulta em **``False``**.\n",
        "      - **True** and **True** resulta em **``True``**.\n",
        "    - **or** é **True** se **pelo menos uma** das comparações for **True**:\n",
        "      - **False** or **True** resulta em **``True``**.\n",
        "      - **True** or **True** resulta em **``True``**.\n",
        "      - **False** or **False** resulta em **``False``**."
      ],
      "metadata": {
        "id": "3_4Edzy4RY4K"
      }
    },
    {
      "cell_type": "markdown",
      "source": [
        "  - **Exemplos com códigos:**"
      ],
      "metadata": {
        "id": "XatUjnyNS9Oo"
      }
    },
    {
      "cell_type": "code",
      "source": [
        "print(\"Operador and:\")\n",
        "print(True and True)\n",
        "print(True and False)\n",
        "print(False and True)\n",
        "print(False and False)"
      ],
      "metadata": {
        "colab": {
          "base_uri": "https://localhost:8080/"
        },
        "id": "_3LUeqSucKUK",
        "outputId": "f646fab9-27d8-4b8a-d60a-ca78456bbeb6"
      },
      "execution_count": 2,
      "outputs": [
        {
          "output_type": "stream",
          "name": "stdout",
          "text": [
            "Operador and:\n",
            "True\n",
            "False\n",
            "False\n",
            "False\n"
          ]
        }
      ]
    },
    {
      "cell_type": "code",
      "source": [
        "print(\"Operador or:\")\n",
        "print(True or True)\n",
        "print(True or False)\n",
        "print(False or True)\n",
        "print(False or False)"
      ],
      "metadata": {
        "colab": {
          "base_uri": "https://localhost:8080/"
        },
        "id": "2RAwyrphccPx",
        "outputId": "8259f183-a552-4603-8889-67b6868036b9"
      },
      "execution_count": 3,
      "outputs": [
        {
          "output_type": "stream",
          "name": "stdout",
          "text": [
            "Operador or:\n",
            "True\n",
            "True\n",
            "True\n",
            "False\n"
          ]
        }
      ]
    },
    {
      "cell_type": "markdown",
      "source": [
        "  - **Exemplos de códigos com conjunção entre duas expressões lógicas:**"
      ],
      "metadata": {
        "id": "uQ1XnMYVdCPN"
      }
    },
    {
      "cell_type": "code",
      "source": [
        "(2 < 5) and (2 == 3)"
      ],
      "metadata": {
        "colab": {
          "base_uri": "https://localhost:8080/"
        },
        "id": "u7BTFVVtdJN7",
        "outputId": "681ed5b8-7573-4723-ac26-639c736efc0c"
      },
      "execution_count": 4,
      "outputs": [
        {
          "output_type": "execute_result",
          "data": {
            "text/plain": [
              "False"
            ]
          },
          "metadata": {},
          "execution_count": 4
        }
      ]
    },
    {
      "cell_type": "code",
      "source": [
        "(10 != 8) or (2 < 2)"
      ],
      "metadata": {
        "colab": {
          "base_uri": "https://localhost:8080/"
        },
        "id": "6LIZJsuqdWZL",
        "outputId": "12364c44-ebd6-4717-bb97-6331235bacfa"
      },
      "execution_count": 5,
      "outputs": [
        {
          "output_type": "execute_result",
          "data": {
            "text/plain": [
              "True"
            ]
          },
          "metadata": {},
          "execution_count": 5
        }
      ]
    },
    {
      "cell_type": "markdown",
      "source": [
        "  - Se tivermos mais de duas comparações pra fazer conjunção, é melhor usarmos parênteses."
      ],
      "metadata": {
        "id": "TyzAOgk4eVYT"
      }
    },
    {
      "cell_type": "code",
      "source": [
        "(2 < 5 and 2 == 2) or 10 != 8"
      ],
      "metadata": {
        "colab": {
          "base_uri": "https://localhost:8080/"
        },
        "id": "KVL1cPSueeIi",
        "outputId": "a3cee3ed-1ade-40c4-f152-ea0a08954808"
      },
      "execution_count": 6,
      "outputs": [
        {
          "output_type": "execute_result",
          "data": {
            "text/plain": [
              "True"
            ]
          },
          "metadata": {},
          "execution_count": 6
        }
      ]
    },
    {
      "cell_type": "markdown",
      "source": [
        " - Primeiro a conjunção entre parênteses é feita, e depois o resultado é usado pra avaliar a conjunção total:"
      ],
      "metadata": {
        "id": "yUTWw0HLeveV"
      }
    }
  ]
}