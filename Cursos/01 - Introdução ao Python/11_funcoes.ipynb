{
  "nbformat": 4,
  "nbformat_minor": 0,
  "metadata": {
    "colab": {
      "provenance": []
    },
    "kernelspec": {
      "name": "python3",
      "display_name": "Python 3"
    },
    "language_info": {
      "name": "python"
    }
  },
  "cells": [
    {
      "cell_type": "markdown",
      "source": [
        "# 🏗️ Funções\n",
        "\n",
        "- Uma função é um objeto utilizado para **fazer determinadas ações**.\n",
        "- Já vimos algumas funções."
      ],
      "metadata": {
        "id": "8n9bwM_1h8tC"
      }
    },
    {
      "cell_type": "code",
      "source": [
        "# Função print\n",
        "print(\"Hello, World!\")"
      ],
      "metadata": {
        "colab": {
          "base_uri": "https://localhost:8080/"
        },
        "id": "p85YnhUDna-r",
        "outputId": "f14fd37a-fca1-4ce5-a5aa-2e3875a2e1e8"
      },
      "execution_count": 1,
      "outputs": [
        {
          "output_type": "stream",
          "name": "stdout",
          "text": [
            "Hello, World!\n"
          ]
        }
      ]
    },
    {
      "cell_type": "code",
      "source": [
        "# Função input\n",
        "nome = input(\"Qual é o seu nome? \")\n",
        "\n",
        "nome"
      ],
      "metadata": {
        "colab": {
          "base_uri": "https://localhost:8080/",
          "height": 53
        },
        "id": "FQwKw4rWnqKc",
        "outputId": "66f61bb0-935b-4013-eef4-1032116a6307"
      },
      "execution_count": 2,
      "outputs": [
        {
          "name": "stdout",
          "output_type": "stream",
          "text": [
            "Qual é o seu nome? Marcos Winther\n"
          ]
        },
        {
          "output_type": "execute_result",
          "data": {
            "text/plain": [
              "'Marcos Winther'"
            ],
            "application/vnd.google.colaboratory.intrinsic+json": {
              "type": "string"
            }
          },
          "metadata": {},
          "execution_count": 2
        }
      ]
    },
    {
      "cell_type": "code",
      "source": [
        "# Função sorted\n",
        "lista = [-40, -80, -20, 20, 40, 0, 60, -60, 80]\n",
        "\n",
        "sorted(lista)"
      ],
      "metadata": {
        "colab": {
          "base_uri": "https://localhost:8080/"
        },
        "id": "5krVxsKKn3fk",
        "outputId": "56cd383d-fea4-406d-e2e7-6bcb3e300f1f"
      },
      "execution_count": 3,
      "outputs": [
        {
          "output_type": "execute_result",
          "data": {
            "text/plain": [
              "[-80, -60, -40, -20, 0, 20, 40, 60, 80]"
            ]
          },
          "metadata": {},
          "execution_count": 3
        }
      ]
    },
    {
      "cell_type": "markdown",
      "source": [
        "- Podemos ver uma função como uma \"caixinha\" que pega uma entrada (o argumento), faz algum processamento, e então retorna uma saída (o output).\n",
        "- Também podemos criar nossas próprias funções."
      ],
      "metadata": {
        "id": "QNEAGRxaophX"
      }
    },
    {
      "cell_type": "markdown",
      "source": [
        "- A estrutura de **definição de uma função** é dada por:\n",
        "\n",
        "```python\n",
        "def nome_da_funcao(argumentos):\n",
        "    \n",
        "    instrucoes\n",
        "    \n",
        "    return saida\n",
        "```"
      ],
      "metadata": {
        "id": "4e34ehygpAFR"
      }
    },
    {
      "cell_type": "markdown",
      "source": [
        "- Há 5 elementos fundamentais para a criação de novas funções em Python:\n",
        "  - Primeiramente, usamos `def` para deixar claro que estamos **definindo** uma função;\n",
        "  - Depois, damos um **nome** para nossa função;\n",
        "  - Em parênteses, falamos quais serão os **argumentos** da função -- esses são os inputs, e em python, esses elementos são opcionais!\n",
        "  - Depois, explicitamos qual é o **processamento** feito pela função;\n",
        "  - Ao fim, dizemos o que a função irá **retornar** -- esses são os outputs, e em Python esse elemento é opcional!"
      ],
      "metadata": {
        "id": "zWcEGUg8pjEr"
      }
    },
    {
      "cell_type": "markdown",
      "source": [
        "- Sempre que quisermos **executar** uma função, basta **chamá-la**, dando os argumentos desejados!\n",
        "\n",
        "```python\n",
        "nome_da_funcao(argumentos)\n",
        "```"
      ],
      "metadata": {
        "id": "0S9q6IbQp6qr"
      }
    },
    {
      "cell_type": "code",
      "source": [
        "# Função sem argumentos e sem return\n",
        "def cumprimentar():\n",
        "\n",
        "  print(\"Olá, tudo bem?\")\n",
        "\n",
        "\n",
        "# Chamando a função\n",
        "cumprimentar()"
      ],
      "metadata": {
        "colab": {
          "base_uri": "https://localhost:8080/"
        },
        "id": "TrJWKeUrqoRj",
        "outputId": "986a1de4-2b87-4ffc-b8d9-576aa686f3f1"
      },
      "execution_count": 4,
      "outputs": [
        {
          "output_type": "stream",
          "name": "stdout",
          "text": [
            "Olá, tudo bem?\n"
          ]
        }
      ]
    },
    {
      "cell_type": "code",
      "source": [
        "# Função com argumento e sem return\n",
        "def cumprimentar_alguem(nome):\n",
        "\n",
        "  print(f\"Olá, {nome}, tudo bem?\")\n",
        "\n",
        "\n",
        "# Chamando a função\n",
        "cumprimentar_alguem(\"Marcos\")"
      ],
      "metadata": {
        "colab": {
          "base_uri": "https://localhost:8080/"
        },
        "id": "3Bcne0zqreXy",
        "outputId": "97114f32-8d2a-45c8-beba-93ba30e86d44"
      },
      "execution_count": 5,
      "outputs": [
        {
          "output_type": "stream",
          "name": "stdout",
          "text": [
            "Olá, Marcos, tudo bem?\n"
          ]
        }
      ]
    },
    {
      "cell_type": "code",
      "source": [
        "# Função com dois argumentos\n",
        "def cumprimentar_parte_do_dia(nome, parte_do_dia):\n",
        "  \"\"\"\n",
        "  Cumprimenta a pessoa da manhã, da tarde ou da noite.\n",
        "  A função tem dois argumentos:\n",
        "    nome (str): nome da pessoa\n",
        "    parte_do_dia (str): parte do dia que a pessoa está,\n",
        "      sendo válido apenas os valores 'dia', 'tarde' ou 'noite'.\n",
        "  \"\"\"\n",
        "\n",
        "  if parte_do_dia == \"dia\":\n",
        "    print(f\"Bom {parte_do_dia}, {nome}!\")\n",
        "  elif parte_do_dia == \"tarde\":\n",
        "    print(f\"Boa {parte_do_dia}, {nome}!\")\n",
        "  elif parte_do_dia == \"noite\":\n",
        "    print(f\"Boa {parte_do_dia}, {nome}!\")\n",
        "  else:\n",
        "    raise ValueError(\"Parte do dia deve ser 'dia', 'tarde' ou 'noite'.\")\n",
        "\n",
        "\n",
        "# Chamando a função\n",
        "cumprimentar_parte_do_dia(\"Marcos\", \"dia\")"
      ],
      "metadata": {
        "colab": {
          "base_uri": "https://localhost:8080/"
        },
        "id": "kFep4MMSsWKS",
        "outputId": "d48792d4-19d3-4463-b320-4d897e396ce0"
      },
      "execution_count": 6,
      "outputs": [
        {
          "output_type": "stream",
          "name": "stdout",
          "text": [
            "Bom dia, Marcos!\n"
          ]
        }
      ]
    },
    {
      "cell_type": "code",
      "source": [
        "nome = input(\"Qual é o seu nome? \")\n",
        "parte_do_dia = input(\"Em qual parte do dia você está? \")\n",
        "\n",
        "cumprimentar_parte_do_dia(nome, parte_do_dia)"
      ],
      "metadata": {
        "colab": {
          "base_uri": "https://localhost:8080/"
        },
        "id": "sohs2HIvt1q2",
        "outputId": "7b47c221-eb9d-4e56-e539-9517524ae80b"
      },
      "execution_count": 7,
      "outputs": [
        {
          "output_type": "stream",
          "name": "stdout",
          "text": [
            "Qual é o seu nome? Marcos\n",
            "Em qual parte do dia você está? tarde\n",
            "Boa tarde, Marcos!\n"
          ]
        }
      ]
    },
    {
      "cell_type": "code",
      "source": [
        "cumprimentar_parte_do_dia(nome=\"Marcos Carreiro\", parte_do_dia=\"noite\")"
      ],
      "metadata": {
        "colab": {
          "base_uri": "https://localhost:8080/"
        },
        "id": "oPhB_XN_Pra6",
        "outputId": "ba01a02f-c05f-45ad-f997-0e78dbc9132a"
      },
      "execution_count": 8,
      "outputs": [
        {
          "output_type": "stream",
          "name": "stdout",
          "text": [
            "Boa noite, Marcos Carreiro!\n"
          ]
        }
      ]
    },
    {
      "cell_type": "markdown",
      "source": [
        "__E o uso do `return`?__\n",
        "\n",
        "-  O `return` é uma instrução usada dentro de uma função para devolver um valor ao local onde a função foi chamada.\n",
        "- Quando return é executado, a função é encerrada imediatamente, e o valor especificado é retornado ao chamador."
      ],
      "metadata": {
        "id": "0RSOOdpxQzR8"
      }
    },
    {
      "cell_type": "code",
      "source": [
        "# Função de somar usando return na função\n",
        "def somar(a, b):\n",
        "\n",
        "  return a + b\n",
        "\n",
        "\n",
        "# Chamando a função\n",
        "somar(2, 3)"
      ],
      "metadata": {
        "colab": {
          "base_uri": "https://localhost:8080/"
        },
        "id": "p2aFNJ-yRXsf",
        "outputId": "f1bf631e-0e33-48a3-ced2-b32458591007"
      },
      "execution_count": 9,
      "outputs": [
        {
          "output_type": "execute_result",
          "data": {
            "text/plain": [
              "5"
            ]
          },
          "metadata": {},
          "execution_count": 9
        }
      ]
    },
    {
      "cell_type": "code",
      "source": [
        "somar(10, 20) + somar(30, 40)"
      ],
      "metadata": {
        "colab": {
          "base_uri": "https://localhost:8080/"
        },
        "id": "uhvgpaGDRw1u",
        "outputId": "9cd26f64-5b50-43fc-e220-b805ddf9d060"
      },
      "execution_count": 10,
      "outputs": [
        {
          "output_type": "execute_result",
          "data": {
            "text/plain": [
              "100"
            ]
          },
          "metadata": {},
          "execution_count": 10
        }
      ]
    },
    {
      "cell_type": "markdown",
      "source": [
        "- Podemos armazenar o resultado de uma função dentro de uma variável."
      ],
      "metadata": {
        "id": "H_uh4MQ5Sb-j"
      }
    },
    {
      "cell_type": "code",
      "source": [
        "resultado_soma = somar(10, 20)\n",
        "\n",
        "resultado_soma"
      ],
      "metadata": {
        "colab": {
          "base_uri": "https://localhost:8080/"
        },
        "id": "3-wQqEFBShyE",
        "outputId": "033c4119-85b9-46b0-c792-a7bf6a005f4b"
      },
      "execution_count": 11,
      "outputs": [
        {
          "output_type": "execute_result",
          "data": {
            "text/plain": [
              "30"
            ]
          },
          "metadata": {},
          "execution_count": 11
        }
      ]
    },
    {
      "cell_type": "code",
      "source": [
        "resultado1 = somar(20, 20)\n",
        "resultado2 = somar(20, 40)\n",
        "\n",
        "resultado = resultado1 + resultado2\n",
        "\n",
        "resultado"
      ],
      "metadata": {
        "colab": {
          "base_uri": "https://localhost:8080/"
        },
        "id": "dmpvZBnRSmuD",
        "outputId": "0e620c7d-1835-47b6-f30a-6f9ccdb5c9a9"
      },
      "execution_count": 13,
      "outputs": [
        {
          "output_type": "execute_result",
          "data": {
            "text/plain": [
              "100"
            ]
          },
          "metadata": {},
          "execution_count": 13
        }
      ]
    },
    {
      "cell_type": "markdown",
      "source": [
        "__Atenção!__\n",
        "\n",
        "- Apenas o **valor** da variável é retornado, não o nome dela!!\n",
        "- Fora da função, o nome de variável \"soma\" ainda continua não existindo!!\n",
        "- **A variável \"soma\" é uma variável que existe apenas no interior da função!!**"
      ],
      "metadata": {
        "id": "8lMMRM5BTIYp"
      }
    },
    {
      "cell_type": "code",
      "source": [
        "# Dará erro devido que a variável \"soma\"\n",
        "# é uma variável existe apenas no interior da função somar()\n",
        "soma"
      ],
      "metadata": {
        "colab": {
          "base_uri": "https://localhost:8080/",
          "height": 141
        },
        "id": "CCRQikz0TcYh",
        "outputId": "45e854e5-4321-4fe3-ac90-c2e18c6aa0e5"
      },
      "execution_count": 14,
      "outputs": [
        {
          "output_type": "error",
          "ename": "NameError",
          "evalue": "name 'soma' is not defined",
          "traceback": [
            "\u001b[0;31m---------------------------------------------------------------------------\u001b[0m",
            "\u001b[0;31mNameError\u001b[0m                                 Traceback (most recent call last)",
            "\u001b[0;32m<ipython-input-14-ac2450a231f3>\u001b[0m in \u001b[0;36m<cell line: 0>\u001b[0;34m()\u001b[0m\n\u001b[0;32m----> 1\u001b[0;31m \u001b[0msoma\u001b[0m\u001b[0;34m\u001b[0m\u001b[0;34m\u001b[0m\u001b[0m\n\u001b[0m",
            "\u001b[0;31mNameError\u001b[0m: name 'soma' is not defined"
          ]
        }
      ]
    },
    {
      "cell_type": "markdown",
      "source": [
        "- Vamos fazer funções de cálculos matemáticos."
      ],
      "metadata": {
        "id": "gFA_0j8tTqAn"
      }
    },
    {
      "cell_type": "code",
      "source": [
        "def calcula_somar(numero1, numero2):\n",
        "\n",
        "  return numero1 + numero2"
      ],
      "metadata": {
        "id": "d9sLE_V1UJ8U"
      },
      "execution_count": 15,
      "outputs": []
    },
    {
      "cell_type": "code",
      "source": [
        "def calcula_subracao(numero1, numero2):\n",
        "\n",
        "  return numero1 - numero2"
      ],
      "metadata": {
        "id": "hx945uyCUTUb"
      },
      "execution_count": 16,
      "outputs": []
    },
    {
      "cell_type": "code",
      "source": [
        "def calcula_multiplicacao(numero1, numero2):\n",
        "\n",
        "  return numero1 * numero2"
      ],
      "metadata": {
        "id": "BrvfsYCKUYJP"
      },
      "execution_count": 17,
      "outputs": []
    },
    {
      "cell_type": "code",
      "source": [
        "def calcula_divisao(numero1, numero2):\n",
        "\n",
        "  return numero1 / numero2"
      ],
      "metadata": {
        "id": "oIsL9BzrUb_3"
      },
      "execution_count": 18,
      "outputs": []
    },
    {
      "cell_type": "code",
      "source": [
        "def calcula_operacoes_basicas(numero1, numero2, operador):\n",
        "    \"\"\"\n",
        "    Realiza operações matemáticas básicas.\n",
        "    A função tem três argumentos:\n",
        "      numero1 (float): primeiro número\n",
        "      numero2 (float): segundo número\n",
        "      operador (str): operador matemático,\n",
        "        sendo válido apenas os valores '+', '-', '*' ou '/'\n",
        "    \"\"\"\n",
        "\n",
        "    if operador == '+':\n",
        "        resultado = numero1 + numero2\n",
        "\n",
        "    elif operador == '-':\n",
        "        resultado = numero1 - numero2\n",
        "\n",
        "    elif operador == '*':\n",
        "        resultado = numero1 * numero2\n",
        "\n",
        "    elif operador == '/':\n",
        "        resultado = numero1 / numero2\n",
        "\n",
        "    else:\n",
        "        raise ValueError(\"Operador deve ser '+', '-', '*' ou '/'.\")\n",
        "\n",
        "    return resultado"
      ],
      "metadata": {
        "id": "Qqt8AZxJXGys"
      },
      "execution_count": 21,
      "outputs": []
    },
    {
      "cell_type": "code",
      "source": [
        "calcula_operacoes_basicas(10, 20, '+')"
      ],
      "metadata": {
        "colab": {
          "base_uri": "https://localhost:8080/"
        },
        "id": "TjSrW84rX62u",
        "outputId": "e976dc8f-a54b-4fc8-bf56-644656a20f34"
      },
      "execution_count": 22,
      "outputs": [
        {
          "output_type": "execute_result",
          "data": {
            "text/plain": [
              "30"
            ]
          },
          "metadata": {},
          "execution_count": 22
        }
      ]
    },
    {
      "cell_type": "code",
      "source": [
        "calcula_operacoes_basicas(60, 20, '-')"
      ],
      "metadata": {
        "colab": {
          "base_uri": "https://localhost:8080/"
        },
        "id": "nFUmRNmIaIuo",
        "outputId": "fc446430-921a-4c86-b84b-dc3d95c8295e"
      },
      "execution_count": 23,
      "outputs": [
        {
          "output_type": "execute_result",
          "data": {
            "text/plain": [
              "40"
            ]
          },
          "metadata": {},
          "execution_count": 23
        }
      ]
    }
  ]
}