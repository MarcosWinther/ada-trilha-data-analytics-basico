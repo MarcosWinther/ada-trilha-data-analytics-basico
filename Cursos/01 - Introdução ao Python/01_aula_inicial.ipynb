{
 "cells": [
  {
   "cell_type": "markdown",
   "id": "e50341e9-2dda-493d-a1ce-7ca30b67eb17",
   "metadata": {},
   "source": [
    "# 🐍👣 Primeiro Passos com Python\n",
    "\n",
    "### Atalhos no Jupyter:\n",
    "\n",
    "Os principais atalhos utilizados são:\n",
    "\n",
    "- **CTRL + ENTER ou SHIFT + ENTER:** executa a célula;\n",
    "- **ESC:** deixa a célula em modo de comando (azul);\n",
    "- **ESC e depois M:** transforma a célula em célula de texto (markdown);\n",
    "- **ESC e depois Y:** transforma a célula em célula de código;\n",
    "- **ESC e depois DD:** apaga a célula;\n",
    "- **ESC e depois A: (ABOVE)** - cria uma célula acima da célula atual;\n",
    "- **ESC e depois B: (BELOW)** - cria uma célula abaixo da célula atual;"
   ]
  },
  {
   "cell_type": "markdown",
   "id": "7a29d523-7145-4344-bb37-97c95fbb8d0b",
   "metadata": {},
   "source": [
    "<br>\n",
    "\n",
    "## 👨‍💻 Primeiro Programa\n",
    "\n",
    "Vamos iniciar exibindo a mensagem ``Hello World!`` na tela.\n",
    "\n",
    "Utilizamos o comando:\n",
    "\n",
    "````sh\n",
    "print(\"Mensagem\") \n",
    "````\n",
    "\n",
    "Exibindo a mensagem ``Hello World`` na tela:"
   ]
  },
  {
   "cell_type": "code",
   "execution_count": 4,
   "id": "fc4412bf-839b-4ed5-ac68-26b7ee5c3bd8",
   "metadata": {},
   "outputs": [
    {
     "name": "stdout",
     "output_type": "stream",
     "text": [
      "Hello World\n"
     ]
    }
   ],
   "source": [
    "print(\"Hello World\")"
   ]
  },
  {
   "cell_type": "markdown",
   "id": "a948df54-4945-4ce6-9891-e98870405aa6",
   "metadata": {},
   "source": [
    "<br>\n",
    "\n",
    "O comando **print** pode executar resultados de operações.\n",
    "\n",
    "Exemplos:"
   ]
  },
  {
   "cell_type": "code",
   "execution_count": 5,
   "id": "1a5c961f-0723-4a4e-90cd-f75b715d0881",
   "metadata": {},
   "outputs": [
    {
     "name": "stdout",
     "output_type": "stream",
     "text": [
      "4\n",
      "10\n",
      "4.0\n"
     ]
    }
   ],
   "source": [
    "print(2 + 2)\n",
    "print(2 * 5)\n",
    "print(16 / 4)"
   ]
  },
  {
   "cell_type": "markdown",
   "id": "66e85207-55e8-4cbe-a458-5e193bdc9a51",
   "metadata": {
    "scrolled": true
   },
   "source": [
    "<br>\n",
    "\n",
    "Podemos fazer uma saída dos resultados das operações matemáticas sem o comando **print**.\n",
    "\n",
    "Exemplo:"
   ]
  },
  {
   "cell_type": "code",
   "execution_count": 6,
   "id": "b0946ea6-a890-453e-9b38-edf1468f2bad",
   "metadata": {},
   "outputs": [
    {
     "data": {
      "text/plain": [
       "10"
      ]
     },
     "execution_count": 6,
     "metadata": {},
     "output_type": "execute_result"
    }
   ],
   "source": [
    "2 + 8"
   ]
  },
  {
   "cell_type": "code",
   "execution_count": 7,
   "id": "1b22151a-f32e-4c8a-bb67-f0be146b9895",
   "metadata": {},
   "outputs": [
    {
     "data": {
      "text/plain": [
       "200"
      ]
     },
     "execution_count": 7,
     "metadata": {},
     "output_type": "execute_result"
    }
   ],
   "source": [
    "100 * 2"
   ]
  }
 ],
 "metadata": {
  "kernelspec": {
   "display_name": "Python 3 (ipykernel)",
   "language": "python",
   "name": "python3"
  },
  "language_info": {
   "codemirror_mode": {
    "name": "ipython",
    "version": 3
   },
   "file_extension": ".py",
   "mimetype": "text/x-python",
   "name": "python",
   "nbconvert_exporter": "python",
   "pygments_lexer": "ipython3",
   "version": "3.12.7"
  }
 },
 "nbformat": 4,
 "nbformat_minor": 5
}
