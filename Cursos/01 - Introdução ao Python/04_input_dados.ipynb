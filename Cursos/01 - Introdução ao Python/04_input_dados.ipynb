{
  "nbformat": 4,
  "nbformat_minor": 0,
  "metadata": {
    "colab": {
      "provenance": []
    },
    "kernelspec": {
      "name": "python3",
      "display_name": "Python 3"
    },
    "language_info": {
      "name": "python"
    }
  },
  "cells": [
    {
      "cell_type": "markdown",
      "source": [
        "# 📤 Output (Dados)\n",
        "  - Usamos a função ``print()`` para receber dados do usuário.\n",
        "  - Essa função recebe os dados digitados pelo usuário.\n",
        "\n",
        "  - **Exemplos com códigos:**"
      ],
      "metadata": {
        "id": "Huf4OKqdUbxd"
      }
    },
    {
      "cell_type": "code",
      "source": [
        "input()"
      ],
      "metadata": {
        "colab": {
          "base_uri": "https://localhost:8080/",
          "height": 53
        },
        "id": "glIYNL4TVaT9",
        "outputId": "22212a5b-25d2-405f-a939-9bcd314bb3ca"
      },
      "execution_count": 1,
      "outputs": [
        {
          "name": "stdout",
          "output_type": "stream",
          "text": [
            "Linguagem de Programação Python\n"
          ]
        },
        {
          "output_type": "execute_result",
          "data": {
            "text/plain": [
              "'Linguagem de Programação Python'"
            ],
            "application/vnd.google.colaboratory.intrinsic+json": {
              "type": "string"
            }
          },
          "metadata": {},
          "execution_count": 1
        }
      ]
    },
    {
      "cell_type": "code",
      "source": [
        "resultado = input()\n",
        "\n",
        "print(\"O usuário digitou:\", resultado)"
      ],
      "metadata": {
        "colab": {
          "base_uri": "https://localhost:8080/"
        },
        "id": "0kdiA_sYV4kz",
        "outputId": "2a69dd70-5970-47ca-aa26-14f3fe1485e3"
      },
      "execution_count": 3,
      "outputs": [
        {
          "output_type": "stream",
          "name": "stdout",
          "text": [
            "Python é uma linguagem de programação\n",
            "O usuário digitou: Python é uma linguagem de programação\n"
          ]
        }
      ]
    },
    {
      "cell_type": "code",
      "source": [
        "# Exemplo com instrução o que usuário deva digitar\n",
        "\n",
        "nome = input(\"Digite seu nome: \")\n",
        "\n",
        "print(\"Seu nome é:\", nome)"
      ],
      "metadata": {
        "colab": {
          "base_uri": "https://localhost:8080/"
        },
        "id": "qqQ-JkVMWtsM",
        "outputId": "10372126-2c1c-4341-80f8-1e051a9c7f9a"
      },
      "execution_count": 4,
      "outputs": [
        {
          "output_type": "stream",
          "name": "stdout",
          "text": [
            "Digite seu nome: Marcos Winther\n",
            "Seu nome é: Marcos Winther\n"
          ]
        }
      ]
    },
    {
      "cell_type": "markdown",
      "source": [
        "  - __IMPORTANTE: a função ``input()`` toma o que o usuário digitou como uma string! Se o usuário digitar algum número, e algum cálculo for feito com esse número, o número deve ser transformado em int ou float!__\n",
        "\n",
        "  - A melhor forma de fazer isso, é já transformar o resultado da função input em float.\n",
        "\n",
        "  - Fazemos isso com uma espécie de sanduíche, colocando a função ``input()`` dentro da função ``float()``, que transforma uma string em um float!\n",
        "\n",
        "  > A mudança de tipos de dados é conhecida como **coerção** ou **conversão** de tipos.\n",
        "\n",
        "  - **Observação:** é melhor transformar o input em float ao invés de int, pois o float é um tipo numérico mais genérico, apesar de ocupar (um pouco) mais memória."
      ],
      "metadata": {
        "id": "wqpOu1Rpd5RI"
      }
    },
    {
      "cell_type": "code",
      "source": [
        "idade = input(\"Digite sua idade: \")\n",
        "\n",
        "print(\"Sua idade é:\", idade)\n",
        "type(idade)"
      ],
      "metadata": {
        "colab": {
          "base_uri": "https://localhost:8080/"
        },
        "id": "2_iD7Svcd6xp",
        "outputId": "cd9f205d-fb8a-4bf2-d5c1-9aa6326ff518"
      },
      "execution_count": 5,
      "outputs": [
        {
          "output_type": "stream",
          "name": "stdout",
          "text": [
            "Digite sua idade: 28\n",
            "Sua idade é: 28\n"
          ]
        },
        {
          "output_type": "execute_result",
          "data": {
            "text/plain": [
              "str"
            ]
          },
          "metadata": {},
          "execution_count": 5
        }
      ]
    },
    {
      "cell_type": "code",
      "source": [
        "idade = int(idade)\n",
        "\n",
        "idade"
      ],
      "metadata": {
        "colab": {
          "base_uri": "https://localhost:8080/"
        },
        "id": "v1gg3T2IhwCf",
        "outputId": "592f17bd-0680-45fe-d841-12bd5776bfbf"
      },
      "execution_count": 7,
      "outputs": [
        {
          "output_type": "execute_result",
          "data": {
            "text/plain": [
              "28"
            ]
          },
          "metadata": {},
          "execution_count": 7
        }
      ]
    },
    {
      "cell_type": "code",
      "source": [
        "type(idade)"
      ],
      "metadata": {
        "colab": {
          "base_uri": "https://localhost:8080/"
        },
        "id": "0Zii_fKSh_Br",
        "outputId": "1c9228c2-1476-4476-f6b7-22cef5c3cef4"
      },
      "execution_count": 8,
      "outputs": [
        {
          "output_type": "execute_result",
          "data": {
            "text/plain": [
              "int"
            ]
          },
          "metadata": {},
          "execution_count": 8
        }
      ]
    },
    {
      "cell_type": "code",
      "source": [
        "numero_inteiro = int(input(\"Digite um número inteiro: \"))\n",
        "\n",
        "numero_inteiro"
      ],
      "metadata": {
        "colab": {
          "base_uri": "https://localhost:8080/"
        },
        "id": "LqpN9YiCjLXS",
        "outputId": "7722a087-e5f9-46d3-ed8f-0772ac40ce30"
      },
      "execution_count": 9,
      "outputs": [
        {
          "name": "stdout",
          "output_type": "stream",
          "text": [
            "Digite um número inteiro: 20\n"
          ]
        },
        {
          "output_type": "execute_result",
          "data": {
            "text/plain": [
              "20"
            ]
          },
          "metadata": {},
          "execution_count": 9
        }
      ]
    }
  ]
}