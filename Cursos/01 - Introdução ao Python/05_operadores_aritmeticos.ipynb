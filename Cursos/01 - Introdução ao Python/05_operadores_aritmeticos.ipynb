{
  "nbformat": 4,
  "nbformat_minor": 0,
  "metadata": {
    "colab": {
      "provenance": []
    },
    "kernelspec": {
      "name": "python3",
      "display_name": "Python 3"
    },
    "language_info": {
      "name": "python"
    }
  },
  "cells": [
    {
      "cell_type": "markdown",
      "source": [
        "# 📈 Operadores Aritméticos\n",
        "  - Em Python, temos as principais operações matemáticas, com os respectivos símbolos:\n",
        "    - **Soma: (+)**\n",
        "    - **Subtração: (-)**\n",
        "    - **Multiplicação: (\\*)**\n",
        "    - **Divisão: (/)**\n",
        "    - **Potência: (\\*\\*)**\n",
        "\n",
        "  - **Exemplos com códigos:**"
      ],
      "metadata": {
        "id": "3DR5X_9gkuLU"
      }
    },
    {
      "cell_type": "code",
      "source": [
        "10 + 10"
      ],
      "metadata": {
        "colab": {
          "base_uri": "https://localhost:8080/"
        },
        "id": "Hav0of9FmE6Q",
        "outputId": "edcd4e9d-5636-4fa4-e966-b3451e90eca6"
      },
      "execution_count": 1,
      "outputs": [
        {
          "output_type": "execute_result",
          "data": {
            "text/plain": [
              "20"
            ]
          },
          "metadata": {},
          "execution_count": 1
        }
      ]
    },
    {
      "cell_type": "code",
      "source": [
        "2.44 + 9.88"
      ],
      "metadata": {
        "colab": {
          "base_uri": "https://localhost:8080/"
        },
        "id": "YgbVnoxGmkdW",
        "outputId": "0d5e10a5-c24c-462d-eb0c-a283ba07e8f7"
      },
      "execution_count": 2,
      "outputs": [
        {
          "output_type": "execute_result",
          "data": {
            "text/plain": [
              "12.32"
            ]
          },
          "metadata": {},
          "execution_count": 2
        }
      ]
    },
    {
      "cell_type": "code",
      "source": [
        "-8 + 4"
      ],
      "metadata": {
        "colab": {
          "base_uri": "https://localhost:8080/"
        },
        "id": "jh8mdkr2myxJ",
        "outputId": "e5b58612-04b7-4281-a38e-19c7261018c6"
      },
      "execution_count": 4,
      "outputs": [
        {
          "output_type": "execute_result",
          "data": {
            "text/plain": [
              "-4"
            ]
          },
          "metadata": {},
          "execution_count": 4
        }
      ]
    },
    {
      "cell_type": "code",
      "source": [
        "20 - 16"
      ],
      "metadata": {
        "colab": {
          "base_uri": "https://localhost:8080/"
        },
        "id": "I96D_Jlqm1U9",
        "outputId": "166fc286-05f8-4dfb-8e3d-a775cdb6da38"
      },
      "execution_count": 5,
      "outputs": [
        {
          "output_type": "execute_result",
          "data": {
            "text/plain": [
              "4"
            ]
          },
          "metadata": {},
          "execution_count": 5
        }
      ]
    },
    {
      "cell_type": "code",
      "source": [
        "10 * 4"
      ],
      "metadata": {
        "colab": {
          "base_uri": "https://localhost:8080/"
        },
        "id": "izHY0lEQm8Xn",
        "outputId": "4712aefc-7fa2-4950-832a-0f851e2a0fa8"
      },
      "execution_count": 6,
      "outputs": [
        {
          "output_type": "execute_result",
          "data": {
            "text/plain": [
              "40"
            ]
          },
          "metadata": {},
          "execution_count": 6
        }
      ]
    },
    {
      "cell_type": "code",
      "source": [
        "25 ** 2"
      ],
      "metadata": {
        "colab": {
          "base_uri": "https://localhost:8080/"
        },
        "id": "lblxgvVWnLaM",
        "outputId": "fae7b701-5deb-42c4-99a9-8acf32eb1e86"
      },
      "execution_count": 7,
      "outputs": [
        {
          "output_type": "execute_result",
          "data": {
            "text/plain": [
              "625"
            ]
          },
          "metadata": {},
          "execution_count": 7
        }
      ]
    },
    {
      "cell_type": "code",
      "source": [
        "# Raiz Quadrada\n",
        "25 ** (1/2)"
      ],
      "metadata": {
        "colab": {
          "base_uri": "https://localhost:8080/"
        },
        "id": "6rN12acHnU7C",
        "outputId": "7c8775ea-a498-454e-d819-d95e7d1ec869"
      },
      "execution_count": 8,
      "outputs": [
        {
          "output_type": "execute_result",
          "data": {
            "text/plain": [
              "5.0"
            ]
          },
          "metadata": {},
          "execution_count": 8
        }
      ]
    },
    {
      "cell_type": "markdown",
      "source": [
        "  - Além disso, temos duas operações especiais:\n",
        "    - **Divisão inteira: (//)** retorna a parte inteira da divisão entre dois números\n",
        "    - **Resto da divisão: (%)** se lê \"mod\", e retorna o resto da divisão entre dois números\n",
        "\n",
        "  - **Exemplos com códigos:**"
      ],
      "metadata": {
        "id": "d8WyKfeDmFv8"
      }
    },
    {
      "cell_type": "code",
      "source": [
        "# Divisão\n",
        "10 / 7"
      ],
      "metadata": {
        "colab": {
          "base_uri": "https://localhost:8080/"
        },
        "id": "7Sd5td4QmZi6",
        "outputId": "24f48361-fca1-4c19-e4fa-234936449c48"
      },
      "execution_count": 12,
      "outputs": [
        {
          "output_type": "execute_result",
          "data": {
            "text/plain": [
              "1.4285714285714286"
            ]
          },
          "metadata": {},
          "execution_count": 12
        }
      ]
    },
    {
      "cell_type": "code",
      "source": [
        "# Divisão inteira\n",
        "10 // 7"
      ],
      "metadata": {
        "colab": {
          "base_uri": "https://localhost:8080/"
        },
        "id": "REBoVqHTmwNF",
        "outputId": "a71e3a8b-a3a1-41f5-f0e8-573d312c41e8"
      },
      "execution_count": 13,
      "outputs": [
        {
          "output_type": "execute_result",
          "data": {
            "text/plain": [
              "1"
            ]
          },
          "metadata": {},
          "execution_count": 13
        }
      ]
    },
    {
      "cell_type": "markdown",
      "source": [
        "  - **Observação:** o principal uso do operador resto da divisão (%) é para avaliar se um número é par ou impar:\n",
        "    - se o resto da divisão de um número por 2 **É ZERO**, ele é par;\n",
        "    - se o resto da divisão de um número por 2 **É UM**, ele é ímpar."
      ],
      "metadata": {
        "id": "gArp2BzwoTp4"
      }
    },
    {
      "cell_type": "code",
      "source": [
        "# Número par\n",
        "10 % 2"
      ],
      "metadata": {
        "colab": {
          "base_uri": "https://localhost:8080/"
        },
        "id": "flQ1izwFoeCc",
        "outputId": "90b3ad6b-a797-429f-ddfc-454693762e7c"
      },
      "execution_count": 14,
      "outputs": [
        {
          "output_type": "execute_result",
          "data": {
            "text/plain": [
              "0"
            ]
          },
          "metadata": {},
          "execution_count": 14
        }
      ]
    },
    {
      "cell_type": "code",
      "source": [
        "# Número ímpar\n",
        "9 % 2"
      ],
      "metadata": {
        "colab": {
          "base_uri": "https://localhost:8080/"
        },
        "id": "2dwwIO_doqTL",
        "outputId": "c87a9eb7-1797-43ed-d963-12a75d862ee8"
      },
      "execution_count": 15,
      "outputs": [
        {
          "output_type": "execute_result",
          "data": {
            "text/plain": [
              "1"
            ]
          },
          "metadata": {},
          "execution_count": 15
        }
      ]
    }
  ]
}