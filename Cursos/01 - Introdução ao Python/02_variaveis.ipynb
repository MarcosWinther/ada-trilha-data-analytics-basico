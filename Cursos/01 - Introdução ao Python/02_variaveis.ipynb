{
  "cells": [
    {
      "cell_type": "markdown",
      "metadata": {
        "id": "Eb7Qa3RFmgwS"
      },
      "source": [
        "# 🐍📦 Variáves em Python\n",
        "  - Variavéis são espaços na memória do computador que armazenam dados, como números, textos ou valores booleanos.\n",
        "  - Elas são ferramentas que permitem aos programadores manipular dados e otimizar o processo de programação.\n",
        "\n",
        "<br>\n",
        "\n",
        "### Algumas regras na hora de criar variável:\n",
        "  - O Python **diferencia** maiúscula de minúscula (ex: **\"variavel\"** é diferente de **\"Variavel\"**, **\"VaRiAvEl\"** ou **\"VARIAVEL\"**)\n",
        "    - __Dica:__ melhor usar letras minúsculas pra nomes de variáveis\n",
        "  - O nome das variáveis **não** pode ter espaço! Use um underline ao invés de espaço: \"minha_variavel\" ao invés de \"minha variavel\"\n",
        "  - É melhor que o nome da variável **não** tenha acento (ex: não usar o nome \"variável\")\n",
        "  - Existem algumas palavras reservadas do Python, que **não** podem ser usadas como nome de variável, ex: and, or, if, else, lambda, etc.\n",
        "  - Também **não** use nome de funções para variáveis (ex: print)\n",
        "  - __Dica geral:__ o nome de variavel fica preto em python!\n",
        "    - Se o nome que você for dar ficar colorido, melhor escolher outro nome!\n",
        "\n",
        "**IMPORTANTE (dica): O sinal \"=\" é lido como \"recebe\", conhecido na programação como o sinal de atribuição, pois o que estamos fazendo é guardar o valor da operação matemática no pedacinho de memória com o nome da variável, então o pedacinho de memória recebe o valor indicado depois do sinal de \"=\"**\n",
        "\n",
        "  - **Exemplos de variáveis:**\n"
      ]
    },
    {
      "cell_type": "code",
      "execution_count": 1,
      "metadata": {
        "id": "SMFhHW_I6IGj"
      },
      "outputs": [],
      "source": [
        "meu_numero = 10 * 20\n",
        "variavel = 10 ** 10\n",
        "x = 10 + 10"
      ]
    },
    {
      "cell_type": "code",
      "execution_count": 2,
      "metadata": {
        "id": "_mWl1LLs6IGk",
        "outputId": "0f7e91ad-c33c-4fd6-ca0b-b647caef85ef",
        "colab": {
          "base_uri": "https://localhost:8080/"
        }
      },
      "outputs": [
        {
          "output_type": "execute_result",
          "data": {
            "text/plain": [
              "200"
            ]
          },
          "metadata": {},
          "execution_count": 2
        }
      ],
      "source": [
        "meu_numero"
      ]
    },
    {
      "cell_type": "code",
      "execution_count": 3,
      "metadata": {
        "id": "PZg4_SK56IGl",
        "outputId": "0a3db242-05a1-4673-a480-9994798fbc1d",
        "colab": {
          "base_uri": "https://localhost:8080/"
        }
      },
      "outputs": [
        {
          "output_type": "execute_result",
          "data": {
            "text/plain": [
              "10000000000"
            ]
          },
          "metadata": {},
          "execution_count": 3
        }
      ],
      "source": [
        "variavel"
      ]
    },
    {
      "cell_type": "code",
      "execution_count": 4,
      "metadata": {
        "id": "GPDZnXag6IGm",
        "outputId": "d0fc5fd4-c201-4b49-bb0f-e0f7d8a839bc",
        "colab": {
          "base_uri": "https://localhost:8080/"
        }
      },
      "outputs": [
        {
          "output_type": "execute_result",
          "data": {
            "text/plain": [
              "20"
            ]
          },
          "metadata": {},
          "execution_count": 4
        }
      ],
      "source": [
        "x"
      ]
    },
    {
      "cell_type": "markdown",
      "metadata": {
        "id": "8xSXAFqN6IGm"
      },
      "source": [
        "  - Exibindo essas variáveis utilizando o comando print:"
      ]
    },
    {
      "cell_type": "code",
      "execution_count": 5,
      "metadata": {
        "id": "y4GIqV_x6IGn",
        "outputId": "f31d5645-05c4-42aa-b85e-cda1daedeff6",
        "colab": {
          "base_uri": "https://localhost:8080/"
        }
      },
      "outputs": [
        {
          "output_type": "stream",
          "name": "stdout",
          "text": [
            "200\n",
            "10000000000\n",
            "20\n"
          ]
        }
      ],
      "source": [
        "print(meu_numero)\n",
        "print(variavel)\n",
        "print(x)"
      ]
    },
    {
      "cell_type": "markdown",
      "metadata": {
        "id": "5M9uq_qk6IGn"
      },
      "source": [
        "<br>\n",
        "\n",
        "  - Posso redefinir o valor de uma variável, reatribuindo um novo valor.\n",
        "\n",
        "  - Exemplo:"
      ]
    },
    {
      "cell_type": "code",
      "execution_count": 6,
      "metadata": {
        "id": "jmf7FYH96IGo",
        "outputId": "276fc4ab-6162-46a3-b1f9-8fff92964bb9",
        "colab": {
          "base_uri": "https://localhost:8080/"
        }
      },
      "outputs": [
        {
          "output_type": "execute_result",
          "data": {
            "text/plain": [
              "20"
            ]
          },
          "metadata": {},
          "execution_count": 6
        }
      ],
      "source": [
        "x"
      ]
    },
    {
      "cell_type": "code",
      "execution_count": 7,
      "metadata": {
        "id": "LPSoHSPB6IGo"
      },
      "outputs": [],
      "source": [
        "x = 42"
      ]
    },
    {
      "cell_type": "code",
      "execution_count": 8,
      "metadata": {
        "id": "2YBaJ9Od6IGp",
        "outputId": "a4a84865-992c-4470-9ffd-24a560401675",
        "colab": {
          "base_uri": "https://localhost:8080/"
        }
      },
      "outputs": [
        {
          "output_type": "execute_result",
          "data": {
            "text/plain": [
              "42"
            ]
          },
          "metadata": {},
          "execution_count": 8
        }
      ],
      "source": [
        "x"
      ]
    },
    {
      "cell_type": "markdown",
      "metadata": {
        "id": "io7v_Dyl6IGp"
      },
      "source": [
        "<br>\n",
        "\n",
        "  - Outro exemplo de variável:"
      ]
    },
    {
      "cell_type": "code",
      "execution_count": 9,
      "metadata": {
        "id": "gzdHS5aV6IGq",
        "outputId": "f14a8493-e9a9-4c6f-e934-1fbb0ef011ff",
        "colab": {
          "base_uri": "https://localhost:8080/"
        }
      },
      "outputs": [
        {
          "output_type": "stream",
          "name": "stdout",
          "text": [
            "Olá, Marcos Winther! Tudo bem?\n"
          ]
        }
      ],
      "source": [
        "nome = 'Marcos Winther!'\n",
        "\n",
        "print(\"Olá,\", nome, \"Tudo bem?\")"
      ]
    },
    {
      "cell_type": "markdown",
      "metadata": {
        "id": "WygtsKBx6IGq"
      },
      "source": [
        "<br>\n",
        "\n",
        "## 🏷️ Tipos de Variáves\n",
        "\n",
        "### 🔢 Inteiro:\n",
        "  - Números sem casas decimais.\n",
        "  - Os números inteiros podem ser negativos ou positivos.\n",
        "  - **Exemplos:**\n",
        "    - 4\n",
        "    - -8\n",
        "    - 20\n",
        "    - 100\n",
        "  \n",
        "  - **Exemplo código:**"
      ]
    },
    {
      "cell_type": "code",
      "execution_count": 10,
      "metadata": {
        "id": "9Pmc3GDOnKDr"
      },
      "outputs": [],
      "source": [
        "numero_filhos = 2"
      ]
    },
    {
      "cell_type": "code",
      "execution_count": 11,
      "metadata": {
        "colab": {
          "base_uri": "https://localhost:8080/"
        },
        "id": "CTiIs4U7pF23",
        "outputId": "958d60da-e44e-4ebe-c0f5-e480cb571146"
      },
      "outputs": [
        {
          "output_type": "execute_result",
          "data": {
            "text/plain": [
              "2"
            ]
          },
          "metadata": {},
          "execution_count": 11
        }
      ],
      "source": [
        "numero_filhos"
      ]
    },
    {
      "cell_type": "markdown",
      "metadata": {
        "id": "6L1prDBVpovO"
      },
      "source": [
        "<br>\n",
        "\n",
        "### 🌊 Float:\n",
        "  - São números com casas decimais.\n",
        "  - Em várias linguagens de programação, em vez de vírgulas, utilizamos ponto para indicar casas decimais.\n",
        "  - **Exemplos:**\n",
        "    - 50.2\n",
        "    - -20.4\n",
        "\n",
        "- **Exemplo código:**"
      ]
    },
    {
      "cell_type": "code",
      "execution_count": 12,
      "metadata": {
        "id": "kMBLxLKSqesA"
      },
      "outputs": [],
      "source": [
        "altura = 1.73"
      ]
    },
    {
      "cell_type": "code",
      "execution_count": 13,
      "metadata": {
        "colab": {
          "base_uri": "https://localhost:8080/"
        },
        "id": "Z8hCPDPQrtYS",
        "outputId": "9cabd8ad-b20f-42a6-cdb7-ef2df1c5367e"
      },
      "outputs": [
        {
          "output_type": "execute_result",
          "data": {
            "text/plain": [
              "1.73"
            ]
          },
          "metadata": {},
          "execution_count": 13
        }
      ],
      "source": [
        "altura"
      ]
    },
    {
      "cell_type": "code",
      "execution_count": 14,
      "metadata": {
        "colab": {
          "base_uri": "https://localhost:8080/"
        },
        "id": "JgfFg6CJr2g3",
        "outputId": "3581e854-ca48-4d25-a7cf-0fe6e47d563d"
      },
      "outputs": [
        {
          "output_type": "execute_result",
          "data": {
            "text/plain": [
              "float"
            ]
          },
          "metadata": {},
          "execution_count": 14
        }
      ],
      "source": [
        "type(altura)"
      ]
    },
    {
      "cell_type": "markdown",
      "metadata": {
        "id": "VuCb1a1SrvkA"
      },
      "source": [
        "<br>\n",
        "\n",
        "### ✏️ String (str):\n",
        "  - São textos, caracteres especiais.\n",
        "  - No Python, para representar uma variável ``string`` utilizamos aspas duplas (\" \") ou aspas simples (' ').\n",
        "  - **Exemplos:**\n",
        "    - \"Hello World!\"\n",
        "    - 'São 9h28min'\n",
        "    - '3.14'\n",
        "  \n",
        "  - **Exemplos códigos:**"
      ]
    },
    {
      "cell_type": "code",
      "execution_count": 15,
      "metadata": {
        "id": "W14YPudqtOyu"
      },
      "outputs": [],
      "source": [
        "nome = 'Marcos Winther'\n",
        "\n",
        "profissao = \"Engenheiro de Dados\""
      ]
    },
    {
      "cell_type": "code",
      "execution_count": 16,
      "metadata": {
        "colab": {
          "base_uri": "https://localhost:8080/",
          "height": 35
        },
        "id": "BweV-OD6uXDE",
        "outputId": "4b1c0be5-5cff-47db-8149-d04600c1320e"
      },
      "outputs": [
        {
          "output_type": "execute_result",
          "data": {
            "text/plain": [
              "'Marcos Winther'"
            ],
            "application/vnd.google.colaboratory.intrinsic+json": {
              "type": "string"
            }
          },
          "metadata": {},
          "execution_count": 16
        }
      ],
      "source": [
        "nome"
      ]
    },
    {
      "cell_type": "code",
      "execution_count": 17,
      "metadata": {
        "colab": {
          "base_uri": "https://localhost:8080/",
          "height": 35
        },
        "id": "3OQ0rQ4pucn9",
        "outputId": "addc0a61-2fa7-4a48-87bc-8c937ef51b11"
      },
      "outputs": [
        {
          "output_type": "execute_result",
          "data": {
            "text/plain": [
              "'Engenheiro de Dados'"
            ],
            "application/vnd.google.colaboratory.intrinsic+json": {
              "type": "string"
            }
          },
          "metadata": {},
          "execution_count": 17
        }
      ],
      "source": [
        "profissao"
      ]
    },
    {
      "cell_type": "code",
      "execution_count": 18,
      "metadata": {
        "colab": {
          "base_uri": "https://localhost:8080/"
        },
        "id": "glbpMhEgu9eM",
        "outputId": "9054e398-c7db-4900-ac5e-2257aefbfa6f"
      },
      "outputs": [
        {
          "output_type": "stream",
          "name": "stdout",
          "text": [
            "Marcos Winther Engenheiro de Dados\n"
          ]
        }
      ],
      "source": [
        "print(nome, profissao)"
      ]
    },
    {
      "cell_type": "code",
      "execution_count": 19,
      "metadata": {
        "colab": {
          "base_uri": "https://localhost:8080/",
          "height": 35
        },
        "id": "fPJ5lmI3vDF3",
        "outputId": "149c1620-b9bf-4466-bfa6-4ac26847e657"
      },
      "outputs": [
        {
          "output_type": "execute_result",
          "data": {
            "text/plain": [
              "'\"O essencial é invisível aos olhos\" - Antoine de Saint-Exupéry'"
            ],
            "application/vnd.google.colaboratory.intrinsic+json": {
              "type": "string"
            }
          },
          "metadata": {},
          "execution_count": 19
        }
      ],
      "source": [
        "minha_frase_preferida = '\"O essencial é invisível aos olhos\" - Antoine de Saint-Exupéry'\n",
        "minha_frase_preferida"
      ]
    },
    {
      "cell_type": "code",
      "execution_count": 20,
      "metadata": {
        "colab": {
          "base_uri": "https://localhost:8080/"
        },
        "id": "G1sojOzW9spK",
        "outputId": "5e2a51bc-9d52-4dba-873e-579464b5908f"
      },
      "outputs": [
        {
          "output_type": "stream",
          "name": "stdout",
          "text": [
            "\"O essencial é invisível aos olhos\" - Antoine de Saint-Exupéry\n"
          ]
        }
      ],
      "source": [
        "print(minha_frase_preferida)"
      ]
    },
    {
      "cell_type": "code",
      "execution_count": 21,
      "metadata": {
        "colab": {
          "base_uri": "https://localhost:8080/",
          "height": 35
        },
        "id": "CC95onNA-Cc6",
        "outputId": "d5daf4e5-984c-4e04-a350-10ee8df98278"
      },
      "outputs": [
        {
          "output_type": "execute_result",
          "data": {
            "text/plain": [
              "\"Seven o'clock\""
            ],
            "application/vnd.google.colaboratory.intrinsic+json": {
              "type": "string"
            }
          },
          "metadata": {},
          "execution_count": 21
        }
      ],
      "source": [
        "hours = \"Seven o'clock\"\n",
        "\n",
        "hours"
      ]
    },
    {
      "cell_type": "markdown",
      "metadata": {
        "id": "vKFZDSsW-heX"
      },
      "source": [
        "<br>\n",
        "\n",
        "### ⚙️ Boleano\n",
        "  - Únicos valores possíves:\n",
        "    - **True** para verdadeiro;\n",
        "    - **False** para falso.\n",
        "  \n",
        "  - **Exemplos códigos:**"
      ]
    },
    {
      "cell_type": "code",
      "execution_count": 22,
      "metadata": {
        "colab": {
          "base_uri": "https://localhost:8080/"
        },
        "id": "AozzJKMYBqlL",
        "outputId": "8d3fb4e8-dae9-46dd-cc41-f5b4e4868a43"
      },
      "outputs": [
        {
          "output_type": "execute_result",
          "data": {
            "text/plain": [
              "True"
            ]
          },
          "metadata": {},
          "execution_count": 22
        }
      ],
      "source": [
        "True"
      ]
    },
    {
      "cell_type": "code",
      "execution_count": 23,
      "metadata": {
        "colab": {
          "base_uri": "https://localhost:8080/"
        },
        "id": "swxthUfFBt-f",
        "outputId": "135bb880-f5e5-44c0-ab87-27f8c500143f"
      },
      "outputs": [
        {
          "output_type": "execute_result",
          "data": {
            "text/plain": [
              "False"
            ]
          },
          "metadata": {},
          "execution_count": 23
        }
      ],
      "source": [
        "False"
      ]
    }
  ],
  "metadata": {
    "colab": {
      "provenance": []
    },
    "kernelspec": {
      "display_name": "Python 3 (ipykernel)",
      "language": "python",
      "name": "python3"
    },
    "language_info": {
      "codemirror_mode": {
        "name": "ipython",
        "version": 3
      },
      "file_extension": ".py",
      "mimetype": "text/x-python",
      "name": "python",
      "nbconvert_exporter": "python",
      "pygments_lexer": "ipython3",
      "version": "3.12.7"
    }
  },
  "nbformat": 4,
  "nbformat_minor": 0
}