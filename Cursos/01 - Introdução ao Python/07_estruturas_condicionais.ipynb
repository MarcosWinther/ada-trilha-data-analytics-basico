{
  "nbformat": 4,
  "nbformat_minor": 0,
  "metadata": {
    "colab": {
      "provenance": []
    },
    "kernelspec": {
      "name": "python3",
      "display_name": "Python 3"
    },
    "language_info": {
      "name": "python"
    }
  },
  "cells": [
    {
      "cell_type": "markdown",
      "source": [
        "# 🤔 Estruturas Condicionais\n",
        "  - O principal uso dos operadores lógicos é em **estruturas condicionais**\n",
        "  - **Estruturas condicionais** são blocos de código que permitem que um programa execute diferentes comandos de acordo com condições estabelecidas.\n",
        "  - Elas são fundamentais na programação, pois permitem que o software reaja de forma dinâmica a diferentes situações.\n",
        "  - Esse tipo de estrutura é utilizada para tratar **casos diferentes** dentro do código, a depender do valor lógico de uma dada condição."
      ],
      "metadata": {
        "id": "HC7Uezg7mg7O"
      }
    },
    {
      "cell_type": "markdown",
      "source": [
        "  - Os **operadores condicionais** são: **if**, **elif** e **else**\n",
        "\n",
        "    - **if**: Se uma condição for verdadeira, faça determinada operação.\n",
        "    - **elif**: Se a condição acima for falsa, avalie uma próxima condição, e se essa for verdadeira, faça outra operação\n",
        "    - **else**: Se nenhuma das condições acima for verdadeira, faça outra coisa\n",
        "\n",
        "  - O uso de elif e else **não** é obrigatório! (Mas é muitas vezes é necessário, dependendo da situação.)"
      ],
      "metadata": {
        "id": "KwHJCGQVnPEP"
      }
    },
    {
      "cell_type": "markdown",
      "source": [
        "  - As estruturas condicionais seguem a seguinte estrutura:\n",
        "\n",
        "```python\n",
        "if (condicao é True):\n",
        "    operacoes\n",
        "elif (condicao é True):\n",
        "    operacoes\n",
        "else:\n",
        "    operacoes\n",
        "```"
      ],
      "metadata": {
        "id": "PrcWtcdnnglF"
      }
    },
    {
      "cell_type": "markdown",
      "source": [
        "  - Se alguma condição no **if** ou **elif** for verdadeira, todo o resto é ignorado!\n",
        "  - Por isso, as condições no if e os diferentes elifs sempre são **excludentes**!"
      ],
      "metadata": {
        "id": "U88nTmbionzt"
      }
    },
    {
      "cell_type": "markdown",
      "source": [
        "  - **Exemplo de código:**\n",
        "    - Faça uma verificação se aluno é aprovado ou não seguinte esses critérios:\n",
        "      - Se a média for maior ou igual a 7, o aluno é aprovado;\n",
        "      - Se a média tiver entre 4 e 5, o aluno estará de recuperação;\n",
        "      - caso contrário, o aluno é reprovado."
      ],
      "metadata": {
        "id": "ic7LrMzvovN-"
      }
    },
    {
      "cell_type": "code",
      "source": [
        "media = float(input(\"Digite a média do aluno: \"))\n",
        "\n",
        "if media >= 7:\n",
        "    print(\"Aprovado\")\n",
        "elif media >= 4 and media <= 5:\n",
        "    print(\"Recuperação\")\n",
        "else:\n",
        "    print(\"Reprovado\")"
      ],
      "metadata": {
        "colab": {
          "base_uri": "https://localhost:8080/"
        },
        "id": "ZKwiKRkKpbTg",
        "outputId": "5924cb87-db88-4e7a-d520-f7f2eb125ece"
      },
      "execution_count": null,
      "outputs": [
        {
          "output_type": "stream",
          "name": "stdout",
          "text": [
            "Digite a média do aluno: 8\n",
            "Aprovado\n"
          ]
        }
      ]
    },
    {
      "cell_type": "markdown",
      "source": [
        "<br>\n",
        "\n",
        "  - **Outro exemplo de código:**\n",
        "    - imagine que uma escola tem o seguinte critério de avaliação baseado na **média** do aluno **e** em sua **frequência**.\n",
        "      - **Regra 1:** se a média for maior ou igual a 9, o aluno é aprovado, independente da frequência;\n",
        "      - **Regra 2:** se a média estiver entre 6 e 9, o aluno só é aprovado se a frequência for maior ou igual a 75%;\n",
        "      - **Regra 3:** se a média estiver entre 6 e 9, mas a frequência for menor que 75%, ele vai pra recuperação;\n",
        "      - **Regra 4:** se a média for menor que 6 e a frequência do aluno for maior ou igual a 75%, ele pode fazer recuperação;\n",
        "      - **Regra 5:** se a média for menor que 6 e a frequência do aluno for menor que a 75%, ele é automaticamente reprovado."
      ],
      "metadata": {
        "id": "ZkDvQDazcb-S"
      }
    },
    {
      "cell_type": "code",
      "source": [
        "media = float(input(\"Digite a média do aluno: \"))\n",
        "frequencia = float(input(\"Digite a frequência do aluno: \"))\n",
        "\n",
        "if media >= 9:\n",
        "    print(\"Aprovado\")\n",
        "elif media >= 6 and frequencia >= 75:\n",
        "    print(\"Aprovado\")\n",
        "elif media >= 6 and frequencia < 75:\n",
        "    print(\"Recuperação\")\n",
        "elif media < 6 and frequencia >= 75:\n",
        "    print(\"Recuperação\")\n",
        "else:\n",
        "    print(\"Reprovado\")"
      ],
      "metadata": {
        "colab": {
          "base_uri": "https://localhost:8080/"
        },
        "id": "pQTj0ETndzZN",
        "outputId": "eeffaa01-9f81-4ff3-8ba6-c5fc39febeec"
      },
      "execution_count": 4,
      "outputs": [
        {
          "output_type": "stream",
          "name": "stdout",
          "text": [
            "Digite a média do aluno: 8\n",
            "Digite a frequência do aluno: 80\n",
            "Aprovado\n"
          ]
        }
      ]
    },
    {
      "cell_type": "markdown",
      "source": [
        "  - Podemos reduzir o código anterior:"
      ],
      "metadata": {
        "id": "Tj0W4hBvhluY"
      }
    },
    {
      "cell_type": "code",
      "source": [
        "if (media >= 6 and frequencia >= 75) or media >= 9:\n",
        "    print(\"Aprovado\")\n",
        "elif (media >= 6 and frequencia < 75) or (media < 6 and frequencia >= 75):\n",
        "    print(\"Recuperação\")\n",
        "else:\n",
        "    print(\"Reprovado\")"
      ],
      "metadata": {
        "colab": {
          "base_uri": "https://localhost:8080/"
        },
        "id": "iOccyVklhs2W",
        "outputId": "ff617559-e372-40da-ac2d-61acdc0febba"
      },
      "execution_count": 5,
      "outputs": [
        {
          "output_type": "stream",
          "name": "stdout",
          "text": [
            "Aprovado\n"
          ]
        }
      ]
    }
  ]
}