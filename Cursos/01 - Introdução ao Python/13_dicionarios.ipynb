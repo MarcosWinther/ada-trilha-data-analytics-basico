{
  "nbformat": 4,
  "nbformat_minor": 0,
  "metadata": {
    "colab": {
      "provenance": []
    },
    "kernelspec": {
      "name": "python3",
      "display_name": "Python 3"
    },
    "language_info": {
      "name": "python"
    }
  },
  "cells": [
    {
      "cell_type": "markdown",
      "source": [
        "# 📚 Dicionários\n",
        "\n",
        "- Um dicionário em Python é uma estrutura de dados que armazena pares de chave-valor.\n",
        "- É uma forma de organizar dados de forma similar a um banco de dados."
      ],
      "metadata": {
        "id": "eQYjcu5mfDZs"
      }
    },
    {
      "cell_type": "markdown",
      "source": [
        "### Características\n",
        "\n",
        "- Cada chave é única e associada a um valor específico;\n",
        "- As chaves podem ser strings, números ou tuplas imutáveis;\n",
        "- Os valores podem ser strings, números, listas, outras estruturas de dados e funções;\n",
        "- Os dicionários são mutáveis, ou seja, é possível adicionar, remover ou atualizar elementos sem criar um novo objeto.\n",
        "\n",
        "````python\n",
        "dicionario = {\"chave\": valor}\n",
        "````"
      ],
      "metadata": {
        "id": "Uje5Ra4efgZh"
      }
    },
    {
      "cell_type": "code",
      "source": [
        "# Exemplo dicionário\n",
        "dicionario = {\"nome\": \"João\", \"idade\": 30, \"cidade\": \"São Paulo\"}\n",
        "print(dicionario)"
      ],
      "metadata": {
        "colab": {
          "base_uri": "https://localhost:8080/"
        },
        "id": "nTNXzJINgMPv",
        "outputId": "b6c5c8f5-3f9d-4985-83aa-9e4b94889d3f"
      },
      "execution_count": 1,
      "outputs": [
        {
          "output_type": "stream",
          "name": "stdout",
          "text": [
            "{'nome': 'João', 'idade': 30, 'cidade': 'São Paulo'}\n"
          ]
        }
      ]
    },
    {
      "cell_type": "code",
      "source": [
        "# Acessando um valor de um índice no dicionário\n",
        "dicionario[\"nome\"]"
      ],
      "metadata": {
        "colab": {
          "base_uri": "https://localhost:8080/",
          "height": 35
        },
        "id": "GSHCxDQlg4Kx",
        "outputId": "aa268cde-5d99-42fa-ee43-1d35f4b76f56"
      },
      "execution_count": 2,
      "outputs": [
        {
          "output_type": "execute_result",
          "data": {
            "text/plain": [
              "'João'"
            ],
            "application/vnd.google.colaboratory.intrinsic+json": {
              "type": "string"
            }
          },
          "metadata": {},
          "execution_count": 2
        }
      ]
    },
    {
      "cell_type": "markdown",
      "source": [
        "### Usos\n",
        "\n",
        "- São úteis para representar relações que existem no mundo real, como um produto e seu preço;\n",
        "- São úteis para projetos complexos;\n",
        "- São muito utilizados em ciência de dados."
      ],
      "metadata": {
        "id": "8aUZ3VNrhzpl"
      }
    },
    {
      "cell_type": "markdown",
      "source": [
        "### Como verificar a existência de uma chave\n",
        "\n",
        "- Para verificar se uma chave existe em um dicionário, pode usar o operador **in**;\n",
        "- ``'chave' in dicionario`` retorna **True** se a chave estiver presente e **False** caso contrário."
      ],
      "metadata": {
        "id": "etIUjIYBidVF"
      }
    },
    {
      "cell_type": "code",
      "source": [
        "# Verificando a existência de uma chave no dicionário\n",
        "if \"nome\" in dicionario:\n",
        "    print(\"A chave 'nome' existe no dicionário.\")\n",
        "else:\n",
        "    print(\"A chave 'nome' não existe no dicionário.\")"
      ],
      "metadata": {
        "colab": {
          "base_uri": "https://localhost:8080/"
        },
        "id": "pAXZ72gyiyhs",
        "outputId": "8c6fcabd-0f33-4701-a109-473a48219f88"
      },
      "execution_count": 3,
      "outputs": [
        {
          "output_type": "stream",
          "name": "stdout",
          "text": [
            "A chave 'nome' existe no dicionário.\n"
          ]
        }
      ]
    },
    {
      "cell_type": "markdown",
      "source": [
        "### Exemplo Prático Utilizando Dicionários\n",
        "\n",
        "- O exemplo abaixo será um dicionario de cadastro."
      ],
      "metadata": {
        "id": "V06D5PbwkZVT"
      }
    },
    {
      "cell_type": "code",
      "source": [
        "# Dicionário de cadastro: nome, idade, cidade e altura\n",
        "cadastro = {\n",
        "    \"nome\": [\"João\", \"Maria\", \"Pedro\"],\n",
        "    \"idade\": [30, 25, 35],\n",
        "    \"cidade\": [\"São Paulo\", \"Rio de Janeiro\", \"Belo Horizonte\"],\n",
        "    \"altura\": [1.7, 1.65, 1.8]\n",
        "}\n",
        "\n",
        "print(cadastro)"
      ],
      "metadata": {
        "colab": {
          "base_uri": "https://localhost:8080/"
        },
        "id": "X4frYbLWkpgp",
        "outputId": "f0ea9fd4-adc2-42f9-dc73-c3cde14bebd8"
      },
      "execution_count": 4,
      "outputs": [
        {
          "output_type": "stream",
          "name": "stdout",
          "text": [
            "{'nome': ['João', 'Maria', 'Pedro'], 'idade': [30, 25, 35], 'cidade': ['São Paulo', 'Rio de Janeiro', 'Belo Horizonte'], 'altura': [1.7, 1.65, 1.8]}\n"
          ]
        }
      ]
    },
    {
      "cell_type": "code",
      "source": [
        "# Exemplo: pegando somente os nomes cadastrados no dicionário\n",
        "print(cadastro[\"nome\"])\n"
      ],
      "metadata": {
        "colab": {
          "base_uri": "https://localhost:8080/"
        },
        "id": "3VA0JaLvlLp5",
        "outputId": "3076f33f-59ad-43c8-b74e-f05b37a2f451"
      },
      "execution_count": 5,
      "outputs": [
        {
          "output_type": "stream",
          "name": "stdout",
          "text": [
            "['João', 'Maria', 'Pedro']\n"
          ]
        }
      ]
    },
    {
      "cell_type": "markdown",
      "source": [
        "- É possível adicionar mais uma chave no dicionário."
      ],
      "metadata": {
        "id": "A9TyBaCdnIPE"
      }
    },
    {
      "cell_type": "code",
      "source": [
        "# Adicionando a chave peso em nosso dicionário cadastro\n",
        "cadastro[\"peso\"] = [70, 60, 80]\n",
        "\n",
        "cadastro"
      ],
      "metadata": {
        "colab": {
          "base_uri": "https://localhost:8080/"
        },
        "id": "ugzcxIVbnP4z",
        "outputId": "13e95021-322b-44ef-a05c-3cdc955fa3e4"
      },
      "execution_count": 6,
      "outputs": [
        {
          "output_type": "execute_result",
          "data": {
            "text/plain": [
              "{'nome': ['João', 'Maria', 'Pedro'],\n",
              " 'idade': [30, 25, 35],\n",
              " 'cidade': ['São Paulo', 'Rio de Janeiro', 'Belo Horizonte'],\n",
              " 'altura': [1.7, 1.65, 1.8],\n",
              " 'peso': [70, 60, 80]}"
            ]
          },
          "metadata": {},
          "execution_count": 6
        }
      ]
    },
    {
      "cell_type": "markdown",
      "source": [
        "- Para apagar uma chave podemos utilizar o método ``pop()`` ou o comando ``del``."
      ],
      "metadata": {
        "id": "5-3c1ssOpY5_"
      }
    },
    {
      "cell_type": "code",
      "source": [
        "# Utilizando o método pop\n",
        "cadastro.pop(\"peso\")\n",
        "\n",
        "cadastro"
      ],
      "metadata": {
        "colab": {
          "base_uri": "https://localhost:8080/"
        },
        "id": "XnOiseL0plIl",
        "outputId": "0c7d595c-a6bd-4d03-982b-02afc535cb3b"
      },
      "execution_count": 7,
      "outputs": [
        {
          "output_type": "execute_result",
          "data": {
            "text/plain": [
              "{'nome': ['João', 'Maria', 'Pedro'],\n",
              " 'idade': [30, 25, 35],\n",
              " 'cidade': ['São Paulo', 'Rio de Janeiro', 'Belo Horizonte'],\n",
              " 'altura': [1.7, 1.65, 1.8]}"
            ]
          },
          "metadata": {},
          "execution_count": 7
        }
      ]
    },
    {
      "cell_type": "code",
      "source": [
        "# Utilizando o del\n",
        "del cadastro[\"altura\"]\n",
        "\n",
        "cadastro"
      ],
      "metadata": {
        "colab": {
          "base_uri": "https://localhost:8080/"
        },
        "id": "L4EDLKj2qEKW",
        "outputId": "d9d1445e-58d2-47fb-b98a-545934cce103"
      },
      "execution_count": 8,
      "outputs": [
        {
          "output_type": "execute_result",
          "data": {
            "text/plain": [
              "{'nome': ['João', 'Maria', 'Pedro'],\n",
              " 'idade': [30, 25, 35],\n",
              " 'cidade': ['São Paulo', 'Rio de Janeiro', 'Belo Horizonte']}"
            ]
          },
          "metadata": {},
          "execution_count": 8
        }
      ]
    },
    {
      "cell_type": "markdown",
      "source": [
        "- Alterar valores é possível em um dicionário."
      ],
      "metadata": {
        "id": "aHUvOaHMqko1"
      }
    },
    {
      "cell_type": "code",
      "source": [
        "cadastro[\"cidade\"][0] = \"Uberlândia\"\n",
        "\n",
        "cadastro"
      ],
      "metadata": {
        "colab": {
          "base_uri": "https://localhost:8080/"
        },
        "id": "yTMZBkMJqptZ",
        "outputId": "02e6f4d6-9bf8-438a-d2bc-a0b17ea61fea"
      },
      "execution_count": 9,
      "outputs": [
        {
          "output_type": "execute_result",
          "data": {
            "text/plain": [
              "{'nome': ['João', 'Maria', 'Pedro'],\n",
              " 'idade': [30, 25, 35],\n",
              " 'cidade': ['Uberlândia', 'Rio de Janeiro', 'Belo Horizonte']}"
            ]
          },
          "metadata": {},
          "execution_count": 9
        }
      ]
    },
    {
      "cell_type": "markdown",
      "source": [
        "- Podemos adicionar novos valores em nosso dicionario."
      ],
      "metadata": {
        "id": "HxP0jsbGrNVo"
      }
    },
    {
      "cell_type": "code",
      "source": [
        "cadastro[\"nome\"].append(\"Ana\")\n",
        "cadastro[\"idade\"].append(28)\n",
        "cadastro[\"cidade\"].append(\"Curitiba\")\n",
        "\n",
        "cadastro"
      ],
      "metadata": {
        "colab": {
          "base_uri": "https://localhost:8080/"
        },
        "id": "ZCsKw1FTrT2a",
        "outputId": "6f421a99-f493-4bf2-edf3-2ef310ccba15"
      },
      "execution_count": 10,
      "outputs": [
        {
          "output_type": "execute_result",
          "data": {
            "text/plain": [
              "{'nome': ['João', 'Maria', 'Pedro', 'Ana'],\n",
              " 'idade': [30, 25, 35, 28],\n",
              " 'cidade': ['Uberlândia', 'Rio de Janeiro', 'Belo Horizonte', 'Curitiba']}"
            ]
          },
          "metadata": {},
          "execution_count": 10
        }
      ]
    },
    {
      "cell_type": "markdown",
      "source": [
        "- Os dicionários são objetos interáveis.\n",
        "- Podemos percorrer o dicionário utilizando ``for``.\n",
        "- Ao fazer isso, **as chaves são percorridas**."
      ],
      "metadata": {
        "id": "tnEzFCU9r7RQ"
      }
    },
    {
      "cell_type": "code",
      "source": [
        "# Nesse for trará somente as chaves do dicionário\n",
        "for chave in cadastro:\n",
        "  print(chave)"
      ],
      "metadata": {
        "colab": {
          "base_uri": "https://localhost:8080/"
        },
        "id": "f1g8BZmNsydD",
        "outputId": "08aad01a-e385-4e76-d449-ad4e9ab7fc15"
      },
      "execution_count": 11,
      "outputs": [
        {
          "output_type": "stream",
          "name": "stdout",
          "text": [
            "nome\n",
            "idade\n",
            "cidade\n"
          ]
        }
      ]
    },
    {
      "cell_type": "code",
      "source": [
        "# Agora esse for trará as chaves e seus respetivos valores\n",
        "for chave in cadastro:\n",
        "  print(chave, cadastro[chave])"
      ],
      "metadata": {
        "colab": {
          "base_uri": "https://localhost:8080/"
        },
        "id": "7W5LwIv7tBzC",
        "outputId": "139f367a-aff7-4d04-ef99-3eda84e7c083"
      },
      "execution_count": 12,
      "outputs": [
        {
          "output_type": "stream",
          "name": "stdout",
          "text": [
            "nome ['João', 'Maria', 'Pedro', 'Ana']\n",
            "idade [30, 25, 35, 28]\n",
            "cidade ['Uberlândia', 'Rio de Janeiro', 'Belo Horizonte', 'Curitiba']\n"
          ]
        }
      ]
    },
    {
      "cell_type": "code",
      "source": [
        "# Exemplo: pegar informações do Pedro no dicionário cadastro\n",
        "for chave in cadastro:\n",
        "  print(chave, cadastro[chave][2])"
      ],
      "metadata": {
        "colab": {
          "base_uri": "https://localhost:8080/"
        },
        "id": "4_WqG9DGtbTg",
        "outputId": "8d895001-7b36-433a-f8b5-e20d389a6d67"
      },
      "execution_count": 13,
      "outputs": [
        {
          "output_type": "stream",
          "name": "stdout",
          "text": [
            "nome Pedro\n",
            "idade 35\n",
            "cidade Belo Horizonte\n"
          ]
        }
      ]
    },
    {
      "cell_type": "code",
      "source": [
        "# Exemplo: pegar informações da Ana no dicionário e colocar em uma lista\n",
        "lista_ana = []\n",
        "\n",
        "for chave in cadastro:\n",
        "  lista_ana.append(cadastro[chave][3])\n",
        "\n",
        "lista_ana"
      ],
      "metadata": {
        "colab": {
          "base_uri": "https://localhost:8080/"
        },
        "id": "zOrry-NNt-q6",
        "outputId": "d1416d41-5ec7-422c-ce46-225d7438923d"
      },
      "execution_count": 14,
      "outputs": [
        {
          "output_type": "execute_result",
          "data": {
            "text/plain": [
              "['Ana', 28, 'Curitiba']"
            ]
          },
          "metadata": {},
          "execution_count": 14
        }
      ]
    },
    {
      "cell_type": "markdown",
      "source": [
        "- Podemos acessar os valores do dicionário utilizando o método ``values()``."
      ],
      "metadata": {
        "id": "uFpdsLqwvADX"
      }
    },
    {
      "cell_type": "code",
      "source": [
        "cadastro.values()"
      ],
      "metadata": {
        "colab": {
          "base_uri": "https://localhost:8080/"
        },
        "id": "1vPRwBbkvInl",
        "outputId": "699161c4-adb5-4083-8512-5a092edfb77b"
      },
      "execution_count": 15,
      "outputs": [
        {
          "output_type": "execute_result",
          "data": {
            "text/plain": [
              "dict_values([['João', 'Maria', 'Pedro', 'Ana'], [30, 25, 35, 28], ['Uberlândia', 'Rio de Janeiro', 'Belo Horizonte', 'Curitiba']])"
            ]
          },
          "metadata": {},
          "execution_count": 15
        }
      ]
    },
    {
      "cell_type": "code",
      "source": [
        "for valor in cadastro.values():\n",
        "  print(valor)"
      ],
      "metadata": {
        "colab": {
          "base_uri": "https://localhost:8080/"
        },
        "id": "uLrKVq1AvP16",
        "outputId": "3dbb5df7-7e98-4cc3-99db-bec330a71a26"
      },
      "execution_count": 16,
      "outputs": [
        {
          "output_type": "stream",
          "name": "stdout",
          "text": [
            "['João', 'Maria', 'Pedro', 'Ana']\n",
            "[30, 25, 35, 28]\n",
            "['Uberlândia', 'Rio de Janeiro', 'Belo Horizonte', 'Curitiba']\n"
          ]
        }
      ]
    },
    {
      "cell_type": "markdown",
      "source": [
        "- É possível obter a chave e o valor do dicionário."
      ],
      "metadata": {
        "id": "e4Qb1VQAwGh6"
      }
    },
    {
      "cell_type": "code",
      "source": [
        "for chave, valor in cadastro.items():\n",
        "  print(chave, valor)"
      ],
      "metadata": {
        "colab": {
          "base_uri": "https://localhost:8080/"
        },
        "id": "RrKL3ePYwTVQ",
        "outputId": "8e19dbf2-5fea-4b96-b0de-47f84cdcc8c9"
      },
      "execution_count": 17,
      "outputs": [
        {
          "output_type": "stream",
          "name": "stdout",
          "text": [
            "nome ['João', 'Maria', 'Pedro', 'Ana']\n",
            "idade [30, 25, 35, 28]\n",
            "cidade ['Uberlândia', 'Rio de Janeiro', 'Belo Horizonte', 'Curitiba']\n"
          ]
        }
      ]
    },
    {
      "cell_type": "markdown",
      "source": [
        "- Os valores do dicionário podem ser transformados em lista."
      ],
      "metadata": {
        "id": "xxgx-7qpw-4s"
      }
    },
    {
      "cell_type": "code",
      "source": [
        "list(cadastro.values())"
      ],
      "metadata": {
        "colab": {
          "base_uri": "https://localhost:8080/"
        },
        "id": "2I15LNKTxJHV",
        "outputId": "2c9b884a-6b77-4d24-cae8-95981af58a42"
      },
      "execution_count": 18,
      "outputs": [
        {
          "output_type": "execute_result",
          "data": {
            "text/plain": [
              "[['João', 'Maria', 'Pedro', 'Ana'],\n",
              " [30, 25, 35, 28],\n",
              " ['Uberlândia', 'Rio de Janeiro', 'Belo Horizonte', 'Curitiba']]"
            ]
          },
          "metadata": {},
          "execution_count": 18
        }
      ]
    },
    {
      "cell_type": "code",
      "source": [
        "list(cadastro.keys())"
      ],
      "metadata": {
        "colab": {
          "base_uri": "https://localhost:8080/"
        },
        "id": "5VXCKWGrxTk3",
        "outputId": "0e5996b0-4f93-4373-cf6d-435c581d8c19"
      },
      "execution_count": 19,
      "outputs": [
        {
          "output_type": "execute_result",
          "data": {
            "text/plain": [
              "['nome', 'idade', 'cidade']"
            ]
          },
          "metadata": {},
          "execution_count": 19
        }
      ]
    },
    {
      "cell_type": "markdown",
      "source": [
        "- Podemos armazenar valores de um dicionário em uma lista utilizando a **compreensão de listas**."
      ],
      "metadata": {
        "id": "ZA93A4Iqxtkn"
      }
    },
    {
      "cell_type": "code",
      "source": [
        "[valor[3] for valor in cadastro.values()]"
      ],
      "metadata": {
        "colab": {
          "base_uri": "https://localhost:8080/"
        },
        "id": "2vDiau2Ax5nA",
        "outputId": "2e205938-ff8c-4b5d-d710-5b03980f3b87"
      },
      "execution_count": 20,
      "outputs": [
        {
          "output_type": "execute_result",
          "data": {
            "text/plain": [
              "['Ana', 28, 'Curitiba']"
            ]
          },
          "metadata": {},
          "execution_count": 20
        }
      ]
    },
    {
      "cell_type": "code",
      "source": [
        "[cadastro[chave][2] for chave in cadastro]"
      ],
      "metadata": {
        "colab": {
          "base_uri": "https://localhost:8080/"
        },
        "id": "s5q_ckOXyZPJ",
        "outputId": "aaa11ac1-c6c7-43f5-ae27-a516b029f548"
      },
      "execution_count": 21,
      "outputs": [
        {
          "output_type": "execute_result",
          "data": {
            "text/plain": [
              "['Pedro', 35, 'Belo Horizonte']"
            ]
          },
          "metadata": {},
          "execution_count": 21
        }
      ]
    },
    {
      "cell_type": "markdown",
      "source": [
        "<br>\n",
        "\n",
        "## 🐼 Spoiler: Biblioteca Pandas\n",
        "\n",
        "- Como um spoiler de uma aula futura, vamos ver os valores do nosso dicionário em formato de tabela utilizando essa biblioteca."
      ],
      "metadata": {
        "id": "q4pbhsXyzVnH"
      }
    },
    {
      "cell_type": "code",
      "source": [
        "import pandas as pd\n",
        "\n",
        "df = pd.DataFrame(cadastro)\n",
        "\n",
        "df"
      ],
      "metadata": {
        "colab": {
          "base_uri": "https://localhost:8080/",
          "height": 175
        },
        "id": "pEl8a_1Mz0Kj",
        "outputId": "293af2ad-de0b-4583-9313-4b4e914585e5"
      },
      "execution_count": 23,
      "outputs": [
        {
          "output_type": "execute_result",
          "data": {
            "text/plain": [
              "    nome  idade          cidade\n",
              "0   João     30      Uberlândia\n",
              "1  Maria     25  Rio de Janeiro\n",
              "2  Pedro     35  Belo Horizonte\n",
              "3    Ana     28        Curitiba"
            ],
            "text/html": [
              "\n",
              "  <div id=\"df-0edac47b-863a-4f74-a86d-ec1c9cbeb145\" class=\"colab-df-container\">\n",
              "    <div>\n",
              "<style scoped>\n",
              "    .dataframe tbody tr th:only-of-type {\n",
              "        vertical-align: middle;\n",
              "    }\n",
              "\n",
              "    .dataframe tbody tr th {\n",
              "        vertical-align: top;\n",
              "    }\n",
              "\n",
              "    .dataframe thead th {\n",
              "        text-align: right;\n",
              "    }\n",
              "</style>\n",
              "<table border=\"1\" class=\"dataframe\">\n",
              "  <thead>\n",
              "    <tr style=\"text-align: right;\">\n",
              "      <th></th>\n",
              "      <th>nome</th>\n",
              "      <th>idade</th>\n",
              "      <th>cidade</th>\n",
              "    </tr>\n",
              "  </thead>\n",
              "  <tbody>\n",
              "    <tr>\n",
              "      <th>0</th>\n",
              "      <td>João</td>\n",
              "      <td>30</td>\n",
              "      <td>Uberlândia</td>\n",
              "    </tr>\n",
              "    <tr>\n",
              "      <th>1</th>\n",
              "      <td>Maria</td>\n",
              "      <td>25</td>\n",
              "      <td>Rio de Janeiro</td>\n",
              "    </tr>\n",
              "    <tr>\n",
              "      <th>2</th>\n",
              "      <td>Pedro</td>\n",
              "      <td>35</td>\n",
              "      <td>Belo Horizonte</td>\n",
              "    </tr>\n",
              "    <tr>\n",
              "      <th>3</th>\n",
              "      <td>Ana</td>\n",
              "      <td>28</td>\n",
              "      <td>Curitiba</td>\n",
              "    </tr>\n",
              "  </tbody>\n",
              "</table>\n",
              "</div>\n",
              "    <div class=\"colab-df-buttons\">\n",
              "\n",
              "  <div class=\"colab-df-container\">\n",
              "    <button class=\"colab-df-convert\" onclick=\"convertToInteractive('df-0edac47b-863a-4f74-a86d-ec1c9cbeb145')\"\n",
              "            title=\"Convert this dataframe to an interactive table.\"\n",
              "            style=\"display:none;\">\n",
              "\n",
              "  <svg xmlns=\"http://www.w3.org/2000/svg\" height=\"24px\" viewBox=\"0 -960 960 960\">\n",
              "    <path d=\"M120-120v-720h720v720H120Zm60-500h600v-160H180v160Zm220 220h160v-160H400v160Zm0 220h160v-160H400v160ZM180-400h160v-160H180v160Zm440 0h160v-160H620v160ZM180-180h160v-160H180v160Zm440 0h160v-160H620v160Z\"/>\n",
              "  </svg>\n",
              "    </button>\n",
              "\n",
              "  <style>\n",
              "    .colab-df-container {\n",
              "      display:flex;\n",
              "      gap: 12px;\n",
              "    }\n",
              "\n",
              "    .colab-df-convert {\n",
              "      background-color: #E8F0FE;\n",
              "      border: none;\n",
              "      border-radius: 50%;\n",
              "      cursor: pointer;\n",
              "      display: none;\n",
              "      fill: #1967D2;\n",
              "      height: 32px;\n",
              "      padding: 0 0 0 0;\n",
              "      width: 32px;\n",
              "    }\n",
              "\n",
              "    .colab-df-convert:hover {\n",
              "      background-color: #E2EBFA;\n",
              "      box-shadow: 0px 1px 2px rgba(60, 64, 67, 0.3), 0px 1px 3px 1px rgba(60, 64, 67, 0.15);\n",
              "      fill: #174EA6;\n",
              "    }\n",
              "\n",
              "    .colab-df-buttons div {\n",
              "      margin-bottom: 4px;\n",
              "    }\n",
              "\n",
              "    [theme=dark] .colab-df-convert {\n",
              "      background-color: #3B4455;\n",
              "      fill: #D2E3FC;\n",
              "    }\n",
              "\n",
              "    [theme=dark] .colab-df-convert:hover {\n",
              "      background-color: #434B5C;\n",
              "      box-shadow: 0px 1px 3px 1px rgba(0, 0, 0, 0.15);\n",
              "      filter: drop-shadow(0px 1px 2px rgba(0, 0, 0, 0.3));\n",
              "      fill: #FFFFFF;\n",
              "    }\n",
              "  </style>\n",
              "\n",
              "    <script>\n",
              "      const buttonEl =\n",
              "        document.querySelector('#df-0edac47b-863a-4f74-a86d-ec1c9cbeb145 button.colab-df-convert');\n",
              "      buttonEl.style.display =\n",
              "        google.colab.kernel.accessAllowed ? 'block' : 'none';\n",
              "\n",
              "      async function convertToInteractive(key) {\n",
              "        const element = document.querySelector('#df-0edac47b-863a-4f74-a86d-ec1c9cbeb145');\n",
              "        const dataTable =\n",
              "          await google.colab.kernel.invokeFunction('convertToInteractive',\n",
              "                                                    [key], {});\n",
              "        if (!dataTable) return;\n",
              "\n",
              "        const docLinkHtml = 'Like what you see? Visit the ' +\n",
              "          '<a target=\"_blank\" href=https://colab.research.google.com/notebooks/data_table.ipynb>data table notebook</a>'\n",
              "          + ' to learn more about interactive tables.';\n",
              "        element.innerHTML = '';\n",
              "        dataTable['output_type'] = 'display_data';\n",
              "        await google.colab.output.renderOutput(dataTable, element);\n",
              "        const docLink = document.createElement('div');\n",
              "        docLink.innerHTML = docLinkHtml;\n",
              "        element.appendChild(docLink);\n",
              "      }\n",
              "    </script>\n",
              "  </div>\n",
              "\n",
              "\n",
              "<div id=\"df-111fa366-c5bf-4b72-9489-d8ed867e32a8\">\n",
              "  <button class=\"colab-df-quickchart\" onclick=\"quickchart('df-111fa366-c5bf-4b72-9489-d8ed867e32a8')\"\n",
              "            title=\"Suggest charts\"\n",
              "            style=\"display:none;\">\n",
              "\n",
              "<svg xmlns=\"http://www.w3.org/2000/svg\" height=\"24px\"viewBox=\"0 0 24 24\"\n",
              "     width=\"24px\">\n",
              "    <g>\n",
              "        <path d=\"M19 3H5c-1.1 0-2 .9-2 2v14c0 1.1.9 2 2 2h14c1.1 0 2-.9 2-2V5c0-1.1-.9-2-2-2zM9 17H7v-7h2v7zm4 0h-2V7h2v10zm4 0h-2v-4h2v4z\"/>\n",
              "    </g>\n",
              "</svg>\n",
              "  </button>\n",
              "\n",
              "<style>\n",
              "  .colab-df-quickchart {\n",
              "      --bg-color: #E8F0FE;\n",
              "      --fill-color: #1967D2;\n",
              "      --hover-bg-color: #E2EBFA;\n",
              "      --hover-fill-color: #174EA6;\n",
              "      --disabled-fill-color: #AAA;\n",
              "      --disabled-bg-color: #DDD;\n",
              "  }\n",
              "\n",
              "  [theme=dark] .colab-df-quickchart {\n",
              "      --bg-color: #3B4455;\n",
              "      --fill-color: #D2E3FC;\n",
              "      --hover-bg-color: #434B5C;\n",
              "      --hover-fill-color: #FFFFFF;\n",
              "      --disabled-bg-color: #3B4455;\n",
              "      --disabled-fill-color: #666;\n",
              "  }\n",
              "\n",
              "  .colab-df-quickchart {\n",
              "    background-color: var(--bg-color);\n",
              "    border: none;\n",
              "    border-radius: 50%;\n",
              "    cursor: pointer;\n",
              "    display: none;\n",
              "    fill: var(--fill-color);\n",
              "    height: 32px;\n",
              "    padding: 0;\n",
              "    width: 32px;\n",
              "  }\n",
              "\n",
              "  .colab-df-quickchart:hover {\n",
              "    background-color: var(--hover-bg-color);\n",
              "    box-shadow: 0 1px 2px rgba(60, 64, 67, 0.3), 0 1px 3px 1px rgba(60, 64, 67, 0.15);\n",
              "    fill: var(--button-hover-fill-color);\n",
              "  }\n",
              "\n",
              "  .colab-df-quickchart-complete:disabled,\n",
              "  .colab-df-quickchart-complete:disabled:hover {\n",
              "    background-color: var(--disabled-bg-color);\n",
              "    fill: var(--disabled-fill-color);\n",
              "    box-shadow: none;\n",
              "  }\n",
              "\n",
              "  .colab-df-spinner {\n",
              "    border: 2px solid var(--fill-color);\n",
              "    border-color: transparent;\n",
              "    border-bottom-color: var(--fill-color);\n",
              "    animation:\n",
              "      spin 1s steps(1) infinite;\n",
              "  }\n",
              "\n",
              "  @keyframes spin {\n",
              "    0% {\n",
              "      border-color: transparent;\n",
              "      border-bottom-color: var(--fill-color);\n",
              "      border-left-color: var(--fill-color);\n",
              "    }\n",
              "    20% {\n",
              "      border-color: transparent;\n",
              "      border-left-color: var(--fill-color);\n",
              "      border-top-color: var(--fill-color);\n",
              "    }\n",
              "    30% {\n",
              "      border-color: transparent;\n",
              "      border-left-color: var(--fill-color);\n",
              "      border-top-color: var(--fill-color);\n",
              "      border-right-color: var(--fill-color);\n",
              "    }\n",
              "    40% {\n",
              "      border-color: transparent;\n",
              "      border-right-color: var(--fill-color);\n",
              "      border-top-color: var(--fill-color);\n",
              "    }\n",
              "    60% {\n",
              "      border-color: transparent;\n",
              "      border-right-color: var(--fill-color);\n",
              "    }\n",
              "    80% {\n",
              "      border-color: transparent;\n",
              "      border-right-color: var(--fill-color);\n",
              "      border-bottom-color: var(--fill-color);\n",
              "    }\n",
              "    90% {\n",
              "      border-color: transparent;\n",
              "      border-bottom-color: var(--fill-color);\n",
              "    }\n",
              "  }\n",
              "</style>\n",
              "\n",
              "  <script>\n",
              "    async function quickchart(key) {\n",
              "      const quickchartButtonEl =\n",
              "        document.querySelector('#' + key + ' button');\n",
              "      quickchartButtonEl.disabled = true;  // To prevent multiple clicks.\n",
              "      quickchartButtonEl.classList.add('colab-df-spinner');\n",
              "      try {\n",
              "        const charts = await google.colab.kernel.invokeFunction(\n",
              "            'suggestCharts', [key], {});\n",
              "      } catch (error) {\n",
              "        console.error('Error during call to suggestCharts:', error);\n",
              "      }\n",
              "      quickchartButtonEl.classList.remove('colab-df-spinner');\n",
              "      quickchartButtonEl.classList.add('colab-df-quickchart-complete');\n",
              "    }\n",
              "    (() => {\n",
              "      let quickchartButtonEl =\n",
              "        document.querySelector('#df-111fa366-c5bf-4b72-9489-d8ed867e32a8 button');\n",
              "      quickchartButtonEl.style.display =\n",
              "        google.colab.kernel.accessAllowed ? 'block' : 'none';\n",
              "    })();\n",
              "  </script>\n",
              "</div>\n",
              "\n",
              "  <div id=\"id_553d8f01-dae7-47df-8f63-0ba2018c8333\">\n",
              "    <style>\n",
              "      .colab-df-generate {\n",
              "        background-color: #E8F0FE;\n",
              "        border: none;\n",
              "        border-radius: 50%;\n",
              "        cursor: pointer;\n",
              "        display: none;\n",
              "        fill: #1967D2;\n",
              "        height: 32px;\n",
              "        padding: 0 0 0 0;\n",
              "        width: 32px;\n",
              "      }\n",
              "\n",
              "      .colab-df-generate:hover {\n",
              "        background-color: #E2EBFA;\n",
              "        box-shadow: 0px 1px 2px rgba(60, 64, 67, 0.3), 0px 1px 3px 1px rgba(60, 64, 67, 0.15);\n",
              "        fill: #174EA6;\n",
              "      }\n",
              "\n",
              "      [theme=dark] .colab-df-generate {\n",
              "        background-color: #3B4455;\n",
              "        fill: #D2E3FC;\n",
              "      }\n",
              "\n",
              "      [theme=dark] .colab-df-generate:hover {\n",
              "        background-color: #434B5C;\n",
              "        box-shadow: 0px 1px 3px 1px rgba(0, 0, 0, 0.15);\n",
              "        filter: drop-shadow(0px 1px 2px rgba(0, 0, 0, 0.3));\n",
              "        fill: #FFFFFF;\n",
              "      }\n",
              "    </style>\n",
              "    <button class=\"colab-df-generate\" onclick=\"generateWithVariable('df')\"\n",
              "            title=\"Generate code using this dataframe.\"\n",
              "            style=\"display:none;\">\n",
              "\n",
              "  <svg xmlns=\"http://www.w3.org/2000/svg\" height=\"24px\"viewBox=\"0 0 24 24\"\n",
              "       width=\"24px\">\n",
              "    <path d=\"M7,19H8.4L18.45,9,17,7.55,7,17.6ZM5,21V16.75L18.45,3.32a2,2,0,0,1,2.83,0l1.4,1.43a1.91,1.91,0,0,1,.58,1.4,1.91,1.91,0,0,1-.58,1.4L9.25,21ZM18.45,9,17,7.55Zm-12,3A5.31,5.31,0,0,0,4.9,8.1,5.31,5.31,0,0,0,1,6.5,5.31,5.31,0,0,0,4.9,4.9,5.31,5.31,0,0,0,6.5,1,5.31,5.31,0,0,0,8.1,4.9,5.31,5.31,0,0,0,12,6.5,5.46,5.46,0,0,0,6.5,12Z\"/>\n",
              "  </svg>\n",
              "    </button>\n",
              "    <script>\n",
              "      (() => {\n",
              "      const buttonEl =\n",
              "        document.querySelector('#id_553d8f01-dae7-47df-8f63-0ba2018c8333 button.colab-df-generate');\n",
              "      buttonEl.style.display =\n",
              "        google.colab.kernel.accessAllowed ? 'block' : 'none';\n",
              "\n",
              "      buttonEl.onclick = () => {\n",
              "        google.colab.notebook.generateWithVariable('df');\n",
              "      }\n",
              "      })();\n",
              "    </script>\n",
              "  </div>\n",
              "\n",
              "    </div>\n",
              "  </div>\n"
            ],
            "application/vnd.google.colaboratory.intrinsic+json": {
              "type": "dataframe",
              "variable_name": "df",
              "summary": "{\n  \"name\": \"df\",\n  \"rows\": 4,\n  \"fields\": [\n    {\n      \"column\": \"nome\",\n      \"properties\": {\n        \"dtype\": \"string\",\n        \"num_unique_values\": 4,\n        \"samples\": [\n          \"Maria\",\n          \"Ana\",\n          \"Jo\\u00e3o\"\n        ],\n        \"semantic_type\": \"\",\n        \"description\": \"\"\n      }\n    },\n    {\n      \"column\": \"idade\",\n      \"properties\": {\n        \"dtype\": \"number\",\n        \"std\": 4,\n        \"min\": 25,\n        \"max\": 35,\n        \"num_unique_values\": 4,\n        \"samples\": [\n          25,\n          28,\n          30\n        ],\n        \"semantic_type\": \"\",\n        \"description\": \"\"\n      }\n    },\n    {\n      \"column\": \"cidade\",\n      \"properties\": {\n        \"dtype\": \"string\",\n        \"num_unique_values\": 4,\n        \"samples\": [\n          \"Rio de Janeiro\",\n          \"Curitiba\",\n          \"Uberl\\u00e2ndia\"\n        ],\n        \"semantic_type\": \"\",\n        \"description\": \"\"\n      }\n    }\n  ]\n}"
            }
          },
          "metadata": {},
          "execution_count": 23
        }
      ]
    },
    {
      "cell_type": "code",
      "source": [
        "df['nome']"
      ],
      "metadata": {
        "colab": {
          "base_uri": "https://localhost:8080/",
          "height": 210
        },
        "id": "xS8zHd2O0Ql8",
        "outputId": "b4abc167-0e18-4c56-c3f1-100c647e0e5a"
      },
      "execution_count": 24,
      "outputs": [
        {
          "output_type": "execute_result",
          "data": {
            "text/plain": [
              "0     João\n",
              "1    Maria\n",
              "2    Pedro\n",
              "3      Ana\n",
              "Name: nome, dtype: object"
            ],
            "text/html": [
              "<div>\n",
              "<style scoped>\n",
              "    .dataframe tbody tr th:only-of-type {\n",
              "        vertical-align: middle;\n",
              "    }\n",
              "\n",
              "    .dataframe tbody tr th {\n",
              "        vertical-align: top;\n",
              "    }\n",
              "\n",
              "    .dataframe thead th {\n",
              "        text-align: right;\n",
              "    }\n",
              "</style>\n",
              "<table border=\"1\" class=\"dataframe\">\n",
              "  <thead>\n",
              "    <tr style=\"text-align: right;\">\n",
              "      <th></th>\n",
              "      <th>nome</th>\n",
              "    </tr>\n",
              "  </thead>\n",
              "  <tbody>\n",
              "    <tr>\n",
              "      <th>0</th>\n",
              "      <td>João</td>\n",
              "    </tr>\n",
              "    <tr>\n",
              "      <th>1</th>\n",
              "      <td>Maria</td>\n",
              "    </tr>\n",
              "    <tr>\n",
              "      <th>2</th>\n",
              "      <td>Pedro</td>\n",
              "    </tr>\n",
              "    <tr>\n",
              "      <th>3</th>\n",
              "      <td>Ana</td>\n",
              "    </tr>\n",
              "  </tbody>\n",
              "</table>\n",
              "</div><br><label><b>dtype:</b> object</label>"
            ]
          },
          "metadata": {},
          "execution_count": 24
        }
      ]
    },
    {
      "cell_type": "code",
      "source": [
        "df.loc[2]"
      ],
      "metadata": {
        "colab": {
          "base_uri": "https://localhost:8080/",
          "height": 178
        },
        "id": "11TOv3Mv0Vk_",
        "outputId": "f6f0cba7-20da-4bcb-b286-b462b1343340"
      },
      "execution_count": 25,
      "outputs": [
        {
          "output_type": "execute_result",
          "data": {
            "text/plain": [
              "nome               Pedro\n",
              "idade                 35\n",
              "cidade    Belo Horizonte\n",
              "Name: 2, dtype: object"
            ],
            "text/html": [
              "<div>\n",
              "<style scoped>\n",
              "    .dataframe tbody tr th:only-of-type {\n",
              "        vertical-align: middle;\n",
              "    }\n",
              "\n",
              "    .dataframe tbody tr th {\n",
              "        vertical-align: top;\n",
              "    }\n",
              "\n",
              "    .dataframe thead th {\n",
              "        text-align: right;\n",
              "    }\n",
              "</style>\n",
              "<table border=\"1\" class=\"dataframe\">\n",
              "  <thead>\n",
              "    <tr style=\"text-align: right;\">\n",
              "      <th></th>\n",
              "      <th>2</th>\n",
              "    </tr>\n",
              "  </thead>\n",
              "  <tbody>\n",
              "    <tr>\n",
              "      <th>nome</th>\n",
              "      <td>Pedro</td>\n",
              "    </tr>\n",
              "    <tr>\n",
              "      <th>idade</th>\n",
              "      <td>35</td>\n",
              "    </tr>\n",
              "    <tr>\n",
              "      <th>cidade</th>\n",
              "      <td>Belo Horizonte</td>\n",
              "    </tr>\n",
              "  </tbody>\n",
              "</table>\n",
              "</div><br><label><b>dtype:</b> object</label>"
            ]
          },
          "metadata": {},
          "execution_count": 25
        }
      ]
    }
  ]
}