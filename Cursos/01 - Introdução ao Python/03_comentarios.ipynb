{
  "nbformat": 4,
  "nbformat_minor": 0,
  "metadata": {
    "colab": {
      "provenance": []
    },
    "kernelspec": {
      "name": "python3",
      "display_name": "Python 3"
    },
    "language_info": {
      "name": "python"
    }
  },
  "cells": [
    {
      "cell_type": "markdown",
      "source": [
        "# 📝 Comentários\n",
        "  - São utilizados para explicar melhor um trecho de código\n",
        "  - Os comentários não são executados.\n",
        "  - Os comentários de uma linha se inicia com ``#``.\n",
        "  - Os comentários de mais de uma linha iniciam e terminam com ``\"\"\"``."
      ],
      "metadata": {
        "id": "coR_-I3yPa-x"
      }
    },
    {
      "cell_type": "markdown",
      "source": [
        "  - **Exemplo de comentário de uma linha:**"
      ],
      "metadata": {
        "id": "jWGWptPISQX0"
      }
    },
    {
      "cell_type": "code",
      "source": [
        "# Definição de variável que recebe um valor de uma altura específica\n",
        "altura = 1.73\n",
        "\n",
        "altura"
      ],
      "metadata": {
        "colab": {
          "base_uri": "https://localhost:8080/"
        },
        "id": "LKHJ1c13Qp8X",
        "outputId": "a5c4cf2f-f45e-4ec8-d6bb-ee3a4696a23d"
      },
      "execution_count": 1,
      "outputs": [
        {
          "output_type": "execute_result",
          "data": {
            "text/plain": [
              "1.73"
            ]
          },
          "metadata": {},
          "execution_count": 1
        }
      ]
    },
    {
      "cell_type": "markdown",
      "source": [
        "  - **Exemplo de comentário de mais de uma linha:**"
      ],
      "metadata": {
        "id": "DOQvGikPSX0G"
      }
    },
    {
      "cell_type": "code",
      "source": [
        "\"\"\"\n",
        "Este é um comentário de várias linhas.\n",
        "Utilizamos comentários de várias linhas para explicar\n",
        "trechos de código mais complexos ou para adicionar\n",
        "documentação mais detalhada ao código.\n",
        "\"\"\""
      ],
      "metadata": {
        "colab": {
          "base_uri": "https://localhost:8080/",
          "height": 53
        },
        "id": "YDeSSBzrRWPs",
        "outputId": "099d295b-c8ad-4064-c1ca-ca34a43c0cd3"
      },
      "execution_count": 2,
      "outputs": [
        {
          "output_type": "execute_result",
          "data": {
            "text/plain": [
              "'\\nEste é um comentário de várias linhas.\\nUtilizamos comentários de várias linhas para explicar\\ntrechos de código mais complexos ou para adicionar\\ndocumentação mais detalhada ao código.\\n'"
            ],
            "application/vnd.google.colaboratory.intrinsic+json": {
              "type": "string"
            }
          },
          "metadata": {},
          "execution_count": 2
        }
      ]
    },
    {
      "cell_type": "markdown",
      "source": [
        "  - No exemplo abaixo, já não é um comentário, mas sim um texto de uma variável."
      ],
      "metadata": {
        "id": "RbrFpQtXft0J"
      }
    },
    {
      "cell_type": "code",
      "source": [
        "trecho_pequeno_principe = \"\"\"\n",
        "E então apareceu o pequeno príncipe.\n",
        "Ele surgiu do nada,\n",
        "como se viesse de um sonho,\n",
        "de um sonho distante.\n",
        "\n",
        "Seus olhos grandes e brilhantes\n",
        "refletem a beleza do universo,\n",
        "um universo que ele próprio\n",
        "explora com curiosidade infinita.\n",
        "\"\"\"\n",
        "\n",
        "print(trecho_pequeno_principe)"
      ],
      "metadata": {
        "colab": {
          "base_uri": "https://localhost:8080/"
        },
        "id": "a0k4cN9GezXn",
        "outputId": "8be388cf-22ca-4e2c-dbc0-5a2e15a77d31"
      },
      "execution_count": 4,
      "outputs": [
        {
          "output_type": "stream",
          "name": "stdout",
          "text": [
            "\n",
            "E então apareceu o pequeno príncipe.\n",
            "Ele surgiu do nada,\n",
            "como se viesse de um sonho,\n",
            "de um sonho distante.\n",
            "\n",
            "Seus olhos grandes e brilhantes\n",
            "refletem a beleza do universo,\n",
            "um universo que ele próprio\n",
            "explora com curiosidade infinita.\n",
            "\n"
          ]
        }
      ]
    },
    {
      "cell_type": "markdown",
      "source": [
        "  - **Observação:**\n",
        "    - Note que estes \"comentários\" feitos com 3 aspas na verdade são strings de muitas linhas: mas o Python irá ignorá-las caso elas não sejá atribuídas a uma variável, funcionando, assim, como comentário.\n",
        "    - Um outro uso importante deste tipo de strings é na definição de [docstrings](https://pythonhelp.wordpress.com/2011/02/14/docstrings/), strings que documentam funções e classes em Python.\n",
        "    - **De qualquer forma, o primeiro modo, com um # em cada linha, é preferível!**"
      ],
      "metadata": {
        "id": "z8dQMiO7hEql"
      }
    }
  ]
}