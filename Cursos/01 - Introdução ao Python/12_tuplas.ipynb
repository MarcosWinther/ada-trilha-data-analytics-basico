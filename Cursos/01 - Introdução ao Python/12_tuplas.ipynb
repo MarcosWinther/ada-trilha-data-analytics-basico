{
  "nbformat": 4,
  "nbformat_minor": 0,
  "metadata": {
    "colab": {
      "provenance": []
    },
    "kernelspec": {
      "name": "python3",
      "display_name": "Python 3"
    },
    "language_info": {
      "name": "python"
    }
  },
  "cells": [
    {
      "cell_type": "markdown",
      "source": [
        "#🔗 Tuplas\n",
        "\n",
        "- As tuplas são uma estrutura de dados fundamental da linguagem, juntamente com as listas.\n",
        "- As tuplas são estruturas bastante parecidas com listas:\n",
        "  - Podem guardar tipos diferentes de dados;\n",
        "  - São indexadas (podemos acessar elementos por índices);\n",
        "  - São iteráveis (podemos percorrer com o `for`).\n",
        "\n",
        "- A principal diferença é: **que as tuplas são imutáveis!**"
      ],
      "metadata": {
        "id": "-qebqlQ1sspZ"
      }
    },
    {
      "cell_type": "markdown",
      "source": [
        "__Vantagens das tuplas:__\n",
        "- São mais rápidas que as listas;\n",
        "-Protegem os dados contra modificações acidentais;\n",
        "- Podem ser usadas como chaves em dicionários;\n",
        "- Ocupam menos espaço em memória que as listas."
      ],
      "metadata": {
        "id": "bHZ3xlp8XbLy"
      }
    },
    {
      "cell_type": "markdown",
      "source": [
        "- Tuplas são inicializadas como uma sequência de valores entre parênteses `()`."
      ],
      "metadata": {
        "id": "GEBNK7AFX-m6"
      }
    },
    {
      "cell_type": "code",
      "source": [
        "tupla = (1, 4.8, True, \"Python\", [20, 40, 60, 80])\n",
        "\n",
        "tupla"
      ],
      "metadata": {
        "colab": {
          "base_uri": "https://localhost:8080/"
        },
        "id": "b7-Dc0xeYJuB",
        "outputId": "98a28cdf-a0ea-48ac-bd3e-8290942d350d"
      },
      "execution_count": null,
      "outputs": [
        {
          "output_type": "execute_result",
          "data": {
            "text/plain": [
              "(1, 4.8, True, 'Python', [20, 40, 60, 80])"
            ]
          },
          "metadata": {},
          "execution_count": 2
        }
      ]
    },
    {
      "cell_type": "markdown",
      "source": [
        "- Podemos ver o tamanho da tupla usando a função `len()`."
      ],
      "metadata": {
        "id": "Ta7NzUd1ZwD_"
      }
    },
    {
      "cell_type": "code",
      "source": [
        "len(tupla)"
      ],
      "metadata": {
        "colab": {
          "base_uri": "https://localhost:8080/"
        },
        "id": "qCvG6gQhZ28r",
        "outputId": "ba4de2fe-3b97-48f9-f240-396d1b31ad4c"
      },
      "execution_count": null,
      "outputs": [
        {
          "output_type": "execute_result",
          "data": {
            "text/plain": [
              "5"
            ]
          },
          "metadata": {},
          "execution_count": 3
        }
      ]
    },
    {
      "cell_type": "markdown",
      "source": [
        "- No entanto, é possível definir tuplas sem a utilização de parênteses, apenas **listando os elementos separados por vírgula**."
      ],
      "metadata": {
        "id": "YyAXY4K5Z-DG"
      }
    },
    {
      "cell_type": "code",
      "source": [
        "tupla2 = 80, 100, True, \"python\"\n",
        "\n",
        "tupla2"
      ],
      "metadata": {
        "colab": {
          "base_uri": "https://localhost:8080/"
        },
        "id": "g6AW6XN1aGFX",
        "outputId": "fc7db726-a2d2-4979-b765-4363cec19531"
      },
      "execution_count": null,
      "outputs": [
        {
          "output_type": "execute_result",
          "data": {
            "text/plain": [
              "(80, 100, True, 'python')"
            ]
          },
          "metadata": {},
          "execution_count": 4
        }
      ]
    },
    {
      "cell_type": "markdown",
      "source": [
        "- Também podemos um recurso da linguagem de programação Python: o **Tuple unpacking**.\n",
        "- **Tuple unpacking**  permite atribuir os valores de uma tupla a várias variáveis em uma única linha."
      ],
      "metadata": {
        "id": "I76qyVUgalft"
      }
    },
    {
      "cell_type": "code",
      "source": [
        "# Tuple unpacking\n",
        "valor1, valor2 = 20, 40"
      ],
      "metadata": {
        "id": "xuuLuq2na-Wm"
      },
      "execution_count": null,
      "outputs": []
    },
    {
      "cell_type": "code",
      "source": [
        "valor1"
      ],
      "metadata": {
        "colab": {
          "base_uri": "https://localhost:8080/"
        },
        "id": "Dr6yPRNubTVg",
        "outputId": "6b9e29ad-9676-4190-e959-3fadaa439364"
      },
      "execution_count": null,
      "outputs": [
        {
          "output_type": "execute_result",
          "data": {
            "text/plain": [
              "20"
            ]
          },
          "metadata": {},
          "execution_count": 6
        }
      ]
    },
    {
      "cell_type": "code",
      "source": [
        "valor2"
      ],
      "metadata": {
        "colab": {
          "base_uri": "https://localhost:8080/"
        },
        "id": "Tl5JpnzzbUyv",
        "outputId": "e3bc7155-c13f-47ee-d125-020ef120d3a4"
      },
      "execution_count": null,
      "outputs": [
        {
          "output_type": "execute_result",
          "data": {
            "text/plain": [
              "40"
            ]
          },
          "metadata": {},
          "execution_count": 7
        }
      ]
    },
    {
      "cell_type": "markdown",
      "source": [
        "<br>\n",
        "\n",
        "## 🔨 Operações com Tuplas"
      ],
      "metadata": {
        "id": "cec2IJLRbnsH"
      }
    },
    {
      "cell_type": "markdown",
      "source": [
        "- As tuplas são similares as listas."
      ],
      "metadata": {
        "id": "xwIl6tCBt76c"
      }
    },
    {
      "cell_type": "code",
      "source": [
        "# As tuplas são indexáveis\n",
        "tupla[0]"
      ],
      "metadata": {
        "colab": {
          "base_uri": "https://localhost:8080/"
        },
        "id": "MCbpeR3ct8c0",
        "outputId": "da136d02-28cf-4978-a89d-fd63c7940ee3"
      },
      "execution_count": null,
      "outputs": [
        {
          "output_type": "execute_result",
          "data": {
            "text/plain": [
              "1"
            ]
          },
          "metadata": {},
          "execution_count": 8
        }
      ]
    },
    {
      "cell_type": "code",
      "source": [
        "tupla[-2]"
      ],
      "metadata": {
        "colab": {
          "base_uri": "https://localhost:8080/",
          "height": 35
        },
        "id": "PNxDeecduHGv",
        "outputId": "b64d43bc-67ef-42d5-8cf5-57fb38c77fa2"
      },
      "execution_count": null,
      "outputs": [
        {
          "output_type": "execute_result",
          "data": {
            "text/plain": [
              "'Python'"
            ],
            "application/vnd.google.colaboratory.intrinsic+json": {
              "type": "string"
            }
          },
          "metadata": {},
          "execution_count": 9
        }
      ]
    },
    {
      "cell_type": "code",
      "source": [
        "for i in range(len(tupla)):\n",
        "  print(i, tupla[i])"
      ],
      "metadata": {
        "colab": {
          "base_uri": "https://localhost:8080/"
        },
        "id": "YDwz3ak8x53P",
        "outputId": "156da18b-02dc-46f2-e116-7c4c612a3c89"
      },
      "execution_count": null,
      "outputs": [
        {
          "output_type": "stream",
          "name": "stdout",
          "text": [
            "0 1\n",
            "1 4.8\n",
            "2 True\n",
            "3 Python\n",
            "4 [20, 40, 60, 80]\n"
          ]
        }
      ]
    },
    {
      "cell_type": "markdown",
      "source": [
        "- Se quisermos modificar a tupla, podemos transformá-la em lista."
      ],
      "metadata": {
        "id": "y4pfxRHmzDtl"
      }
    },
    {
      "cell_type": "code",
      "source": [
        "lista = list(tupla)\n",
        "\n",
        "lista"
      ],
      "metadata": {
        "colab": {
          "base_uri": "https://localhost:8080/"
        },
        "id": "jg8xlbUlzLG6",
        "outputId": "64282b37-aa8e-46ce-f5df-4658fd90074b"
      },
      "execution_count": null,
      "outputs": [
        {
          "output_type": "execute_result",
          "data": {
            "text/plain": [
              "[1, 4.8, True, 'Python', [20, 40, 60, 80]]"
            ]
          },
          "metadata": {},
          "execution_count": 12
        }
      ]
    },
    {
      "cell_type": "code",
      "source": [
        "lista[1] = 4.5\n",
        "\n",
        "lista"
      ],
      "metadata": {
        "colab": {
          "base_uri": "https://localhost:8080/"
        },
        "id": "c1gS_fXgzT6s",
        "outputId": "07be03da-e160-4a21-c283-d94ca90e4259"
      },
      "execution_count": null,
      "outputs": [
        {
          "output_type": "execute_result",
          "data": {
            "text/plain": [
              "[1, 4.5, True, 'Python', [20, 40, 60, 80]]"
            ]
          },
          "metadata": {},
          "execution_count": 13
        }
      ]
    },
    {
      "cell_type": "markdown",
      "source": [
        "- Podemos transformar a lista em tupla novamente."
      ],
      "metadata": {
        "id": "WT0cpajwzgFZ"
      }
    },
    {
      "cell_type": "code",
      "source": [
        "tupla_nova = tuple(lista)\n",
        "\n",
        "tupla_nova"
      ],
      "metadata": {
        "colab": {
          "base_uri": "https://localhost:8080/"
        },
        "id": "mi6GAxZZzl4p",
        "outputId": "fdd39741-dadc-4e8b-e575-943d6c4b6459"
      },
      "execution_count": null,
      "outputs": [
        {
          "output_type": "execute_result",
          "data": {
            "text/plain": [
              "(1, 4.5, True, 'Python', [20, 40, 60, 80])"
            ]
          },
          "metadata": {},
          "execution_count": 14
        }
      ]
    },
    {
      "cell_type": "markdown",
      "source": [
        "- **Lembrando:** a tupla original continua inalterada."
      ],
      "metadata": {
        "id": "gK13bdERzyap"
      }
    },
    {
      "cell_type": "code",
      "source": [
        "tupla"
      ],
      "metadata": {
        "colab": {
          "base_uri": "https://localhost:8080/"
        },
        "id": "4seIn3Edz7EJ",
        "outputId": "fb9988a7-b2e4-428c-96e1-79e331bd4eb4"
      },
      "execution_count": null,
      "outputs": [
        {
          "output_type": "execute_result",
          "data": {
            "text/plain": [
              "(1, 4.8, True, 'Python', [20, 40, 60, 80])"
            ]
          },
          "metadata": {},
          "execution_count": 15
        }
      ]
    },
    {
      "cell_type": "markdown",
      "source": [
        "- Exemplo utilização de tuplas: retorno de mais de um valor em uma função."
      ],
      "metadata": {
        "id": "xC5mLB1t07vg"
      }
    },
    {
      "cell_type": "code",
      "source": [
        "def valor_valorquadrado_valorcurbo(numero):\n",
        "  return numero, numero**2, numero**3"
      ],
      "metadata": {
        "id": "DgTvmLQD1HM7"
      },
      "execution_count": null,
      "outputs": []
    },
    {
      "cell_type": "code",
      "source": [
        "valor_valorquadrado_valorcurbo(2)"
      ],
      "metadata": {
        "id": "tuGfQb7v1Sw0",
        "outputId": "6d3dcb61-5002-462f-8cb4-8641b7d38ae3",
        "colab": {
          "base_uri": "https://localhost:8080/"
        }
      },
      "execution_count": null,
      "outputs": [
        {
          "output_type": "execute_result",
          "data": {
            "text/plain": [
              "(2, 4, 8)"
            ]
          },
          "metadata": {},
          "execution_count": 17
        }
      ]
    }
  ]
}