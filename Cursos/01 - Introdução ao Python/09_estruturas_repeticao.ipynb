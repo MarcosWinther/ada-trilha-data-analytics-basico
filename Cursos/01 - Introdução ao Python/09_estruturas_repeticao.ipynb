{
  "nbformat": 4,
  "nbformat_minor": 0,
  "metadata": {
    "colab": {
      "provenance": []
    },
    "kernelspec": {
      "name": "python3",
      "display_name": "Python 3"
    },
    "language_info": {
      "name": "python"
    }
  },
  "cells": [
    {
      "cell_type": "markdown",
      "source": [
        "# 🔄 Estruturas de Repetição\n",
        "\n",
        "- Também conhecidas como laços de repetição.\n",
        "- Os laços permitem repetir pedaços de código quantas vezes necessário!\n",
        "\n",
        "<br>\n",
        "\n",
        "## 🔁 While\n",
        "\n",
        "- A seguir como é a estrutura desse laço:\n",
        "\n",
        "```python\n",
        "while (condicao é True):\n",
        "    operacao_repetida\n",
        "```\n",
        "\n",
        "- O que tá no bloco do ``while`` é repetido **enquanto a condição for verdadeira**.\n",
        "\n",
        "<br>\n",
        "\n",
        "- **Observação:** deve ser cuidadoso para que esse laço de repetição não gere **loops infinitos!**\n",
        "- Para que loops infinitos não aconteçam, temos que fazer uma **atualização da condição** a cada iteração do laço!\n",
        "- Por isso utilizamos uma variável contadora evitando assim loops infinitos!\n",
        "\n",
        "<br>\n",
        "\n",
        "- **Exemplos de códigos:**"
      ],
      "metadata": {
        "id": "6545Gi5-uhlV"
      }
    },
    {
      "cell_type": "code",
      "source": [
        "# Exemplo 1\n",
        "contador = 1\n",
        "\n",
        "while (contador <= 5):\n",
        "    print(contador)\n",
        "    contador += 1"
      ],
      "metadata": {
        "id": "Qu78KyZHuocG"
      },
      "execution_count": null,
      "outputs": []
    },
    {
      "cell_type": "code",
      "source": [
        "# Exemplo 2\n",
        "numero = float(input(\"Digite um número maior que 10: \"))\n",
        "\n",
        "while numero <= 10:\n",
        "    print(\"Número foi menor ou igual a 10. Tente novamente.\")\n",
        "    numero = float(input(\"Digite um número maior que 10: \"))\n",
        "\n",
        "print(f\"Você digitou o número {numero}.\")"
      ],
      "metadata": {
        "id": "73tbyRB8u-ed"
      },
      "execution_count": null,
      "outputs": []
    },
    {
      "cell_type": "code",
      "source": [
        "# Exemplo 3\n",
        "valor = float(input(\"Digite um número entre 0 e 10: \"))\n",
        "\n",
        "while not (0 < valor < 10):\n",
        "    print(\"Número fora do intervalo. Tente novamente.\")\n",
        "    valor = float(input(\"Digite um número entre 0 e 10: \"))\n",
        "\n",
        "print(f\"Você digitou o número {valor}.\")"
      ],
      "metadata": {
        "id": "WSBMZXKfvB0G"
      },
      "execution_count": null,
      "outputs": []
    },
    {
      "cell_type": "code",
      "source": [
        "# Exemplo 4\n",
        "# Validando estado civil (S (solteiro(a)), C (Casado(a)), D (Divorciado(a)), V (Viúvo(a))):\n",
        "estado_civil = input(\"Digite seu estado civil (S, C, D, V): \")\n",
        "\n",
        "while estado_civil != \"S\" and estado_civil != \"C\" and estado_civil != \"D\" and estado_civil != \"V\":\n",
        "    print(\"Estado civil inválido. Tente novamente.\")\n",
        "    estado_civil = input(\"Digite seu estado civil (S, C, D, V): \")\n",
        "\n",
        "print(f\"Seu estado civil é {estado_civil}.\")"
      ],
      "metadata": {
        "id": "ho6V8qP-vExf"
      },
      "execution_count": null,
      "outputs": []
    },
    {
      "cell_type": "markdown",
      "source": [
        "<br>\n",
        "\n",
        "---"
      ],
      "metadata": {
        "id": "1HOosqeyqNHG"
      }
    },
    {
      "cell_type": "markdown",
      "source": [
        "## 🎯 For\n",
        "\n",
        "- Mas, antes de vermos como este laço pode ser utilizado para **repetir operações**, é interessante entender o `for` como sendo, na realidade, um operador utilizado para **percorrer elementos de uma lista** (na verdade, de qualquer objeto **iterável**)."
      ],
      "metadata": {
        "id": "Ad1mHzylqQhh"
      }
    },
    {
      "cell_type": "markdown",
      "source": [
        "> Por isso, o for, mais que um \"laço de repetição\", é, na verdade, uma **função iteradora** em Python."
      ],
      "metadata": {
        "id": "gI14xa5BrCWD"
      }
    },
    {
      "cell_type": "markdown",
      "source": [
        "- A estrutura do for é:\n",
        "\n",
        "```python\n",
        "for item in lista:\n",
        "    operacao_feita_pra_cada_item\n",
        "```"
      ],
      "metadata": {
        "id": "8gyhbR8jrIM8"
      }
    },
    {
      "cell_type": "code",
      "source": [
        "lista_num = [100, 4.2, 80, 40, 10.5, 24, -8, 0, 4]"
      ],
      "metadata": {
        "id": "pdETZALFrYMj"
      },
      "execution_count": 1,
      "outputs": []
    },
    {
      "cell_type": "code",
      "source": [
        "for elemento in lista_num:\n",
        "    print(elemento)"
      ],
      "metadata": {
        "colab": {
          "base_uri": "https://localhost:8080/"
        },
        "id": "pG_qSSq3sCGD",
        "outputId": "7557ac5d-a34c-4981-a3d9-1fd140743ab7"
      },
      "execution_count": 2,
      "outputs": [
        {
          "output_type": "stream",
          "name": "stdout",
          "text": [
            "100\n",
            "4.2\n",
            "80\n",
            "40\n",
            "10.5\n",
            "24\n",
            "-8\n",
            "0\n",
            "4\n"
          ]
        }
      ]
    },
    {
      "cell_type": "markdown",
      "source": [
        "- O código acima é equivalente a:"
      ],
      "metadata": {
        "id": "GeBYAlrJeEyL"
      }
    },
    {
      "cell_type": "code",
      "source": [
        "print(lista_num[0])\n",
        "print(lista_num[1])\n",
        "print(lista_num[2])\n",
        "print(lista_num[3])\n",
        "print(lista_num[4])\n",
        "print(lista_num[5])\n",
        "print(lista_num[6])\n",
        "print(lista_num[7])\n",
        "print(lista_num[8])"
      ],
      "metadata": {
        "colab": {
          "base_uri": "https://localhost:8080/"
        },
        "id": "f9sl2WSXeY0B",
        "outputId": "2ec184fe-8211-45f2-f14b-f5ac2d09a0ef"
      },
      "execution_count": 3,
      "outputs": [
        {
          "output_type": "stream",
          "name": "stdout",
          "text": [
            "100\n",
            "4.2\n",
            "80\n",
            "40\n",
            "10.5\n",
            "24\n",
            "-8\n",
            "0\n",
            "4\n"
          ]
        }
      ]
    },
    {
      "cell_type": "markdown",
      "source": [
        "- **Exemplo de uso:**"
      ],
      "metadata": {
        "id": "BeEFw8-4e_Q2"
      }
    },
    {
      "cell_type": "code",
      "source": [
        "lista_num.append(-40)\n",
        "lista_num.append(-80)\n",
        "lista_num.append(-20)"
      ],
      "metadata": {
        "id": "ZwoXezn1fJrc"
      },
      "execution_count": 4,
      "outputs": []
    },
    {
      "cell_type": "code",
      "source": [
        "# Vamos criar duas listas novas:\n",
        "# Uma lista para números positivos\n",
        "# E uma outra lista para números negativos\n",
        "\n",
        "lista_num_pos = []\n",
        "lista_num_neg = []\n",
        "lista_num_neutro = []\n",
        "\n",
        "for numero in lista_num:\n",
        "    if numero > 0:\n",
        "        lista_num_pos.append(numero)\n",
        "    elif numero < 0:\n",
        "        lista_num_neg.append(numero)\n",
        "    else:\n",
        "        lista_num_neutro.append(numero)\n",
        "\n",
        "print(lista_num_pos)\n",
        "print(lista_num_neg)\n",
        "print(lista_num_neutro)"
      ],
      "metadata": {
        "colab": {
          "base_uri": "https://localhost:8080/"
        },
        "id": "fB3Bab-lfbQz",
        "outputId": "0cce7e2b-afb5-4bc4-dd25-242be44cece8"
      },
      "execution_count": 6,
      "outputs": [
        {
          "output_type": "stream",
          "name": "stdout",
          "text": [
            "[100, 4.2, 80, 40, 10.5, 24, 4]\n",
            "[-8, -40, -80, -20]\n",
            "[0]\n"
          ]
        }
      ]
    },
    {
      "cell_type": "markdown",
      "source": [
        "- Caso a gente não quer que o ``for`` percorra todo o objeto interável, utilizamos o comando ``break``."
      ],
      "metadata": {
        "id": "AiDr8PkwhUSA"
      }
    },
    {
      "cell_type": "code",
      "source": [
        "for numero in lista_num:\n",
        "    if numero >= 0:\n",
        "        print(numero)\n",
        "    else:\n",
        "        break"
      ],
      "metadata": {
        "colab": {
          "base_uri": "https://localhost:8080/"
        },
        "id": "3NK0Sx-xhnBM",
        "outputId": "878de738-0471-4bda-c00b-76eb56244460"
      },
      "execution_count": 8,
      "outputs": [
        {
          "output_type": "stream",
          "name": "stdout",
          "text": [
            "100\n",
            "4.2\n",
            "80\n",
            "40\n",
            "10.5\n",
            "24\n"
          ]
        }
      ]
    },
    {
      "cell_type": "markdown",
      "source": [
        "- Outros exemplos:"
      ],
      "metadata": {
        "id": "Wh2sT0XVivL6"
      }
    },
    {
      "cell_type": "code",
      "source": [
        "# Criar uma lista com o dobro dos valores da lista_num\n",
        "\n",
        "lista_dobro = []\n",
        "\n",
        "for numero in lista_num:\n",
        "    lista_dobro.append(numero * 2)\n",
        "\n",
        "print(lista_dobro)"
      ],
      "metadata": {
        "colab": {
          "base_uri": "https://localhost:8080/"
        },
        "id": "TMConxfAiziE",
        "outputId": "9fd18bea-9e93-48fe-805a-182027dde284"
      },
      "execution_count": 9,
      "outputs": [
        {
          "output_type": "stream",
          "name": "stdout",
          "text": [
            "[200, 8.4, 160, 80, 21.0, 48, -16, 0, 8, -80, -160, -40]\n"
          ]
        }
      ]
    },
    {
      "cell_type": "code",
      "source": [
        "# Somar valores de duas listas\n",
        "\n",
        "lista_1 = [1, 2, 3, 4]\n",
        "lista_2= [5, 6, 7, 8]\n",
        "\n",
        "lista_soma = []\n",
        "\n",
        "for elemento1, elemento2 in zip(lista_1, lista_2):\n",
        "    lista_soma.append(elemento1 + elemento2)\n",
        "\n",
        "print(lista_soma)"
      ],
      "metadata": {
        "colab": {
          "base_uri": "https://localhost:8080/"
        },
        "id": "PYoIL4zGkI9I",
        "outputId": "9f4914e8-9eb3-4701-b1cb-8b429ec96f62"
      },
      "execution_count": 10,
      "outputs": [
        {
          "output_type": "stream",
          "name": "stdout",
          "text": [
            "[6, 8, 10, 12]\n"
          ]
        }
      ]
    }
  ]
}