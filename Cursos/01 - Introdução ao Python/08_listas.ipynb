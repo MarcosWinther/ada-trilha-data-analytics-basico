{
  "nbformat": 4,
  "nbformat_minor": 0,
  "metadata": {
    "colab": {
      "provenance": []
    },
    "kernelspec": {
      "name": "python3",
      "display_name": "Python 3"
    },
    "language_info": {
      "name": "python"
    }
  },
  "cells": [
    {
      "cell_type": "markdown",
      "source": [
        "# 📚 Listas\n",
        "\n",
        "- Uma lista em Python é uma estrutura de dados que armazena uma sequência de valores.\n",
        "- São mutáveis, ou seja, podem ser alteradas após a criação.\n",
        "- Para criar uma lista em Python, basta colocar os elementos entre colchetes ``[]``, separados por vírgulas ``,``.\n",
        "- Uma lista nada mais é que um conjunto de objetos, que podem ser de diversos tipos:"
      ],
      "metadata": {
        "id": "uCtI23lkjidG"
      }
    },
    {
      "cell_type": "markdown",
      "source": [
        "- **Lista de números:**"
      ],
      "metadata": {
        "id": "oFvVGaE3lOGm"
      }
    },
    {
      "cell_type": "code",
      "source": [
        "lista_numeros = [1, 2, 3, 4, 5]"
      ],
      "metadata": {
        "id": "VHiYDTaBjDhD"
      },
      "execution_count": null,
      "outputs": []
    },
    {
      "cell_type": "code",
      "source": [
        "lista_numeros"
      ],
      "metadata": {
        "colab": {
          "base_uri": "https://localhost:8080/"
        },
        "id": "wDm0i00ujiKH",
        "outputId": "807c942c-7b45-4b42-9df5-1f4cfb46b2da"
      },
      "execution_count": null,
      "outputs": [
        {
          "output_type": "execute_result",
          "data": {
            "text/plain": [
              "[1, 2, 3, 4, 5]"
            ]
          },
          "metadata": {},
          "execution_count": 2
        }
      ]
    },
    {
      "cell_type": "code",
      "source": [
        "print(lista_numeros)"
      ],
      "metadata": {
        "colab": {
          "base_uri": "https://localhost:8080/"
        },
        "id": "pimwaUW5jkqN",
        "outputId": "a200958a-8dfd-4155-f701-1a997c28d2e8"
      },
      "execution_count": null,
      "outputs": [
        {
          "output_type": "stream",
          "name": "stdout",
          "text": [
            "[1, 2, 3, 4, 5]\n"
          ]
        }
      ]
    },
    {
      "cell_type": "code",
      "source": [
        "type(lista_numeros)"
      ],
      "metadata": {
        "colab": {
          "base_uri": "https://localhost:8080/"
        },
        "id": "9MEVpABujoQJ",
        "outputId": "ff2c6ff6-e183-4a67-e517-67b73a1cdf88"
      },
      "execution_count": null,
      "outputs": [
        {
          "output_type": "execute_result",
          "data": {
            "text/plain": [
              "list"
            ]
          },
          "metadata": {},
          "execution_count": 4
        }
      ]
    },
    {
      "cell_type": "markdown",
      "source": [
        "- **Listas de strings**"
      ],
      "metadata": {
        "id": "QtpLmW6Qj8gr"
      }
    },
    {
      "cell_type": "code",
      "source": [
        "animacoes = [\"Scooby-Doo\", \"Pokemón\", \"Digimon\", \"Sakura Card Captor\"]\n",
        "\n",
        "animacoes"
      ],
      "metadata": {
        "colab": {
          "base_uri": "https://localhost:8080/"
        },
        "id": "9F_z1nCUkVEf",
        "outputId": "dbaeacff-41f0-490a-c1cf-dc8a0a43ea61"
      },
      "execution_count": null,
      "outputs": [
        {
          "output_type": "execute_result",
          "data": {
            "text/plain": [
              "['Scooby-Doo', 'Pokemón', 'Digimon', 'Sakura Card Captor']"
            ]
          },
          "metadata": {},
          "execution_count": 5
        }
      ]
    },
    {
      "cell_type": "markdown",
      "source": [
        "- **Listas de números e strings**"
      ],
      "metadata": {
        "id": "Azt2Ltdtk2mL"
      }
    },
    {
      "cell_type": "code",
      "source": [
        "lista_numeros_strings = [1, 2, 3, \"quatro\", \"cinco\"]\n",
        "\n",
        "lista_numeros_strings"
      ],
      "metadata": {
        "colab": {
          "base_uri": "https://localhost:8080/"
        },
        "id": "dwIFQWCOlYzq",
        "outputId": "11dcfed1-1f69-4612-f83f-b1c70d0ab9cb"
      },
      "execution_count": null,
      "outputs": [
        {
          "output_type": "execute_result",
          "data": {
            "text/plain": [
              "[1, 2, 3, 'quatro', 'cinco']"
            ]
          },
          "metadata": {},
          "execution_count": 6
        }
      ]
    },
    {
      "cell_type": "markdown",
      "source": [
        "- **Lista de lista:**"
      ],
      "metadata": {
        "id": "Y7LPbSIal3-H"
      }
    },
    {
      "cell_type": "code",
      "source": [
        "lista_de_listas = [1, 2, 3, [\"Scooby-Doo\", \"Pokemón\", \"Digimon\", \"Sakura Card Captor\"], True]\n",
        "\n",
        "lista_de_listas"
      ],
      "metadata": {
        "colab": {
          "base_uri": "https://localhost:8080/"
        },
        "id": "2EvIXoB9l8AW",
        "outputId": "9cca3654-d1be-40c1-f2ec-65599f41a56b"
      },
      "execution_count": null,
      "outputs": [
        {
          "output_type": "execute_result",
          "data": {
            "text/plain": [
              "[1, 2, 3, ['Scooby-Doo', 'Pokemón', 'Digimon', 'Sakura Card Captor'], True]"
            ]
          },
          "metadata": {},
          "execution_count": 8
        }
      ]
    },
    {
      "cell_type": "markdown",
      "source": [
        "- **Lista com todos os tipos de dados:**"
      ],
      "metadata": {
        "id": "5XzdBznvmepe"
      }
    },
    {
      "cell_type": "code",
      "source": [
        "lista_todos_tipos = [1, 2.5, \"texto\", True, [10, \"dez\", 3.14, False]]\n",
        "\n",
        "lista_todos_tipos\n"
      ],
      "metadata": {
        "colab": {
          "base_uri": "https://localhost:8080/"
        },
        "id": "f8xCsGxtmiun",
        "outputId": "a2860490-c310-4e60-e32f-46ed38a1c410"
      },
      "execution_count": null,
      "outputs": [
        {
          "output_type": "execute_result",
          "data": {
            "text/plain": [
              "[1, 2.5, 'texto', True, [10, 'dez', 3.14, False]]"
            ]
          },
          "metadata": {},
          "execution_count": 9
        }
      ]
    },
    {
      "cell_type": "markdown",
      "source": [
        "- Muitas vezes, queremos **acessar elementos individuais** da lista.\n",
        "- Para fazer isso, devemos indicar qual é o **índice** respectivo ao elemento, isto é, qual é a **posição** do elemento dentro da lista.\n",
        "\n",
        "> Por isso, este procedimento é conhecido como **indexação**."
      ],
      "metadata": {
        "id": "fYgvTlBYnJ_B"
      }
    },
    {
      "cell_type": "code",
      "source": [
        "personagens_scooby_doo = [\"Scooby-Doo\", \"Salsicha\", \"Velma\", \"Fred\", \"Daphne\"]\n",
        "\n",
        "personagens_scooby_doo\n"
      ],
      "metadata": {
        "colab": {
          "base_uri": "https://localhost:8080/"
        },
        "id": "7yoYJXmRnOnZ",
        "outputId": "f7da2c3a-e031-4b38-8f07-5866f684bc60"
      },
      "execution_count": null,
      "outputs": [
        {
          "output_type": "execute_result",
          "data": {
            "text/plain": [
              "['Scooby-Doo', 'Salsicha', 'Velma', 'Fred', 'Daphne']"
            ]
          },
          "metadata": {},
          "execution_count": 10
        }
      ]
    },
    {
      "cell_type": "markdown",
      "source": [
        "- Para acessar o elemento na **posição i** da lista \"minha_lista\", fazemos:\n",
        "\n",
        "```python\n",
        "personagens_scooby_doo[i]\n",
        "```"
      ],
      "metadata": {
        "id": "dMDP8xZEoHmu"
      }
    },
    {
      "cell_type": "markdown",
      "source": [
        "**MUITO IMPORTANTE: a numeração de índice começa em zero!**\n",
        "\n",
        "- Ou seja:\n",
        "  - O primeiro elemento tem índice 0: ```personagens_scooby_doo[0]```,\n",
        "  - O segundo tem índice 1: ```personagens_scooby_doo[1]```,\n",
        "  - E assim por diante!"
      ],
      "metadata": {
        "id": "7AT5HuIqovJt"
      }
    },
    {
      "cell_type": "code",
      "source": [
        "personagens_scooby_doo[0]"
      ],
      "metadata": {
        "colab": {
          "base_uri": "https://localhost:8080/",
          "height": 35
        },
        "id": "aXnZY0R7pWch",
        "outputId": "af78f536-0ac8-43e5-8ed8-ac665fdc2cfe"
      },
      "execution_count": null,
      "outputs": [
        {
          "output_type": "execute_result",
          "data": {
            "text/plain": [
              "'Scooby-Doo'"
            ],
            "application/vnd.google.colaboratory.intrinsic+json": {
              "type": "string"
            }
          },
          "metadata": {},
          "execution_count": 11
        }
      ]
    },
    {
      "cell_type": "code",
      "source": [
        "personagens_scooby_doo[1]"
      ],
      "metadata": {
        "colab": {
          "base_uri": "https://localhost:8080/",
          "height": 35
        },
        "id": "cqJ0O6CEqEBD",
        "outputId": "1b2dd4dc-7192-4509-92dd-bc5d4d1ad571"
      },
      "execution_count": null,
      "outputs": [
        {
          "output_type": "execute_result",
          "data": {
            "text/plain": [
              "'Salsicha'"
            ],
            "application/vnd.google.colaboratory.intrinsic+json": {
              "type": "string"
            }
          },
          "metadata": {},
          "execution_count": 14
        }
      ]
    },
    {
      "cell_type": "markdown",
      "source": [
        "- Também podemos acessar os últimos elementos, usando índices negativos:\n",
        "  - O último elemento tem índice -1: ```personagens_scooby_doo[-1]```,\n",
        "  - O penúltimo tem índice -2: ```personagens_scooby_doo[-2]```,\n",
        "  - E assim por diante!"
      ],
      "metadata": {
        "id": "jmzStuxVpW5q"
      }
    },
    {
      "cell_type": "code",
      "source": [
        "personagens_scooby_doo[-1]"
      ],
      "metadata": {
        "colab": {
          "base_uri": "https://localhost:8080/",
          "height": 35
        },
        "id": "5GtBsb5fp2qz",
        "outputId": "157e9512-f898-4558-8f17-023d8f4d289b"
      },
      "execution_count": null,
      "outputs": [
        {
          "output_type": "execute_result",
          "data": {
            "text/plain": [
              "'Daphne'"
            ],
            "application/vnd.google.colaboratory.intrinsic+json": {
              "type": "string"
            }
          },
          "metadata": {},
          "execution_count": 12
        }
      ]
    },
    {
      "cell_type": "code",
      "source": [
        "personagens_scooby_doo[-3]"
      ],
      "metadata": {
        "colab": {
          "base_uri": "https://localhost:8080/",
          "height": 35
        },
        "id": "5l2YuTOnp716",
        "outputId": "107d4c2a-0455-4435-c783-ebad17aabcd1"
      },
      "execution_count": null,
      "outputs": [
        {
          "output_type": "execute_result",
          "data": {
            "text/plain": [
              "'Velma'"
            ],
            "application/vnd.google.colaboratory.intrinsic+json": {
              "type": "string"
            }
          },
          "metadata": {},
          "execution_count": 13
        }
      ]
    },
    {
      "cell_type": "markdown",
      "source": [
        "- Também podemos **acessar pedaços da lista**, indicando o intervalo de índices que queremos, separados por \":\",  **com intervalo superior aberto**:\n",
        "\n",
        "  - ``minha_lista[1:3]``: seleciona os elementos de indice 1 até indice 2;\n",
        "  - ``minha_lista[:4]``: seleciona do primeiro elemento até o de índice 3;\n",
        "  - ``minha_lista[3:]``: seleciona do elemento de índice 3 até o final;\n",
        "  - ``minha_lista[:]``: seleciona a lista inteira.\n",
        "\n",
        "- Este conceito é chamado de **\"slicing\"** em Python, pois você está pegando \"fatias\" da lista!"
      ],
      "metadata": {
        "id": "3sbCc1YgqhJH"
      }
    },
    {
      "cell_type": "code",
      "source": [
        "minha_lista = [\"string1\", 123, 3.14, True, \"string2\", [\"string3\", True, 42], 456, 7.89, False]\n",
        "\n",
        "minha_lista\n"
      ],
      "metadata": {
        "colab": {
          "base_uri": "https://localhost:8080/"
        },
        "id": "aGdw381ZrFRP",
        "outputId": "4c9ac779-b357-453c-ceb7-94829ee5c215"
      },
      "execution_count": null,
      "outputs": [
        {
          "output_type": "execute_result",
          "data": {
            "text/plain": [
              "['string1',\n",
              " 123,\n",
              " 3.14,\n",
              " True,\n",
              " 'string2',\n",
              " ['string3', True, 42],\n",
              " 456,\n",
              " 7.89,\n",
              " False]"
            ]
          },
          "metadata": {},
          "execution_count": 16
        }
      ]
    },
    {
      "cell_type": "code",
      "source": [
        "minha_lista[2]"
      ],
      "metadata": {
        "colab": {
          "base_uri": "https://localhost:8080/"
        },
        "id": "yQNB03yMrwJW",
        "outputId": "5ee09bb9-c094-4055-e3fe-0fff84e2d841"
      },
      "execution_count": null,
      "outputs": [
        {
          "output_type": "execute_result",
          "data": {
            "text/plain": [
              "3.14"
            ]
          },
          "metadata": {},
          "execution_count": 18
        }
      ]
    },
    {
      "cell_type": "code",
      "source": [
        "minha_lista[1:4]"
      ],
      "metadata": {
        "colab": {
          "base_uri": "https://localhost:8080/"
        },
        "id": "wiih-kzvsem7",
        "outputId": "a714d87a-0a09-4201-be55-9069dcd812d4"
      },
      "execution_count": null,
      "outputs": [
        {
          "output_type": "execute_result",
          "data": {
            "text/plain": [
              "[123, 3.14, True]"
            ]
          },
          "metadata": {},
          "execution_count": 19
        }
      ]
    },
    {
      "cell_type": "code",
      "source": [
        "minha_lista[:5]"
      ],
      "metadata": {
        "colab": {
          "base_uri": "https://localhost:8080/"
        },
        "id": "HDd3ntefs0FX",
        "outputId": "fcda7dee-c375-4cbc-e0c5-bd9d8d290b3b"
      },
      "execution_count": null,
      "outputs": [
        {
          "output_type": "execute_result",
          "data": {
            "text/plain": [
              "['string1', 123, 3.14, True, 'string2']"
            ]
          },
          "metadata": {},
          "execution_count": 20
        }
      ]
    },
    {
      "cell_type": "code",
      "source": [
        "minha_lista[4:]"
      ],
      "metadata": {
        "colab": {
          "base_uri": "https://localhost:8080/"
        },
        "id": "lu1vHvEytT_a",
        "outputId": "ccc2871f-c5f0-4ecc-f4d2-7b68e39426cd"
      },
      "execution_count": null,
      "outputs": [
        {
          "output_type": "execute_result",
          "data": {
            "text/plain": [
              "['string2', ['string3', True, 42], 456, 7.89, False]"
            ]
          },
          "metadata": {},
          "execution_count": 21
        }
      ]
    },
    {
      "cell_type": "code",
      "source": [
        "minha_lista[5]"
      ],
      "metadata": {
        "colab": {
          "base_uri": "https://localhost:8080/"
        },
        "id": "XHRfnGdatxHh",
        "outputId": "5bb87e7c-0467-4611-a29b-d4d4352fea31"
      },
      "execution_count": null,
      "outputs": [
        {
          "output_type": "execute_result",
          "data": {
            "text/plain": [
              "['string3', True, 42]"
            ]
          },
          "metadata": {},
          "execution_count": 23
        }
      ]
    },
    {
      "cell_type": "code",
      "source": [
        "minha_lista[5][2]"
      ],
      "metadata": {
        "colab": {
          "base_uri": "https://localhost:8080/"
        },
        "id": "XF4os5yxt__q",
        "outputId": "a30b57c8-ce1b-4498-e8f4-27c56511095a"
      },
      "execution_count": null,
      "outputs": [
        {
          "output_type": "execute_result",
          "data": {
            "text/plain": [
              "42"
            ]
          },
          "metadata": {},
          "execution_count": 24
        }
      ]
    },
    {
      "cell_type": "markdown",
      "source": [
        "<br>\n",
        "\n",
        "## ⚙️📋Operações com listas\n",
        "\n",
        "- **Soma de listas:** ao somar listas, os elementos são concatenados, na ordem dada, para formar uma lista maior:"
      ],
      "metadata": {
        "id": "VQ2MU1Rgvpz7"
      }
    },
    {
      "cell_type": "code",
      "source": [
        "lista1 = [1, 2, 3]\n",
        "lista2 = [4, 5, 6]\n",
        "\n",
        "lista_soma = lista1 + lista2\n",
        "\n",
        "lista_soma\n"
      ],
      "metadata": {
        "colab": {
          "base_uri": "https://localhost:8080/"
        },
        "id": "SFqbbBZ_v-pY",
        "outputId": "524eccf9-f724-4ff7-decf-cd5c0fb4d631"
      },
      "execution_count": null,
      "outputs": [
        {
          "output_type": "execute_result",
          "data": {
            "text/plain": [
              "[1, 2, 3, 4, 5, 6]"
            ]
          },
          "metadata": {},
          "execution_count": 25
        }
      ]
    },
    {
      "cell_type": "markdown",
      "source": [
        " - **Multiplicação de listas por um inteiro:** os elementos são repetidos na ordem que aparecem:"
      ],
      "metadata": {
        "id": "CiEJDrXiwcBy"
      }
    },
    {
      "cell_type": "code",
      "source": [
        "lista_multiplicacao = lista1 * 2\n",
        "\n",
        "lista_multiplicacao"
      ],
      "metadata": {
        "colab": {
          "base_uri": "https://localhost:8080/"
        },
        "id": "McaDoC-swlZy",
        "outputId": "5ea6eddc-a0c1-4f7f-ac65-f1e34ef7f30c"
      },
      "execution_count": null,
      "outputs": [
        {
          "output_type": "execute_result",
          "data": {
            "text/plain": [
              "[1, 2, 3, 1, 2, 3]"
            ]
          },
          "metadata": {},
          "execution_count": 26
        }
      ]
    },
    {
      "cell_type": "code",
      "source": [
        "lista3 = [\"python\"] * 5\n",
        "\n",
        "lista3"
      ],
      "metadata": {
        "colab": {
          "base_uri": "https://localhost:8080/"
        },
        "id": "S8QEMif1w84V",
        "outputId": "ae4c8a74-bfbb-4ce3-cf97-9f9d67ac4776"
      },
      "execution_count": null,
      "outputs": [
        {
          "output_type": "execute_result",
          "data": {
            "text/plain": [
              "['python', 'python', 'python', 'python', 'python']"
            ]
          },
          "metadata": {},
          "execution_count": 28
        }
      ]
    },
    {
      "cell_type": "markdown",
      "source": [
        "- Se quisermos somar os elementos de duas listas, ou multiplicá-los por algum número, temos que usar um **laço de repetição**."
      ],
      "metadata": {
        "id": "5mHYbw_9xU9c"
      }
    },
    {
      "cell_type": "markdown",
      "source": [
        "- É possível transformar strings em uma **lista de caracteres**:"
      ],
      "metadata": {
        "id": "qMVyx6byxqr4"
      }
    },
    {
      "cell_type": "code",
      "source": [
        "lista4 = list(\"PYTHON\")\n",
        "\n",
        "lista4"
      ],
      "metadata": {
        "colab": {
          "base_uri": "https://localhost:8080/"
        },
        "id": "ScQsFGkBxyMY",
        "outputId": "990aa1ac-9f76-4d51-e9ab-d52a7f60aa8f"
      },
      "execution_count": null,
      "outputs": [
        {
          "output_type": "execute_result",
          "data": {
            "text/plain": [
              "['P', 'Y', 'T', 'H', 'O', 'N']"
            ]
          },
          "metadata": {},
          "execution_count": 30
        }
      ]
    },
    {
      "cell_type": "markdown",
      "source": [
        "<br>\n",
        "\n",
        "## 🧮📋 Funções de Lista\n",
        "\n",
        "- Pode criar uma lista vazia.\n",
        "\n",
        "- **Exemplo código:**"
      ],
      "metadata": {
        "id": "UqVyEJjGywGX"
      }
    },
    {
      "cell_type": "code",
      "source": [
        "lista = []\n",
        "\n",
        "lista"
      ],
      "metadata": {
        "colab": {
          "base_uri": "https://localhost:8080/"
        },
        "id": "sxUPCNFjCTt7",
        "outputId": "809a3d22-5bf6-4e7e-a48a-2925910ab6d8"
      },
      "execution_count": 1,
      "outputs": [
        {
          "output_type": "execute_result",
          "data": {
            "text/plain": [
              "[]"
            ]
          },
          "metadata": {},
          "execution_count": 1
        }
      ]
    },
    {
      "cell_type": "markdown",
      "source": [
        "- Para adicionar um elemento na lista utilizamos a função ``apend()``.\n",
        "- A cada novo elemento essa função adiciona esse elemtno no fim da lista.\n",
        "\n",
        "<br>\n",
        "\n",
        "- **Observação: só podemos adicionar um elemento por vez utilizando essa função!**"
      ],
      "metadata": {
        "id": "Ao7vCCBxCmuD"
      }
    },
    {
      "cell_type": "code",
      "source": [
        "lista.append(20)\n",
        "\n",
        "lista"
      ],
      "metadata": {
        "colab": {
          "base_uri": "https://localhost:8080/"
        },
        "id": "yBC3W6yLDSEh",
        "outputId": "9f4e3260-5266-4e8f-88bd-0dc4956dc504"
      },
      "execution_count": 2,
      "outputs": [
        {
          "output_type": "execute_result",
          "data": {
            "text/plain": [
              "[20]"
            ]
          },
          "metadata": {},
          "execution_count": 2
        }
      ]
    },
    {
      "cell_type": "code",
      "source": [
        "lista.append(40)\n",
        "\n",
        "lista"
      ],
      "metadata": {
        "colab": {
          "base_uri": "https://localhost:8080/"
        },
        "id": "lxuRrp9qDZOw",
        "outputId": "72acd671-3d76-4835-cc2c-1469f7ceced4"
      },
      "execution_count": 3,
      "outputs": [
        {
          "output_type": "execute_result",
          "data": {
            "text/plain": [
              "[20, 40]"
            ]
          },
          "metadata": {},
          "execution_count": 3
        }
      ]
    },
    {
      "cell_type": "code",
      "source": [
        "lista.append(\"Ada\")\n",
        "lista.append(80)\n",
        "lista.append(100)\n",
        "\n",
        "lista"
      ],
      "metadata": {
        "colab": {
          "base_uri": "https://localhost:8080/"
        },
        "id": "qucPF0iHFmwf",
        "outputId": "79533167-f2ea-4c88-a56e-c870ee452036"
      },
      "execution_count": 4,
      "outputs": [
        {
          "output_type": "execute_result",
          "data": {
            "text/plain": [
              "[20, 40, 'Ada', 80, 100]"
            ]
          },
          "metadata": {},
          "execution_count": 4
        }
      ]
    },
    {
      "cell_type": "markdown",
      "source": [
        "- Se você quiser adicionar um elemento numa **posição específica**, use a função ``insert()``, onde o primeiro argumento é a posição, e o segundo é o elemento.\n",
        "\n",
        "<br>\n",
        "\n",
        "- **Observação: só podemos inserir um único elemento por vez!**"
      ],
      "metadata": {
        "id": "DR_04fp9FSyF"
      }
    },
    {
      "cell_type": "code",
      "source": [
        "lista.insert(2, True)\n",
        "\n",
        "lista"
      ],
      "metadata": {
        "colab": {
          "base_uri": "https://localhost:8080/"
        },
        "id": "9DaFbWTzFeXA",
        "outputId": "52b54e05-8225-4ff0-a491-924c8ddf25c8"
      },
      "execution_count": 5,
      "outputs": [
        {
          "output_type": "execute_result",
          "data": {
            "text/plain": [
              "[20, 40, True, 'Ada', 80, 100]"
            ]
          },
          "metadata": {},
          "execution_count": 5
        }
      ]
    },
    {
      "cell_type": "markdown",
      "source": [
        "<br>\n",
        "\n",
        "- Podemos **redefinir um elemento da lista individualmente**.\n",
        "- Para isso, informamos a lista com a posição do elemento que requemos mudar e e atribuímos um novo valor."
      ],
      "metadata": {
        "id": "kMiZV13GWr5-"
      }
    },
    {
      "cell_type": "code",
      "source": [
        "lista[3] = 60\n",
        "\n",
        "lista"
      ],
      "metadata": {
        "colab": {
          "base_uri": "https://localhost:8080/"
        },
        "id": "iol9ValnXQe5",
        "outputId": "13869107-2a42-4eba-ef57-7cf44c06fc1b"
      },
      "execution_count": 6,
      "outputs": [
        {
          "output_type": "execute_result",
          "data": {
            "text/plain": [
              "[20, 40, True, 60, 80, 100]"
            ]
          },
          "metadata": {},
          "execution_count": 6
        }
      ]
    },
    {
      "cell_type": "code",
      "source": [
        "lista[2] = lista[1] + 10"
      ],
      "metadata": {
        "id": "_gtbh0jPXq2g"
      },
      "execution_count": 7,
      "outputs": []
    },
    {
      "cell_type": "code",
      "source": [
        "lista"
      ],
      "metadata": {
        "colab": {
          "base_uri": "https://localhost:8080/"
        },
        "id": "pCBX6HvfXxPd",
        "outputId": "cfa3af2d-5403-4a1f-b2fc-872542c7d0d6"
      },
      "execution_count": 8,
      "outputs": [
        {
          "output_type": "execute_result",
          "data": {
            "text/plain": [
              "[20, 40, 50, 60, 80, 100]"
            ]
          },
          "metadata": {},
          "execution_count": 8
        }
      ]
    },
    {
      "cell_type": "markdown",
      "source": [
        "- Para **remover um elemento da lista**, use a função ``remove()``.\n",
        "\n",
        "<br>\n",
        "\n",
        "**Observação: Essa função remove apenas a primeira aparição do elemento!**"
      ],
      "metadata": {
        "id": "dZP5SGGyX6k6"
      }
    },
    {
      "cell_type": "code",
      "source": [
        "lista.remove(50)"
      ],
      "metadata": {
        "id": "dnklcb78YIn9"
      },
      "execution_count": 9,
      "outputs": []
    },
    {
      "cell_type": "code",
      "source": [
        "lista"
      ],
      "metadata": {
        "colab": {
          "base_uri": "https://localhost:8080/"
        },
        "id": "pzriP0I3Yksu",
        "outputId": "d06b72a1-fa91-4e58-e828-0a8d88596f01"
      },
      "execution_count": 10,
      "outputs": [
        {
          "output_type": "execute_result",
          "data": {
            "text/plain": [
              "[20, 40, 60, 80, 100]"
            ]
          },
          "metadata": {},
          "execution_count": 10
        }
      ]
    },
    {
      "cell_type": "code",
      "source": [
        "lista.append(50)\n",
        "lista.append(90)\n",
        "lista.append(50)\n",
        "\n",
        "lista"
      ],
      "metadata": {
        "colab": {
          "base_uri": "https://localhost:8080/"
        },
        "id": "jsquU8TaYtZT",
        "outputId": "f079d16e-5a43-433c-ab9a-8228924ca61b"
      },
      "execution_count": 11,
      "outputs": [
        {
          "output_type": "execute_result",
          "data": {
            "text/plain": [
              "[20, 40, 60, 80, 100, 50, 90, 50]"
            ]
          },
          "metadata": {},
          "execution_count": 11
        }
      ]
    },
    {
      "cell_type": "code",
      "source": [
        "lista.remove(50)"
      ],
      "metadata": {
        "id": "rQoIzAjGY56A"
      },
      "execution_count": 12,
      "outputs": []
    },
    {
      "cell_type": "code",
      "source": [
        "lista"
      ],
      "metadata": {
        "colab": {
          "base_uri": "https://localhost:8080/"
        },
        "id": "BroB1ecqY9SK",
        "outputId": "b99533f7-eeba-411c-fbba-5dafcaff6aab"
      },
      "execution_count": 13,
      "outputs": [
        {
          "output_type": "execute_result",
          "data": {
            "text/plain": [
              "[20, 40, 60, 80, 100, 90, 50]"
            ]
          },
          "metadata": {},
          "execution_count": 13
        }
      ]
    },
    {
      "cell_type": "markdown",
      "source": [
        "- Para remover um elemento de um determinado índice utilizamos a função ``pop()``."
      ],
      "metadata": {
        "id": "yXMN1-_Hx3Kc"
      }
    },
    {
      "cell_type": "code",
      "source": [
        "lista.pop(5)\n",
        "\n",
        "lista"
      ],
      "metadata": {
        "id": "z5I5MVGTyKNg",
        "outputId": "19456d0a-7517-4df5-cb43-607554c0e068",
        "colab": {
          "base_uri": "https://localhost:8080/"
        }
      },
      "execution_count": 14,
      "outputs": [
        {
          "output_type": "execute_result",
          "data": {
            "text/plain": [
              "[20, 40, 60, 80, 100, 50]"
            ]
          },
          "metadata": {},
          "execution_count": 14
        }
      ]
    },
    {
      "cell_type": "markdown",
      "source": [
        "- É possível ordenar a lista utizando a função ``sorted()``.\n",
        "\n",
        "<br>\n",
        "\n",
        "**Observação:** essa função só funciona para listas com o mesmo tipo de dado!"
      ],
      "metadata": {
        "id": "Vui_E_D7dhXP"
      }
    },
    {
      "cell_type": "code",
      "source": [
        "lista_aleatoria_numeros = [100, 20, 80, 40, 60, 0, 2.4, 40.4]"
      ],
      "metadata": {
        "id": "MaEV6yDyd62H"
      },
      "execution_count": 15,
      "outputs": []
    },
    {
      "cell_type": "code",
      "source": [
        "# Agora ordenando a lista com a função sorted\n",
        "sorted(lista_aleatoria_numeros)"
      ],
      "metadata": {
        "colab": {
          "base_uri": "https://localhost:8080/"
        },
        "id": "aR07ht4xfG8q",
        "outputId": "28df6543-aaa3-4e5b-98d2-b3ec34522817"
      },
      "execution_count": 16,
      "outputs": [
        {
          "output_type": "execute_result",
          "data": {
            "text/plain": [
              "[0, 2.4, 20, 40, 40.4, 60, 80, 100]"
            ]
          },
          "metadata": {},
          "execution_count": 16
        }
      ]
    },
    {
      "cell_type": "code",
      "source": [
        "# Agora vamos ver a ordenação com uma lista de strings\n",
        "herois_dc = [\"Superman\", \"Batman\", \"Mulher-Maravilha\", \"Flash\", \"Aquaman\"]\n",
        "\n",
        "herois_dc"
      ],
      "metadata": {
        "colab": {
          "base_uri": "https://localhost:8080/"
        },
        "id": "Dib1dIg7fiuY",
        "outputId": "2df28178-19f3-44a3-bd0d-93dc690fd9d4"
      },
      "execution_count": 17,
      "outputs": [
        {
          "output_type": "execute_result",
          "data": {
            "text/plain": [
              "['Superman', 'Batman', 'Mulher-Maravilha', 'Flash', 'Aquaman']"
            ]
          },
          "metadata": {},
          "execution_count": 17
        }
      ]
    },
    {
      "cell_type": "code",
      "source": [
        "sorted(herois_dc)"
      ],
      "metadata": {
        "colab": {
          "base_uri": "https://localhost:8080/"
        },
        "id": "NcTLIplJf5xN",
        "outputId": "a6c3f025-564d-4db2-aa56-defc9636d42f"
      },
      "execution_count": 18,
      "outputs": [
        {
          "output_type": "execute_result",
          "data": {
            "text/plain": [
              "['Aquaman', 'Batman', 'Flash', 'Mulher-Maravilha', 'Superman']"
            ]
          },
          "metadata": {},
          "execution_count": 18
        }
      ]
    },
    {
      "cell_type": "markdown",
      "source": [
        "<br>\n",
        "\n",
        "- Para inverter a ordem dos elementos, basta adicionar ao final da lista ``[::-1]``."
      ],
      "metadata": {
        "id": "XPz9nS2Tgy1z"
      }
    },
    {
      "cell_type": "code",
      "source": [
        "# Lista de números\n",
        "lista_aleatoria_numeros[::-1]"
      ],
      "metadata": {
        "colab": {
          "base_uri": "https://localhost:8080/"
        },
        "id": "uXHIGG3ThBRK",
        "outputId": "d8c82282-e006-4599-914e-c49f9bff1219"
      },
      "execution_count": 19,
      "outputs": [
        {
          "output_type": "execute_result",
          "data": {
            "text/plain": [
              "[40.4, 2.4, 0, 60, 40, 80, 20, 100]"
            ]
          },
          "metadata": {},
          "execution_count": 19
        }
      ]
    },
    {
      "cell_type": "code",
      "source": [
        "sorted(lista_aleatoria_numeros)[::-1]"
      ],
      "metadata": {
        "colab": {
          "base_uri": "https://localhost:8080/"
        },
        "id": "YGWqDv6Shf03",
        "outputId": "faebb557-38ac-4203-ad90-c9af42fa0455"
      },
      "execution_count": 21,
      "outputs": [
        {
          "output_type": "execute_result",
          "data": {
            "text/plain": [
              "[100, 80, 60, 40.4, 40, 20, 2.4, 0]"
            ]
          },
          "metadata": {},
          "execution_count": 21
        }
      ]
    },
    {
      "cell_type": "code",
      "source": [
        "# Lista de strings\n",
        "sorted(herois_dc)[::-1]"
      ],
      "metadata": {
        "colab": {
          "base_uri": "https://localhost:8080/"
        },
        "id": "KzlST3SghxvX",
        "outputId": "caa51428-ecf6-455c-afb1-cbb0ee114c6e"
      },
      "execution_count": 22,
      "outputs": [
        {
          "output_type": "execute_result",
          "data": {
            "text/plain": [
              "['Superman', 'Mulher-Maravilha', 'Flash', 'Batman', 'Aquaman']"
            ]
          },
          "metadata": {},
          "execution_count": 22
        }
      ]
    },
    {
      "cell_type": "markdown",
      "source": [
        "<br>\n",
        "\n",
        "- Podemos também descobrir a posição do elemento utilizando a função ``index()``.\n",
        "- Essa função retornará **apenas a primeira aparição** do elemento procurado."
      ],
      "metadata": {
        "id": "5ikWAsLriJeE"
      }
    },
    {
      "cell_type": "code",
      "source": [
        "lista_aleatoria_numeros.index(40)"
      ],
      "metadata": {
        "colab": {
          "base_uri": "https://localhost:8080/"
        },
        "id": "RtJ_BGXVijGW",
        "outputId": "871b4866-9bcf-41b7-ed0d-1c82a5e0036e"
      },
      "execution_count": 23,
      "outputs": [
        {
          "output_type": "execute_result",
          "data": {
            "text/plain": [
              "3"
            ]
          },
          "metadata": {},
          "execution_count": 23
        }
      ]
    },
    {
      "cell_type": "markdown",
      "source": [
        "<br>\n",
        "\n",
        "- Por fim, podemos encontrar algumas **propriedades dos elementos em uma lista:**"
      ],
      "metadata": {
        "id": "7FNE4FIFjmHZ"
      }
    },
    {
      "cell_type": "code",
      "source": [
        "lista_aleatoria_numeros"
      ],
      "metadata": {
        "colab": {
          "base_uri": "https://localhost:8080/"
        },
        "id": "kFtJMXnTj73m",
        "outputId": "f6d40e96-4120-4067-a049-de4ff6c6fde9"
      },
      "execution_count": 24,
      "outputs": [
        {
          "output_type": "execute_result",
          "data": {
            "text/plain": [
              "[100, 20, 80, 40, 60, 0, 2.4, 40.4]"
            ]
          },
          "metadata": {},
          "execution_count": 24
        }
      ]
    },
    {
      "cell_type": "markdown",
      "source": [
        "- Para encontrar o maior elemento da lista, utilizamos a função ``max()``."
      ],
      "metadata": {
        "id": "Q4hoOuCEkDit"
      }
    },
    {
      "cell_type": "code",
      "source": [
        "max(lista_aleatoria_numeros)"
      ],
      "metadata": {
        "colab": {
          "base_uri": "https://localhost:8080/"
        },
        "id": "Ghx2OAwHkRKo",
        "outputId": "de473036-09d8-46a7-c8fd-17ed69aeb833"
      },
      "execution_count": 26,
      "outputs": [
        {
          "output_type": "execute_result",
          "data": {
            "text/plain": [
              "100"
            ]
          },
          "metadata": {},
          "execution_count": 26
        }
      ]
    },
    {
      "cell_type": "markdown",
      "source": [
        "- Para encontrar o menor elemento da lista, utilizamos a função ``min()``."
      ],
      "metadata": {
        "id": "fIIjb3dUkg4D"
      }
    },
    {
      "cell_type": "code",
      "source": [
        "min(lista_aleatoria_numeros)"
      ],
      "metadata": {
        "colab": {
          "base_uri": "https://localhost:8080/"
        },
        "id": "QDXnzbSckm_B",
        "outputId": "5f744038-24b8-4c9a-d997-24e7ce66c6f2"
      },
      "execution_count": 27,
      "outputs": [
        {
          "output_type": "execute_result",
          "data": {
            "text/plain": [
              "0"
            ]
          },
          "metadata": {},
          "execution_count": 27
        }
      ]
    },
    {
      "cell_type": "markdown",
      "source": [
        "- Utilizamos a função ``len()`` para saber o número de elementos na lista, ou seja, o tamanho da nossa lista."
      ],
      "metadata": {
        "id": "ETfacla9k1nW"
      }
    },
    {
      "cell_type": "code",
      "source": [
        "len(lista_aleatoria_numeros)"
      ],
      "metadata": {
        "colab": {
          "base_uri": "https://localhost:8080/"
        },
        "id": "HqxTXwAllDVA",
        "outputId": "6886ab59-840f-4192-fa3d-5d58e0a28a27"
      },
      "execution_count": 28,
      "outputs": [
        {
          "output_type": "execute_result",
          "data": {
            "text/plain": [
              "8"
            ]
          },
          "metadata": {},
          "execution_count": 28
        }
      ]
    },
    {
      "cell_type": "markdown",
      "source": [
        "- Para somar todos os elementos da lista, utilizamos a função ``sum()``."
      ],
      "metadata": {
        "id": "dYSWhJAfleu-"
      }
    },
    {
      "cell_type": "code",
      "source": [
        "sum(lista_aleatoria_numeros)"
      ],
      "metadata": {
        "colab": {
          "base_uri": "https://localhost:8080/"
        },
        "id": "AT3Y5DQzlmTy",
        "outputId": "42d96be7-8f9d-4227-a7bc-6cda29352cc1"
      },
      "execution_count": 29,
      "outputs": [
        {
          "output_type": "execute_result",
          "data": {
            "text/plain": [
              "342.79999999999995"
            ]
          },
          "metadata": {},
          "execution_count": 29
        }
      ]
    },
    {
      "cell_type": "markdown",
      "source": [
        "- Com função ``sum()`` juntamente com a função ``len()`` podemos encontrar a média de números da lista. Veja:"
      ],
      "metadata": {
        "id": "cjyFi7qIlzNQ"
      }
    },
    {
      "cell_type": "code",
      "source": [
        "sum(lista_aleatoria_numeros) / len(lista_aleatoria_numeros)"
      ],
      "metadata": {
        "colab": {
          "base_uri": "https://localhost:8080/"
        },
        "id": "X-g3W-xrmL2z",
        "outputId": "b588ecca-fb50-44ff-8367-32709d2f684c"
      },
      "execution_count": 30,
      "outputs": [
        {
          "output_type": "execute_result",
          "data": {
            "text/plain": [
              "42.849999999999994"
            ]
          },
          "metadata": {},
          "execution_count": 30
        }
      ]
    },
    {
      "cell_type": "markdown",
      "source": [
        "<br>\n",
        "\n",
        "- Vamos fazer um exemplo com média de notas.\n",
        "- O usuário deverá a quantidade de notas e logo depois ele digitará as notas.\n",
        "- Usando o laço de repetição while, vamos receber as notas digitadas pelo usuário.\n",
        "- Teremos uma lista que deverá receber as notas digitadas.\n",
        "- E por fim calcularemos a média e depois informamos o resultado da média das notas informadas pelo usuário."
      ],
      "metadata": {
        "id": "qFJ31s1qmwGQ"
      }
    },
    {
      "cell_type": "code",
      "source": [
        "num_notas = 0\n",
        "\n",
        "num_notas = int(input(\"Quantas notas você deseja informar?\"))\n",
        "\n",
        "# criando a variável contadora\n",
        "cont = 1\n",
        "\n",
        "# lista de notas vazia\n",
        "notas = []\n",
        "\n",
        "while cont <= num_notas:\n",
        "  nota = float(input(\"Digite a nota: \"))\n",
        "  notas.append(nota)\n",
        "  cont += 1\n",
        "\n",
        "media_notas = sum(notas) / len(notas)\n",
        "\n",
        "print(f\"A média das notas informadas é: {media_notas}\")"
      ],
      "metadata": {
        "colab": {
          "base_uri": "https://localhost:8080/"
        },
        "id": "uiPiAS_jniSZ",
        "outputId": "9efac3ba-2c01-41ab-a501-2201cf419b1c"
      },
      "execution_count": 31,
      "outputs": [
        {
          "output_type": "stream",
          "name": "stdout",
          "text": [
            "Quantas notas você deseja informar?4\n",
            "Digite a nota: 8.5\n",
            "Digite a nota: 8.0\n",
            "Digite a nota: 9.8\n",
            "Digite a nota: 7.4\n",
            "A média das notas informadas é: 8.425\n"
          ]
        }
      ]
    }
  ]
}